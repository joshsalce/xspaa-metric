{
 "cells": [
  {
   "cell_type": "code",
   "execution_count": 1,
   "id": "ed1eeaf2",
   "metadata": {
    "_execution_state": "idle",
    "_uuid": "051d70d956493feee0c6d64651c6a088724dca2a",
    "execution": {
     "iopub.execute_input": "2025-02-20T06:29:18.183522Z",
     "iopub.status.busy": "2025-02-20T06:29:18.182991Z",
     "iopub.status.idle": "2025-02-20T06:29:20.986077Z",
     "shell.execute_reply": "2025-02-20T06:29:20.984369Z"
    },
    "papermill": {
     "duration": 2.81153,
     "end_time": "2025-02-20T06:29:20.988510",
     "exception": false,
     "start_time": "2025-02-20T06:29:18.176980",
     "status": "completed"
    },
    "tags": []
   },
   "outputs": [
    {
     "name": "stdout",
     "output_type": "stream",
     "text": [
      "/kaggle/input/xspaa-data/event_predictions.csv\n",
      "/kaggle/input/xspaa-data/test_set.csv\n",
      "/kaggle/input/xspaa-data/training_set.csv\n",
      "/kaggle/input/xspaa-data/points_data.csv\n"
     ]
    }
   ],
   "source": [
    "import matplotlib.pyplot as plt\n",
    "import matplotlib.animation as animation\n",
    "from matplotlib.animation import FuncAnimation, PillowWriter\n",
    "import numpy as np\n",
    "import warnings\n",
    "import pandas as pd\n",
    "import seaborn as sns\n",
    "import glob\n",
    "from PIL import Image\n",
    "import imageio\n",
    "\n",
    "\n",
    "import os\n",
    "for dirname, _, filenames in os.walk('/kaggle/input'):\n",
    "    for filename in filenames:\n",
    "        print(os.path.join(dirname, filename))\n",
    "        \n",
    "warnings.filterwarnings(\"ignore\")"
   ]
  },
  {
   "cell_type": "code",
   "execution_count": 2,
   "id": "46e2eabd",
   "metadata": {
    "execution": {
     "iopub.execute_input": "2025-02-20T06:29:21.004133Z",
     "iopub.status.busy": "2025-02-20T06:29:21.003451Z",
     "iopub.status.idle": "2025-02-20T06:29:21.043962Z",
     "shell.execute_reply": "2025-02-20T06:29:21.042435Z"
    },
    "papermill": {
     "duration": 0.052308,
     "end_time": "2025-02-20T06:29:21.046943",
     "exception": false,
     "start_time": "2025-02-20T06:29:20.994635",
     "status": "completed"
    },
    "tags": []
   },
   "outputs": [],
   "source": [
    "event_predictions = pd.read_csv(\"../input/xspaa-data/event_predictions.csv\")\n",
    "points_data = pd.read_csv(\"../input/xspaa-data/points_data.csv\") \n",
    "\n",
    "points_data[\"returner\"] = np.where(points_data.rallyid == 196, \"Nadal\", points_data.returner)"
   ]
  },
  {
   "cell_type": "markdown",
   "id": "327cfafd",
   "metadata": {
    "papermill": {
     "duration": 0.003792,
     "end_time": "2025-02-20T06:29:21.057555",
     "exception": false,
     "start_time": "2025-02-20T06:29:21.053763",
     "status": "completed"
    },
    "tags": []
   },
   "source": [
    "# Prepare Data "
   ]
  },
  {
   "cell_type": "code",
   "execution_count": 3,
   "id": "f7e6010d",
   "metadata": {
    "execution": {
     "iopub.execute_input": "2025-02-20T06:29:21.066979Z",
     "iopub.status.busy": "2025-02-20T06:29:21.066494Z",
     "iopub.status.idle": "2025-02-20T06:29:21.096848Z",
     "shell.execute_reply": "2025-02-20T06:29:21.095428Z"
    },
    "papermill": {
     "duration": 0.037344,
     "end_time": "2025-02-20T06:29:21.098740",
     "exception": false,
     "start_time": "2025-02-20T06:29:21.061396",
     "status": "completed"
    },
    "tags": []
   },
   "outputs": [],
   "source": [
    "# Rename columns\n",
    "event_predictions_renamed = event_predictions.rename(columns = {\n",
    "    \"server_x\": \"server_y\",\n",
    "    \"server_y\": \"server_x\",\n",
    "    \"receiver_x\": \"receiver_y\",\n",
    "    \"receiver_y\": \"receiver_x\"\n",
    "})\n",
    "\n",
    "event_predictions_join = pd.merge(points_data[[\"rallyid\", \"server\", \"returner\"]], \n",
    "                                  event_predictions_renamed, on = \"rallyid\")\n",
    "\n",
    "# Create hitter, receiver names column\n",
    "event_predictions_join[\"hitter\"] = np.where(event_predictions_join.strokeid % 2 == 0, \n",
    "                                            event_predictions_join.returner, event_predictions_join.server)\n",
    "event_predictions_join[\"receiver\"] = np.where(event_predictions_join.strokeid % 2 == 0, \n",
    "                                             event_predictions_join.server, event_predictions_join.returner)"
   ]
  },
  {
   "cell_type": "code",
   "execution_count": 4,
   "id": "01cac109",
   "metadata": {
    "execution": {
     "iopub.execute_input": "2025-02-20T06:29:21.108689Z",
     "iopub.status.busy": "2025-02-20T06:29:21.108218Z",
     "iopub.status.idle": "2025-02-20T06:29:21.126978Z",
     "shell.execute_reply": "2025-02-20T06:29:21.125781Z"
    },
    "papermill": {
     "duration": 0.02582,
     "end_time": "2025-02-20T06:29:21.128932",
     "exception": false,
     "start_time": "2025-02-20T06:29:21.103112",
     "status": "completed"
    },
    "tags": []
   },
   "outputs": [],
   "source": [
    "# Encode \"ball position\" using hitter location, conditional on strokeid\n",
    "ball_pos = event_predictions_join[[\"rallyid\", \"strokeid\", \"hitter\", \"receiver\", \n",
    "                                   \"server_x\", \"server_y\", \"receiver_x\", \"receiver_y\"]]\n",
    "\n",
    "ball_pos[\"ball_x\"] = np.where(ball_pos.strokeid % 2 == 1, ball_pos.server_x, ball_pos.receiver_x)\n",
    "ball_pos[\"ball_y\"] = np.where(ball_pos.strokeid % 2 == 1, ball_pos.server_y, ball_pos.receiver_y)\n",
    "\n",
    "# Create new variables for player positions\n",
    "ball_pos[\"nadal_x\"] = np.where(ball_pos.hitter == \"Nadal\", ball_pos.ball_x, np.nan)\n",
    "ball_pos[\"nadal_y\"] = np.where(ball_pos.hitter == \"Nadal\", ball_pos.ball_y, np.nan)\n",
    "\n",
    "ball_pos[\"djokovic_x\"] = np.where(ball_pos.hitter == \"Djokovic\", ball_pos.ball_x, np.nan)\n",
    "ball_pos[\"djokovic_y\"] = np.where(ball_pos.hitter == \"Djokovic\", ball_pos.ball_y, np.nan)\n",
    "\n",
    "ball_pos.drop([\"receiver_x\", \"receiver_y\"], axis = 1, inplace = True)"
   ]
  },
  {
   "cell_type": "code",
   "execution_count": 5,
   "id": "1b28a154",
   "metadata": {
    "execution": {
     "iopub.execute_input": "2025-02-20T06:29:21.138941Z",
     "iopub.status.busy": "2025-02-20T06:29:21.138507Z",
     "iopub.status.idle": "2025-02-20T06:29:21.159214Z",
     "shell.execute_reply": "2025-02-20T06:29:21.157843Z"
    },
    "papermill": {
     "duration": 0.028382,
     "end_time": "2025-02-20T06:29:21.161614",
     "exception": false,
     "start_time": "2025-02-20T06:29:21.133232",
     "status": "completed"
    },
    "tags": []
   },
   "outputs": [],
   "source": [
    "# Fill the new variables with starting positions for the return player\n",
    "event_predictions_receiver_locs = event_predictions_join[[\"rallyid\", \"strokeid\", \"receiver_x\", \"receiver_y\"]]\n",
    "\n",
    "# Join data with receiver locations, create Nadal and Djokovic location columns\n",
    "ball_player_pos = pd.merge(ball_pos, event_predictions_receiver_locs, on = [\"rallyid\", \"strokeid\"], how = \"left\")\n",
    "\n",
    "ball_player_pos[\"nadal_x\"] = np.where((ball_player_pos.strokeid == 1) & (ball_player_pos.receiver == \"Nadal\"), \n",
    "                                      ball_player_pos.receiver_x, ball_player_pos.nadal_x)\n",
    "\n",
    "ball_player_pos[\"nadal_y\"] = np.where((ball_player_pos.strokeid == 1) & (ball_player_pos.receiver == \"Nadal\"), \n",
    "                                      ball_player_pos.receiver_y, ball_player_pos.nadal_y)\n",
    "\n",
    "ball_player_pos[\"djokovic_x\"] = np.where((ball_player_pos.strokeid == 1) & (ball_player_pos.receiver == \"Djokovic\"), \n",
    "                                      ball_player_pos.receiver_x, ball_player_pos.djokovic_x)\n",
    "\n",
    "ball_player_pos[\"djokovic_y\"] = np.where((ball_player_pos.strokeid == 1) & (ball_player_pos.receiver == \"Djokovic\"), \n",
    "                                      ball_player_pos.receiver_y, ball_player_pos.djokovic_y)"
   ]
  },
  {
   "cell_type": "code",
   "execution_count": 6,
   "id": "a73666ad",
   "metadata": {
    "execution": {
     "iopub.execute_input": "2025-02-20T06:29:21.172230Z",
     "iopub.status.busy": "2025-02-20T06:29:21.171800Z",
     "iopub.status.idle": "2025-02-20T06:29:21.323053Z",
     "shell.execute_reply": "2025-02-20T06:29:21.321897Z"
    },
    "papermill": {
     "duration": 0.158869,
     "end_time": "2025-02-20T06:29:21.325228",
     "exception": false,
     "start_time": "2025-02-20T06:29:21.166359",
     "status": "completed"
    },
    "tags": []
   },
   "outputs": [],
   "source": [
    "def update_positions(df):\n",
    "    \"\"\"\n",
    "    Purpose: Update player positions with the end positions of a rally.\n",
    "\n",
    "    Input(s):\n",
    "        df (pd.DataFrame): DataFrame containing rally data.\n",
    "\n",
    "    Output(s):\n",
    "        df (pd.DataFrame): Updated DataFrame with player positions filled.\n",
    "    \"\"\"\n",
    "    \n",
    "    df = df.sort_values(by=['rallyid', 'strokeid'])\n",
    "    \n",
    "    for rallyid, group in df.groupby('rallyid'):\n",
    "        for idx, row in group.iterrows():\n",
    "            if row['strokeid'] == group['strokeid'].max() and row['strokeid'] != 1:\n",
    "                if row['receiver'] == 'Nadal':\n",
    "                    df.loc[idx, 'nadal_x'] = group.loc[group['strokeid'] == row['strokeid'] - 1, 'nadal_x'].values[0]\n",
    "                    df.loc[idx, 'nadal_y'] = group.loc[group['strokeid'] == row['strokeid'] - 1, 'nadal_y'].values[0]\n",
    "                if row['receiver'] == 'Djokovic':\n",
    "                    df.loc[idx, 'djokovic_x'] = group.loc[group['strokeid'] == row['strokeid'] - 1, 'djokovic_x'].values[0]\n",
    "                    df.loc[idx, 'djokovic_y'] = group.loc[group['strokeid'] == row['strokeid'] - 1, 'djokovic_y'].values[0]\n",
    "    return df\n",
    "\n",
    "def interpolate_positions(df):\n",
    "    \"\"\"\n",
    "    Purpose: Interpolate player positions between each hit.\n",
    "\n",
    "    Input(s):\n",
    "        df (pd.DataFrame): DataFrame containing rally data.\n",
    "\n",
    "    Output(s):\n",
    "        df (pd.DataFrame): Updated DataFrame with interpolated player positions.\n",
    "    \"\"\"\n",
    "    \n",
    "    for rallyid, group in df.groupby('rallyid'):\n",
    "        group = group.reset_index()\n",
    "        for i, row in group.iterrows():\n",
    "            if pd.isna(row['nadal_x']) and i > 0 and i < len(group) - 1:\n",
    "                df.loc[row['index'], 'nadal_x'] = (group.loc[i-1, 'nadal_x'] + group.loc[i+1, 'nadal_x']) / 2\n",
    "            if pd.isna(row['nadal_y']) and i > 0 and i < len(group) - 1:\n",
    "                df.loc[row['index'], 'nadal_y'] = (group.loc[i-1, 'nadal_y'] + group.loc[i+1, 'nadal_y']) / 2\n",
    "            if pd.isna(row['djokovic_x']) and i > 0 and i < len(group) - 1:\n",
    "                df.loc[row['index'], 'djokovic_x'] = (group.loc[i-1, 'djokovic_x'] + group.loc[i+1, 'djokovic_x']) / 2\n",
    "            if pd.isna(row['djokovic_y']) and i > 0 and i < len(group) - 1:\n",
    "                df.loc[row['index'], 'djokovic_y'] = (group.loc[i-1, 'djokovic_y'] + group.loc[i+1, 'djokovic_y']) / 2\n",
    "    return df\n",
    "\n",
    "ball_player_pos = update_positions(ball_player_pos)\n",
    "ball_player_pos = interpolate_positions(ball_player_pos)"
   ]
  },
  {
   "cell_type": "code",
   "execution_count": 7,
   "id": "9cc58721",
   "metadata": {
    "execution": {
     "iopub.execute_input": "2025-02-20T06:29:21.335450Z",
     "iopub.status.busy": "2025-02-20T06:29:21.334990Z",
     "iopub.status.idle": "2025-02-20T06:29:21.349636Z",
     "shell.execute_reply": "2025-02-20T06:29:21.348540Z"
    },
    "papermill": {
     "duration": 0.021919,
     "end_time": "2025-02-20T06:29:21.351726",
     "exception": false,
     "start_time": "2025-02-20T06:29:21.329807",
     "status": "completed"
    },
    "tags": []
   },
   "outputs": [],
   "source": [
    "# Gather data for points, event probabilities\n",
    "points_data_join = points_data[[\"rallyid\", \"score\"]]\n",
    "\n",
    "event_pred_probas = event_predictions_join[[\"rallyid\", \"strokeid\", \"prob\"]]\n",
    "\n",
    "# Add in event probabilities and game score\n",
    "ball_player_pos_data = pd.merge(ball_player_pos, points_data_join, on = \"rallyid\")\n",
    "ball_player_pos_data = pd.merge(ball_player_pos_data, event_pred_probas, on = [\"rallyid\", \"strokeid\"])\n",
    "\n",
    "ball_player_pos_data[\"prob\"] = round(ball_player_pos_data.prob * 100, 1)"
   ]
  },
  {
   "cell_type": "markdown",
   "id": "6003e610",
   "metadata": {
    "papermill": {
     "duration": 0.003669,
     "end_time": "2025-02-20T06:29:21.359603",
     "exception": false,
     "start_time": "2025-02-20T06:29:21.355934",
     "status": "completed"
    },
    "tags": []
   },
   "source": [
    "# Create GIFs"
   ]
  },
  {
   "cell_type": "code",
   "execution_count": 8,
   "id": "eb1043ce",
   "metadata": {
    "execution": {
     "iopub.execute_input": "2025-02-20T06:29:21.368864Z",
     "iopub.status.busy": "2025-02-20T06:29:21.368431Z",
     "iopub.status.idle": "2025-02-20T06:29:21.381197Z",
     "shell.execute_reply": "2025-02-20T06:29:21.380037Z"
    },
    "papermill": {
     "duration": 0.020103,
     "end_time": "2025-02-20T06:29:21.383510",
     "exception": false,
     "start_time": "2025-02-20T06:29:21.363407",
     "status": "completed"
    },
    "tags": []
   },
   "outputs": [],
   "source": [
    "# Initialize global variables\n",
    "height_court = 11.89*2\n",
    "width_court = 10.97\n",
    "\n",
    "service_box = 6.4\n",
    "double_field = 1.37\n",
    "baseline_serviceline = 5.5\n",
    "breite_einzel = 8.23\n",
    "serviceline_net = 6.4\n",
    "\n",
    "def create_discrete_colormap(n, base_cmap=None):\n",
    "    \"\"\"    \n",
    "    Purpose: Create discrete color mapping for column listed 1-N\n",
    "\n",
    "    Input(s):\n",
    "        n (int): Number of discrete colors to create in the colormap.\n",
    "        base_cmap (str or None): The name of the base colormap to use. If None, the default colormap is used.\n",
    "    \n",
    "    Output(s):\n",
    "        LinearSegmentedColormap: A discrete colormap with `n` discrete colors.\n",
    "    \"\"\"\n",
    "    \n",
    "    # Get the base colormap from matplotlib\n",
    "    base = plt.cm.get_cmap(base_cmap)\n",
    "    \n",
    "    # Generate `n` evenly spaced colors from the base colormap\n",
    "    color_list = base(np.linspace(0, 1, n))\n",
    "    \n",
    "    # Create a unique name for the discrete colormap\n",
    "    cmap_name = base.name + str(n)\n",
    "\n",
    "    # Create a discrete colormap from the color list\n",
    "    discrete_cmap = mcolors.LinearSegmentedColormap.from_list(cmap_name, color_list, n)\n",
    "    \n",
    "    return discrete_cmap\n",
    "\n",
    "def draw_court_horz(hide_axes=True):\n",
    "    \"\"\"\n",
    "    Purpose: Draw tennis court visual with optional hidden axes.\n",
    "    (Code courtesy of https://www.kaggle.com/code/robseidl/australian-open-mens-final-2019-data-exploration)\n",
    "\n",
    "    Input(s):\n",
    "        hide_axes (bool): If True, the axes will be hidden. Default is False.\n",
    "    \n",
    "    Output(s):\n",
    "        fig, axes (tuple): Contains the figure and axes objects.\n",
    "    \"\"\"\n",
    "    \n",
    "    # Create a figure with specified size based on court dimensions\n",
    "    fig = plt.figure(figsize=(height_court/2, width_court/2))\n",
    "    \n",
    "    # Alternative figure size (commented out)\n",
    "    # fig = plt.figure(figsize=(9, 9))\n",
    "    fig.patch.set_facecolor('#5080B0')\n",
    "\n",
    "    # Add subplot with a specified background color\n",
    "    axes = fig.add_subplot(1, 1, 1, facecolor='#5080B0')\n",
    "\n",
    "    # Optionally hide the axes\n",
    "    if hide_axes:\n",
    "        axes.xaxis.set_visible(False)\n",
    "        axes.yaxis.set_visible(False)\n",
    "        axes.axis('off')\n",
    "\n",
    "    # Draw court patches on the axes\n",
    "    axes = draw_patches(axes)\n",
    "    \n",
    "    return fig, axes\n",
    "\n",
    "def draw_patches(axes):\n",
    "    \"\"\"\n",
    "    Purpose: Draw the various patches and lines of the tennis court\n",
    "\n",
    "    Input(s):\n",
    "        axes (matplotlib.axes.Axes): The axes on which to draw the patches\n",
    "\n",
    "    Output(s):\n",
    "        axes (matplotlib.axes.Axes): The axes with the patches added\n",
    "    \"\"\"\n",
    "    \n",
    "    # Set the limits for the x and y axis based on court dimensions\n",
    "    plt.ylim([-5, 13])\n",
    "    plt.xlim([-6, 30])\n",
    "    \n",
    "    # Add the line for the net\n",
    "    axes.add_line(plt.Line2D(\n",
    "                             [height_court / 2, height_court / 2], \n",
    "                             [0, width_court], \n",
    "                             c='w'))\n",
    "    \n",
    "    # Add the court outline\n",
    "    y = 0\n",
    "    dy = width_court\n",
    "    x = 0\n",
    "    dx = height_court\n",
    "    axes.add_patch(plt.Rectangle((x, y), dx, dy, edgecolor=\"white\", facecolor=\"#5581A6\", alpha=1))\n",
    "    \n",
    "    x = height_court / 4\n",
    "    y = 1.37\n",
    "\n",
    "    dy = width_court - 1.37*2\n",
    "    dx = height_court / 2\n",
    "    # Draw the serving rectangle\n",
    "    axes.add_patch(plt.Rectangle((x, y), dx, dy, edgecolor=\"white\", facecolor=\"none\", alpha=1))\n",
    "    \n",
    "    # Add the service box line\n",
    "    axes.add_line(plt.Line2D([height_court / 4, 3*height_court / 4], [width_court / 2, width_court / 2], c='w'))\n",
    "\n",
    "    # Add the single side lines\n",
    "    axes.add_line(plt.Line2D([0, height_court], [1.37, 1.37], c='w'))\n",
    "    axes.add_line(plt.Line2D([0, height_court], [width_court - 1.37, width_court - 1.37], c='w'))\n",
    "\n",
    "    # Add the center hash marks at the baselines\n",
    "    axes.add_line(plt.Line2D([0, 0 + 0.45], [width_court / 2, width_court / 2], c='w'))\n",
    "    axes.add_line(plt.Line2D([height_court - 0.45, height_court], [width_court / 2, width_court / 2], c='w'))\n",
    "\n",
    "    return axes"
   ]
  },
  {
   "cell_type": "code",
   "execution_count": 9,
   "id": "ecb90fe4",
   "metadata": {
    "execution": {
     "iopub.execute_input": "2025-02-20T06:29:21.393331Z",
     "iopub.status.busy": "2025-02-20T06:29:21.392830Z",
     "iopub.status.idle": "2025-02-20T06:29:21.540740Z",
     "shell.execute_reply": "2025-02-20T06:29:21.539483Z"
    },
    "papermill": {
     "duration": 0.154822,
     "end_time": "2025-02-20T06:29:21.542623",
     "exception": false,
     "start_time": "2025-02-20T06:29:21.387801",
     "status": "completed"
    },
    "tags": []
   },
   "outputs": [
    {
     "data": {
      "image/png": "[encoded data removed]",
      "text/plain": [
       "<Figure size 1189x548.5 with 1 Axes>"
      ]
     },
     "metadata": {},
     "output_type": "display_data"
    }
   ],
   "source": [
    "fig, ax = draw_court_horz();"
   ]
  },
  {
   "cell_type": "code",
   "execution_count": 10,
   "id": "2829e576",
   "metadata": {
    "execution": {
     "iopub.execute_input": "2025-02-20T06:29:21.552865Z",
     "iopub.status.busy": "2025-02-20T06:29:21.552426Z",
     "iopub.status.idle": "2025-02-20T06:29:21.572895Z",
     "shell.execute_reply": "2025-02-20T06:29:21.571688Z"
    },
    "papermill": {
     "duration": 0.02801,
     "end_time": "2025-02-20T06:29:21.575148",
     "exception": false,
     "start_time": "2025-02-20T06:29:21.547138",
     "status": "completed"
    },
    "tags": []
   },
   "outputs": [],
   "source": [
    "# Function to create a frame for each transition\n",
    "def create_frame(x1i, y1i, x2i, y2i, xbi, ybi, server_wins_prob, point_server, point_score, point_winner, frame_num, total_frames):\n",
    "    fig, ax = draw_court_horz();\n",
    "\n",
    "    ax.text(11.985, -2, f\"Score: {point_server}\", color='white', ha='center')\n",
    "    ax.text(11.985, -3, f\"Server: {point_score}\", color='white', ha='center')\n",
    "    ax.text(11.985, -4, f\"Winner: {point_winner}\", color='white', ha='center')\n",
    "    \n",
    "    plt.scatter(x1i, y1i, color = \"orange\", s = 100)\n",
    "    plt.scatter(x2i, y2i, color = \"white\", s = 100)\n",
    "    plt.scatter(xbi, ybi, color = \"black\", s = 15)\n",
    "\n",
    "    ax.text(x1i, y1i, \"N\", ha = 'center', va = 'center', fontsize = 12)\n",
    "    ax.text(x2i, y2i, \"D\", ha = 'center', va = 'center', fontsize = 12)\n",
    "    ax.set_title(f\"Probability, Server Wins: {server_wins_prob}%\", ha = \"center\", color = \"white\")\n",
    "    \n",
    "    plt.grid(True)\n",
    "    \n",
    "    # Save the frame\n",
    "    plt.savefig(f'frame_{frame_num}.png')\n",
    "    plt.close()\n",
    "\n",
    "# Main function to create GIF\n",
    "def create_gif(xy_player1, xy_player2, xy_ball, event_probs, server, score, winner, frames_per_transition=20, filename='test.gif', duration=1):\n",
    "    player1_x = xy_player1[0]\n",
    "    player1_y = xy_player1[1]\n",
    "\n",
    "    player2_x = xy_player2[0]\n",
    "    player2_y = xy_player2[1]\n",
    "\n",
    "    ball_x = xy_ball[0]\n",
    "    ball_y = xy_ball[1]\n",
    "    \n",
    "    frames = []\n",
    "    total_points = len(xy_player1[0])\n",
    "    total_frames = frames_per_transition * (total_points - 1)\n",
    "    \n",
    "    for i in range(total_points - 1):\n",
    "        x1_start, x1_end = player1_x[i], player1_x[i + 1]\n",
    "        y1_start, y1_end = player1_y[i], player1_y[i + 1]\n",
    "\n",
    "        x2_start, x2_end = player2_x[i], player2_x[i + 1]\n",
    "        y2_start, y2_end = player2_y[i], player2_y[i + 1]\n",
    "\n",
    "        ball_x_start, ball_x_end = ball_x[i], ball_x[i + 1]\n",
    "        ball_y_start, ball_y_end = ball_y[i], ball_y[i + 1]\n",
    "\n",
    "        prob = event_probs[i]\n",
    "        \n",
    "        x1_transition = np.linspace(x1_start, x1_end, frames_per_transition)\n",
    "        y1_transition = np.linspace(y1_start, y1_end, frames_per_transition)\n",
    "\n",
    "        x2_transition = np.linspace(x2_start, x2_end, frames_per_transition)\n",
    "        y2_transition = np.linspace(y2_start, y2_end, frames_per_transition)\n",
    "\n",
    "        ball_x_transition = np.linspace(ball_x_start, ball_x_end, frames_per_transition)\n",
    "        ball_y_transition = np.linspace(ball_y_start, ball_y_end, frames_per_transition)\n",
    "        \n",
    "        for j in range(frames_per_transition):\n",
    "            create_frame(x1_transition[j], y1_transition[j], x2_transition[j], y2_transition[j], \n",
    "                         ball_x_transition[j], ball_y_transition[j], prob, server, score, winner,\n",
    "                         i * frames_per_transition + j + 1, total_frames)\n",
    "            frames.append(imageio.imread(f'frame_{i * frames_per_transition + j + 1}.png'))\n",
    "    \n",
    "    imageio.mimsave(filename, frames, duration=duration)\n",
    "\n",
    "    # Clean up saved frames\n",
    "    for i in range(1, len(frames) + 1):\n",
    "        os.remove(f'frame_{i}.png')\n"
   ]
  },
  {
   "cell_type": "code",
   "execution_count": 11,
   "id": "df00d301",
   "metadata": {
    "execution": {
     "iopub.execute_input": "2025-02-20T06:29:21.591080Z",
     "iopub.status.busy": "2025-02-20T06:29:21.590642Z",
     "iopub.status.idle": "2025-02-20T06:29:21.596212Z",
     "shell.execute_reply": "2025-02-20T06:29:21.594980Z"
    },
    "papermill": {
     "duration": 0.015549,
     "end_time": "2025-02-20T06:29:21.598226",
     "exception": false,
     "start_time": "2025-02-20T06:29:21.582677",
     "status": "completed"
    },
    "tags": []
   },
   "outputs": [],
   "source": [
    "# Assuming 'ball_player_pos_data' is a pandas DataFrame and 'rallies_to_animate' is a list of rally IDs\n",
    "rallies = ball_player_pos_data[\"rallyid\"].drop_duplicates().tolist()"
   ]
  },
  {
   "cell_type": "code",
   "execution_count": 12,
   "id": "4d53dc02",
   "metadata": {
    "execution": {
     "iopub.execute_input": "2025-02-20T06:29:21.614007Z",
     "iopub.status.busy": "2025-02-20T06:29:21.613601Z",
     "iopub.status.idle": "2025-02-20T06:35:52.965229Z",
     "shell.execute_reply": "2025-02-20T06:35:52.963908Z"
    },
    "papermill": {
     "duration": 391.362087,
     "end_time": "2025-02-20T06:35:52.967490",
     "exception": false,
     "start_time": "2025-02-20T06:29:21.605403",
     "status": "completed"
    },
    "tags": []
   },
   "outputs": [
    {
     "name": "stdout",
     "output_type": "stream",
     "text": [
      "Rally 169\n",
      "Rally 170\n",
      "Rally 171\n",
      "Rally 173\n",
      "Rally 174\n",
      "Rally 175\n",
      "Rally 177\n",
      "Rally 178\n",
      "Rally 179\n",
      "Rally 182\n",
      "Rally 183\n",
      "Rally 186\n",
      "Rally 188\n",
      "Rally 189\n",
      "Rally 190\n",
      "Rally 191\n",
      "Rally 193\n",
      "Rally 194\n",
      "Rally 195\n",
      "Rally 196\n",
      "Rally 198\n",
      "Rally 199\n",
      "Rally 201\n",
      "Rally 202\n",
      "Rally 204\n",
      "Rally 206\n"
     ]
    }
   ],
   "source": [
    "\n",
    "for rally in rallies:\n",
    "    print(f\"Rally {rally}\")\n",
    "    rally_data = ball_player_pos_data[ball_player_pos_data.rallyid == rally]\n",
    "\n",
    "    rally_server = points_data[points_data.rallyid == rally].server.values[0]\n",
    "\n",
    "    rally_score = points_data[points_data.rallyid == rally].score.values[0]\n",
    "\n",
    "    rally_winner = points_data[points_data.rallyid == rally].winner.values[0]\n",
    "\n",
    "    probabilities = rally_data.prob.tolist()\n",
    "    \n",
    "    nadal_data = np.array([rally_data.nadal_x, rally_data.nadal_y])\n",
    "\n",
    "    djokovic_data = np.array([rally_data.djokovic_x, rally_data.djokovic_y])\n",
    "\n",
    "    ball_data = np.array([rally_data.ball_x, rally_data.ball_y])\n",
    "    \n",
    "    # Create GIF\n",
    "    create_gif(nadal_data, djokovic_data, ball_data, \n",
    "               probabilities, rally_server, rally_score, rally_winner, filename=f'animation_{rally}.gif')"
   ]
  },
  {
   "cell_type": "markdown",
   "id": "63de380f",
   "metadata": {
    "papermill": {
     "duration": 0.005395,
     "end_time": "2025-02-20T06:35:52.978924",
     "exception": false,
     "start_time": "2025-02-20T06:35:52.973529",
     "status": "completed"
    },
    "tags": []
   },
   "source": [
    "!rm -rf /kaggle/working/*"
   ]
  }
 ],
 "metadata": {
  "kaggle": {
   "accelerator": "none",
   "dataSources": [
    {
     "datasetId": 6623893,
     "sourceId": 10699475,
     "sourceType": "datasetVersion"
    }
   ],
   "dockerImageVersionId": 30886,
   "isGpuEnabled": false,
   "isInternetEnabled": true,
   "language": "python",
   "sourceType": "notebook"
  },
  "kernelspec": {
   "display_name": "Python 3",
   "language": "python",
   "name": "python3"
  },
  "language_info": {
   "codemirror_mode": {
    "name": "ipython",
    "version": 3
   },
   "file_extension": ".py",
   "mimetype": "text/x-python",
   "name": "python",
   "nbconvert_exporter": "python",
   "pygments_lexer": "ipython3",
   "version": "3.10.12"
  },
  "papermill": {
   "default_parameters": {},
   "duration": 401.22815,
   "end_time": "2025-02-20T06:35:56.509862",
   "environment_variables": {},
   "exception": null,
   "input_path": "__notebook__.ipynb",
   "output_path": "__notebook__.ipynb",
   "parameters": {},
   "start_time": "2025-02-20T06:29:15.281712",
   "version": "2.6.0"
  }
 },
 "nbformat": 4,
 "nbformat_minor": 5
}
