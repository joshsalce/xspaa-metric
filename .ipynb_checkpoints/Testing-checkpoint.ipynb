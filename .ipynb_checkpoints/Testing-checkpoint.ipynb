{
 "cells": [
  {
   "cell_type": "code",
   "execution_count": 36,
   "id": "23d94d6b",
   "metadata": {},
   "outputs": [
    {
     "name": "stderr",
     "output_type": "stream",
     "text": [
      "/Users/josh/anaconda3/lib/python3.11/site-packages/sklearn/preprocessing/_encoders.py:868: FutureWarning: `sparse` was renamed to `sparse_output` in version 1.2 and will be removed in 1.4. `sparse_output` is ignored unless you leave `sparse` to its default value.\n",
      "  warnings.warn(\n"
     ]
    }
   ],
   "source": [
    "import pandas as pd\n",
    "import numpy as np\n",
    "from sklearn.preprocessing import StandardScaler, OneHotEncoder\n",
    "from tensorflow.keras.preprocessing.sequence import pad_sequences\n",
    "\n",
    "# Define the number of events\n",
    "num_events = 200\n",
    "\n",
    "# Initialize an empty list to store the data\n",
    "data = []\n",
    "\n",
    "# Generate the data\n",
    "for i in range(1, num_events + 1):\n",
    "    event_name = f'event{i}'\n",
    "    for j in range(1, i % 5 + 2):  # Cycle from 1 to 5, adding 1 to cover the case where i%5 + 1 equals 5\n",
    "        a = np.random.randint(1, 100)\n",
    "        b = np.random.randint(100, 200)\n",
    "        outcome = np.random.randint(0, 2)\n",
    "        category = np.random.choice(['cat1', 'cat2', 'cat3'])\n",
    "        data.append([event_name, j, a, b, outcome, category])\n",
    "\n",
    "# Create the DataFrame\n",
    "df = pd.DataFrame(data, columns=['event', 'component', 'a', 'b', 'outcome', 'category'])\n",
    "\n",
    "# Pivot the DataFrame\n",
    "df_pivoted = df.pivot(index='event', columns='component', values=['a', 'b']).fillna(-100)\n",
    "\n",
    "# Flatten the MultiIndex columns\n",
    "df_pivoted.columns = ['{}_{}'.format(col[0], col[1]) for col in df_pivoted.columns]\n",
    "\n",
    "# Reset the index to make 'event' a column again\n",
    "df_pivoted.reset_index(inplace=True)\n",
    "\n",
    "# Add the 'outcome' column\n",
    "df_outcome = df[['event', 'outcome']].drop_duplicates()\n",
    "df_pivoted = pd.merge(df_pivoted, df_outcome, on='event', how='left')\n",
    "\n",
    "# One-hot encode the categorical column\n",
    "encoder = OneHotEncoder(sparse=False)\n",
    "category_encoded = encoder.fit_transform(df[['category']])\n",
    "\n",
    "# Create a DataFrame for the encoded categories and concatenate with the original DataFrame\n",
    "category_df = pd.DataFrame(category_encoded, columns=encoder.get_feature_names_out(['category']))\n",
    "df = pd.concat([df, category_df], axis=1)\n",
    "\n",
    "# Prepare the features and labels\n",
    "X = df_pivoted.drop(columns=['event', 'outcome']).values\n",
    "y = df_pivoted['outcome'].values\n",
    "\n",
    "# Standardize the features\n",
    "scaler = StandardScaler()\n",
    "X_scaled = scaler.fit_transform(X)\n",
    "# Split the dataset into training and testing sets\n",
    "from sklearn.model_selection import train_test_split\n",
    "X_train, X_test, y_train, y_test = train_test_split(X_scaled, y, test_size=0.2, random_state=42)"
   ]
  },
  {
   "cell_type": "code",
   "execution_count": 46,
   "id": "36a3b7f1",
   "metadata": {},
   "outputs": [
    {
     "data": {
      "text/plain": [
       "array([[ 93.,  29.,  -1., ...,  -1.,  -1.,  -1.],\n",
       "       [ 52.,  -1.,  -1., ...,  -1.,  -1.,  -1.],\n",
       "       [ 90.,  -1.,  -1., ...,  -1.,  -1.,  -1.],\n",
       "       ...,\n",
       "       [ 57.,  31.,  38., ..., 131., 189.,  -1.],\n",
       "       [ 20.,  72.,  63., ..., 190., 184., 179.],\n",
       "       [ 20.,  72.,  63., ..., 190., 184., 179.]])"
      ]
     },
     "execution_count": 46,
     "metadata": {},
     "output_type": "execute_result"
    }
   ],
   "source": [
    "X"
   ]
  },
  {
   "cell_type": "code",
   "execution_count": 41,
   "id": "c695bcfe",
   "metadata": {},
   "outputs": [
    {
     "name": "stdout",
     "output_type": "stream",
     "text": [
      "Epoch 1/20\n"
     ]
    },
    {
     "ename": "ValueError",
     "evalue": "in user code:\n\n    File \"/Users/josh/anaconda3/lib/python3.11/site-packages/keras/src/engine/training.py\", line 1338, in train_function  *\n        return step_function(self, iterator)\n    File \"/Users/josh/anaconda3/lib/python3.11/site-packages/keras/src/engine/training.py\", line 1322, in step_function  **\n        outputs = model.distribute_strategy.run(run_step, args=(data,))\n    File \"/Users/josh/anaconda3/lib/python3.11/site-packages/keras/src/engine/training.py\", line 1303, in run_step  **\n        outputs = model.train_step(data)\n    File \"/Users/josh/anaconda3/lib/python3.11/site-packages/keras/src/engine/training.py\", line 1080, in train_step\n        y_pred = self(x, training=True)\n    File \"/Users/josh/anaconda3/lib/python3.11/site-packages/keras/src/utils/traceback_utils.py\", line 70, in error_handler\n        raise e.with_traceback(filtered_tb) from None\n    File \"/Users/josh/anaconda3/lib/python3.11/site-packages/keras/src/engine/input_spec.py\", line 298, in assert_input_compatibility\n        raise ValueError(\n\n    ValueError: Input 0 of layer \"sequential_4\" is incompatible with the layer: expected shape=(None, 5, 2), found shape=(None, 10)\n",
     "output_type": "error",
     "traceback": [
      "\u001b[0;31m---------------------------------------------------------------------------\u001b[0m",
      "\u001b[0;31mValueError\u001b[0m                                Traceback (most recent call last)",
      "Cell \u001b[0;32mIn[41], line 15\u001b[0m\n\u001b[1;32m     12\u001b[0m model\u001b[38;5;241m.\u001b[39mcompile(optimizer\u001b[38;5;241m=\u001b[39m\u001b[38;5;124m'\u001b[39m\u001b[38;5;124madam\u001b[39m\u001b[38;5;124m'\u001b[39m, loss\u001b[38;5;241m=\u001b[39m\u001b[38;5;124m'\u001b[39m\u001b[38;5;124mbinary_crossentropy\u001b[39m\u001b[38;5;124m'\u001b[39m, metrics\u001b[38;5;241m=\u001b[39m[\u001b[38;5;124m'\u001b[39m\u001b[38;5;124maccuracy\u001b[39m\u001b[38;5;124m'\u001b[39m])\n\u001b[1;32m     14\u001b[0m \u001b[38;5;66;03m# Train the model\u001b[39;00m\n\u001b[0;32m---> 15\u001b[0m model\u001b[38;5;241m.\u001b[39mfit(X_train, y_train, epochs\u001b[38;5;241m=\u001b[39m\u001b[38;5;241m20\u001b[39m, batch_size\u001b[38;5;241m=\u001b[39m\u001b[38;5;241m32\u001b[39m, validation_data\u001b[38;5;241m=\u001b[39m(X_test, y_test))\n",
      "File \u001b[0;32m~/anaconda3/lib/python3.11/site-packages/keras/src/utils/traceback_utils.py:70\u001b[0m, in \u001b[0;36mfilter_traceback.<locals>.error_handler\u001b[0;34m(*args, **kwargs)\u001b[0m\n\u001b[1;32m     67\u001b[0m     filtered_tb \u001b[38;5;241m=\u001b[39m _process_traceback_frames(e\u001b[38;5;241m.\u001b[39m__traceback__)\n\u001b[1;32m     68\u001b[0m     \u001b[38;5;66;03m# To get the full stack trace, call:\u001b[39;00m\n\u001b[1;32m     69\u001b[0m     \u001b[38;5;66;03m# `tf.debugging.disable_traceback_filtering()`\u001b[39;00m\n\u001b[0;32m---> 70\u001b[0m     \u001b[38;5;28;01mraise\u001b[39;00m e\u001b[38;5;241m.\u001b[39mwith_traceback(filtered_tb) \u001b[38;5;28;01mfrom\u001b[39;00m \u001b[38;5;28;01mNone\u001b[39;00m\n\u001b[1;32m     71\u001b[0m \u001b[38;5;28;01mfinally\u001b[39;00m:\n\u001b[1;32m     72\u001b[0m     \u001b[38;5;28;01mdel\u001b[39;00m filtered_tb\n",
      "File \u001b[0;32m/var/folders/q8/f0tkvffx0nv6y037b44svg2r0000gn/T/__autograph_generated_filejrncftou.py:15\u001b[0m, in \u001b[0;36mouter_factory.<locals>.inner_factory.<locals>.tf__train_function\u001b[0;34m(iterator)\u001b[0m\n\u001b[1;32m     13\u001b[0m \u001b[38;5;28;01mtry\u001b[39;00m:\n\u001b[1;32m     14\u001b[0m     do_return \u001b[38;5;241m=\u001b[39m \u001b[38;5;28;01mTrue\u001b[39;00m\n\u001b[0;32m---> 15\u001b[0m     retval_ \u001b[38;5;241m=\u001b[39m ag__\u001b[38;5;241m.\u001b[39mconverted_call(ag__\u001b[38;5;241m.\u001b[39mld(step_function), (ag__\u001b[38;5;241m.\u001b[39mld(\u001b[38;5;28mself\u001b[39m), ag__\u001b[38;5;241m.\u001b[39mld(iterator)), \u001b[38;5;28;01mNone\u001b[39;00m, fscope)\n\u001b[1;32m     16\u001b[0m \u001b[38;5;28;01mexcept\u001b[39;00m:\n\u001b[1;32m     17\u001b[0m     do_return \u001b[38;5;241m=\u001b[39m \u001b[38;5;28;01mFalse\u001b[39;00m\n",
      "\u001b[0;31mValueError\u001b[0m: in user code:\n\n    File \"/Users/josh/anaconda3/lib/python3.11/site-packages/keras/src/engine/training.py\", line 1338, in train_function  *\n        return step_function(self, iterator)\n    File \"/Users/josh/anaconda3/lib/python3.11/site-packages/keras/src/engine/training.py\", line 1322, in step_function  **\n        outputs = model.distribute_strategy.run(run_step, args=(data,))\n    File \"/Users/josh/anaconda3/lib/python3.11/site-packages/keras/src/engine/training.py\", line 1303, in run_step  **\n        outputs = model.train_step(data)\n    File \"/Users/josh/anaconda3/lib/python3.11/site-packages/keras/src/engine/training.py\", line 1080, in train_step\n        y_pred = self(x, training=True)\n    File \"/Users/josh/anaconda3/lib/python3.11/site-packages/keras/src/utils/traceback_utils.py\", line 70, in error_handler\n        raise e.with_traceback(filtered_tb) from None\n    File \"/Users/josh/anaconda3/lib/python3.11/site-packages/keras/src/engine/input_spec.py\", line 298, in assert_input_compatibility\n        raise ValueError(\n\n    ValueError: Input 0 of layer \"sequential_4\" is incompatible with the layer: expected shape=(None, 5, 2), found shape=(None, 10)\n"
     ]
    }
   ],
   "source": [
    "import tensorflow as tf\n",
    "from tensorflow.keras.models import Sequential\n",
    "from tensorflow.keras.layers import LSTM, Dense, Masking\n",
    "\n",
    "# Define the LSTM model with masking\n",
    "model = Sequential()\n",
    "model.add(LSTM(50))\n",
    "model.add(Dense(1, activation='sigmoid'))\n",
    "\n",
    "# Compile the model\n",
    "model.compile(optimizer='adam', loss='binary_crossentropy', metrics=['accuracy'])\n",
    "\n",
    "# Train the model\n",
    "model.fit(X_train, y_train, epochs=20, batch_size=32, validation_data=(X_test, y_test))\n"
   ]
  },
  {
   "cell_type": "code",
   "execution_count": 43,
   "id": "4102719c",
   "metadata": {},
   "outputs": [
    {
     "name": "stderr",
     "output_type": "stream",
     "text": [
      "/Users/josh/anaconda3/lib/python3.11/site-packages/sklearn/preprocessing/_encoders.py:868: FutureWarning: `sparse` was renamed to `sparse_output` in version 1.2 and will be removed in 1.4. `sparse_output` is ignored unless you leave `sparse` to its default value.\n",
      "  warnings.warn(\n"
     ]
    },
    {
     "ename": "ValueError",
     "evalue": "cannot reshape array of size 3190 into shape (200,5,2)",
     "output_type": "error",
     "traceback": [
      "\u001b[0;31m---------------------------------------------------------------------------\u001b[0m",
      "\u001b[0;31mValueError\u001b[0m                                Traceback (most recent call last)",
      "Cell \u001b[0;32mIn[43], line 59\u001b[0m\n\u001b[1;32m     56\u001b[0m \u001b[38;5;66;03m# Reshape the features to 3D for LSTM [samples, timesteps, features]\u001b[39;00m\n\u001b[1;32m     57\u001b[0m \u001b[38;5;66;03m# In this case, we need to ensure that we have the correct number of features per timestep (which would be 4: a and b for each timestep)\u001b[39;00m\n\u001b[1;32m     58\u001b[0m num_features \u001b[38;5;241m=\u001b[39m \u001b[38;5;28mint\u001b[39m(X_scaled\u001b[38;5;241m.\u001b[39mshape[\u001b[38;5;241m1\u001b[39m] \u001b[38;5;241m/\u001b[39m \u001b[38;5;241m5\u001b[39m)  \u001b[38;5;66;03m# Number of features per timestep\u001b[39;00m\n\u001b[0;32m---> 59\u001b[0m X_reshaped \u001b[38;5;241m=\u001b[39m X_scaled\u001b[38;5;241m.\u001b[39mreshape(num_events, \u001b[38;5;241m5\u001b[39m, num_features)\n\u001b[1;32m     61\u001b[0m \u001b[38;5;66;03m# Split the dataset into training and testing sets\u001b[39;00m\n\u001b[1;32m     62\u001b[0m X_train, X_test, y_train, y_test \u001b[38;5;241m=\u001b[39m train_test_split(X_reshaped, y, test_size\u001b[38;5;241m=\u001b[39m\u001b[38;5;241m0.2\u001b[39m, random_state\u001b[38;5;241m=\u001b[39m\u001b[38;5;241m42\u001b[39m)\n",
      "\u001b[0;31mValueError\u001b[0m: cannot reshape array of size 3190 into shape (200,5,2)"
     ]
    }
   ],
   "source": [
    "import pandas as pd\n",
    "import numpy as np\n",
    "from sklearn.preprocessing import StandardScaler, OneHotEncoder\n",
    "from sklearn.model_selection import train_test_split\n",
    "from tensorflow.keras.preprocessing.sequence import pad_sequences\n",
    "\n",
    "# Define the number of events\n",
    "num_events = 200\n",
    "\n",
    "# Initialize an empty list to store the data\n",
    "data = []\n",
    "\n",
    "# Generate the data\n",
    "for i in range(1, num_events + 1):\n",
    "    event_name = f'event{i}'\n",
    "    for j in range(1, i % 5 + 2):  # Cycle from 1 to 5, adding 1 to cover the case where i%5 + 1 equals 5\n",
    "        a = np.random.randint(1, 100)\n",
    "        b = np.random.randint(100, 200)\n",
    "        outcome = np.random.randint(0, 2)\n",
    "        category = np.random.choice(['cat1', 'cat2', 'cat3'])\n",
    "        data.append([event_name, j, a, b, outcome, category])\n",
    "\n",
    "# Create the DataFrame\n",
    "df = pd.DataFrame(data, columns=['event', 'component', 'a', 'b', 'outcome', 'category'])\n",
    "\n",
    "# One-hot encode the categorical column\n",
    "encoder = OneHotEncoder(sparse=False)\n",
    "category_encoded = encoder.fit_transform(df[['category']])\n",
    "category_df = pd.DataFrame(category_encoded, columns=encoder.get_feature_names_out(['category']))\n",
    "df = pd.concat([df, category_df], axis=1)\n",
    "\n",
    "# Drop the original 'category' column\n",
    "df.drop('category', axis=1, inplace=True)\n",
    "\n",
    "# Pivot the DataFrame\n",
    "df_pivoted = df.pivot(index='event', columns='component', values=['a', 'b']).fillna(-1)\n",
    "\n",
    "# Flatten the MultiIndex columns\n",
    "df_pivoted.columns = ['{}_{}'.format(col[0], col[1]) for col in df_pivoted.columns]\n",
    "\n",
    "# Reset the index to make 'event' a column again\n",
    "df_pivoted.reset_index(inplace=True)\n",
    "\n",
    "# Add the 'outcome' column\n",
    "df_outcome = df[['event', 'outcome']].drop_duplicates()\n",
    "df_pivoted = pd.merge(df_pivoted, df_outcome, on='event', how='left')\n",
    "\n",
    "# Prepare the features and labels\n",
    "X = df_pivoted.drop(columns=['event', 'outcome']).values\n",
    "y = df_pivoted['outcome'].values\n",
    "\n",
    "# Standardize the features\n",
    "scaler = StandardScaler()\n",
    "X_scaled = scaler.fit_transform(X)\n",
    "\n",
    "# Reshape the features to 3D for LSTM [samples, timesteps, features]\n",
    "# In this case, we need to ensure that we have the correct number of features per timestep (which would be 4: a and b for each timestep)\n",
    "num_features = int(X_scaled.shape[1] / 5)  # Number of features per timestep\n",
    "X_reshaped = X_scaled.reshape(num_events, 5, num_features)\n",
    "\n",
    "# Split the dataset into training and testing sets\n",
    "X_train, X_test, y_train, y_test = train_test_split(X_reshaped, y, test_size=0.2, random_state=42)\n",
    "\n",
    "# Display the first few rows of the pivoted DataFrame\n",
    "print(df_pivoted.head())\n"
   ]
  },
  {
   "cell_type": "code",
   "execution_count": 11,
   "id": "925c6948",
   "metadata": {},
   "outputs": [
    {
     "name": "stdout",
     "output_type": "stream",
     "text": [
      "2/2 [==============================] - 0s 5ms/step - loss: 0.7073 - accuracy: 0.4250\n",
      "Loss: 0.7072888016700745, Accuracy: 0.42500001192092896\n"
     ]
    }
   ],
   "source": [
    "# Evaluate the model\n",
    "loss, accuracy = model.evaluate(X_test, y_test)\n",
    "print(f'Loss: {loss}, Accuracy: {accuracy}')\n"
   ]
  },
  {
   "cell_type": "code",
   "execution_count": 44,
   "id": "f0afe0c8",
   "metadata": {},
   "outputs": [
    {
     "ename": "NameError",
     "evalue": "name 'imdb' is not defined",
     "output_type": "error",
     "traceback": [
      "\u001b[0;31m---------------------------------------------------------------------------\u001b[0m",
      "\u001b[0;31mNameError\u001b[0m                                 Traceback (most recent call last)",
      "Cell \u001b[0;32mIn[44], line 1\u001b[0m\n\u001b[0;32m----> 1\u001b[0m imdb\u001b[38;5;241m.\u001b[39mload_data(num_words\u001b[38;5;241m=\u001b[39mtop_words)\n",
      "\u001b[0;31mNameError\u001b[0m: name 'imdb' is not defined"
     ]
    }
   ],
   "source": [
    "imdb.load_data(num_words=top_words)"
   ]
  }
 ],
 "metadata": {
  "kernelspec": {
   "display_name": "Python 3 (ipykernel)",
   "language": "python",
   "name": "python3"
  },
  "language_info": {
   "codemirror_mode": {
    "name": "ipython",
    "version": 3
   },
   "file_extension": ".py",
   "mimetype": "text/x-python",
   "name": "python",
   "nbconvert_exporter": "python",
   "pygments_lexer": "ipython3",
   "version": "3.11.3"
  }
 },
 "nbformat": 4,
 "nbformat_minor": 5
}
