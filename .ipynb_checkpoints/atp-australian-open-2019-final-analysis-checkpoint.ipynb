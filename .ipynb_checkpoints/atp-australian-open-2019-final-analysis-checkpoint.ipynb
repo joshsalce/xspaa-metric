{
 "cells": [
  {
   "attachments": {},
   "cell_type": "markdown",
   "id": "f3cb8a7c",
   "metadata": {
    "papermill": {
     "duration": 0.015582,
     "end_time": "2025-02-03T22:17:16.133839",
     "exception": false,
     "start_time": "2025-02-03T22:17:16.118257",
     "status": "completed"
    },
    "tags": []
   },
   "source": [
    "One sport that I wish had an avenue for more public research is tennis. Currently, the only hub for tennis data out there is the work done by [Jeff Sackmann](https://www.tennisabstract.com/charting/meta.html) and volunteers to manually chart match statistics. However, these matches are charted for discrete outcomes- such as the direction of the serve- instead of the location of the serve in continuous (x, y) space. This is antithetical to the breadth of data that is available in the baseball world, my own stomping grounds. After some scouring, however, I did manage to find a manually created dataset on [Kaggle](https://www.kaggle.com/datasets/robseidl/tennis-atp-tour-australian-open-final-2019) for the 2019 Australian Open Final, between Novak Djokovic and Rafael Nadal. To my surprise, [little](https://www.kaggle.com/code/younghajosephkimdata/australian-open-mens-final-2019-data-exploration) [independent](https://www.kaggle.com/code/floriansck/animating-the-australien-open-finale) [work](https://www.kaggle.com/code/aahanmehra/expectedin-model) with this dataset exists on the platform, though that which does has been of significant value to my process of working with the data myself. \n",
    "\n",
    "Being a practitioner of predictive modeling, my intention with this dataset is to create a \"+\" style metric you might find in the baseball world (e.g. [Stuff+](https://library.fangraphs.com/pitching/stuff-location-and-pitching-primer/), [wRC+](https://library.fangraphs.com/offense/wrc/)), but in the context of tennis as a means to describe players. Previous work done in this area includes an [\"Expected-In\" model](https://www.kaggle.com/code/aahanmehra/expectedin-model), though this was done without the use of ball-tracking data, instead implicitly relying on player locations as a proxy for ball locations. Instead of trying to predict if a certain hit will be in, my goal is to try to predict the likelihood of a player winning each point based on the events that makeup the dataset. This notebook presents my analysis of the dataset, with code created for exploratory analysis, data cleaning, and feature engineering, all of which go towards informing my decisions as to how I might model this dataset in line with my stated goal."
   ]
  },
  {
   "cell_type": "markdown",
   "id": "51a0e982",
   "metadata": {
    "papermill": {
     "duration": 0.013833,
     "end_time": "2025-02-03T22:17:16.163155",
     "exception": false,
     "start_time": "2025-02-03T22:17:16.149322",
     "status": "completed"
    },
    "tags": []
   },
   "source": [
    "# Imports, Data Pull"
   ]
  },
  {
   "cell_type": "code",
   "execution_count": 1,
   "id": "b505bf86",
   "metadata": {
    "_cell_guid": "b1076dfc-b9ad-4769-8c92-a6c4dae69d19",
    "_uuid": "8f2839f25d086af736a60e9eeb907d3b93b6e0e5",
    "execution": {
     "iopub.execute_input": "2025-02-03T22:17:16.193434Z",
     "iopub.status.busy": "2025-02-03T22:17:16.193065Z",
     "iopub.status.idle": "2025-02-03T22:17:19.669652Z",
     "shell.execute_reply": "2025-02-03T22:17:19.668224Z"
    },
    "papermill": {
     "duration": 3.494612,
     "end_time": "2025-02-03T22:17:19.672455",
     "exception": false,
     "start_time": "2025-02-03T22:17:16.177843",
     "status": "completed"
    },
    "tags": []
   },
   "outputs": [
    {
     "name": "stdout",
     "output_type": "stream",
     "text": [
      "/kaggle/input/tennis-atp-tour-australian-open-final-2019/serves.csv\n",
      "/kaggle/input/tennis-atp-tour-australian-open-final-2019/points.csv\n",
      "/kaggle/input/tennis-atp-tour-australian-open-final-2019/events.csv\n",
      "/kaggle/input/tennis-atp-tour-australian-open-final-2019/rallies.csv\n"
     ]
    }
   ],
   "source": [
    "import numpy as np\n",
    "import pandas as pd\n",
    "import matplotlib.pyplot as plt\n",
    "import matplotlib.colors as mcolors\n",
    "import seaborn as sns\n",
    "from scipy.stats import linregress\n",
    "import warnings\n",
    "\n",
    "import os\n",
    "for dirname, _, filenames in os.walk('/kaggle/input'):\n",
    "    for filename in filenames:\n",
    "        print(os.path.join(dirname, filename))\n",
    "\n",
    "from sklearn.model_selection import KFold, cross_val_score\n",
    "from sklearn.pipeline import Pipeline\n",
    "from sklearn.compose import ColumnTransformer\n",
    "from sklearn.preprocessing import OneHotEncoder, StandardScaler\n",
    "from sklearn.multioutput import MultiOutputRegressor\n",
    "from xgboost import XGBRegressor\n",
    "from sklearn.ensemble import RandomForestRegressor\n",
    "from sklearn.tree import DecisionTreeRegressor\n",
    "from sklearn.metrics import make_scorer, mean_squared_error\n",
    "from sklearn.inspection import PartialDependenceDisplay\n",
    "\n",
    "path = \"/kaggle/input/tennis-atp-tour-australian-open-final-2019/\"\n",
    "\n",
    "warnings.filterwarnings(\"ignore\")"
   ]
  },
  {
   "cell_type": "code",
   "execution_count": 2,
   "id": "39f1c2ca",
   "metadata": {
    "execution": {
     "iopub.execute_input": "2025-02-03T22:17:19.717442Z",
     "iopub.status.busy": "2025-02-03T22:17:19.716785Z",
     "iopub.status.idle": "2025-02-03T22:17:19.763386Z",
     "shell.execute_reply": "2025-02-03T22:17:19.762298Z"
    },
    "papermill": {
     "duration": 0.073707,
     "end_time": "2025-02-03T22:17:19.765823",
     "exception": false,
     "start_time": "2025-02-03T22:17:19.692116",
     "status": "completed"
    },
    "tags": []
   },
   "outputs": [],
   "source": [
    "# Import all data\n",
    "events = pd.read_csv(path + \"events.csv\").drop(\"Unnamed: 0\", axis = 1)\n",
    "points = pd.read_csv(path + \"points.csv\").drop(\"Unnamed: 0\", axis = 1)\n",
    "serves = pd.read_csv(path + \"serves.csv\").drop(\"Unnamed: 0\", axis = 1)\n",
    "rallies = pd.read_csv(path + \"rallies.csv\").drop(\"Unnamed: 0\", axis = 1)"
   ]
  },
  {
   "cell_type": "markdown",
   "id": "e47edf1e",
   "metadata": {
    "papermill": {
     "duration": 0.019741,
     "end_time": "2025-02-03T22:17:19.802856",
     "exception": false,
     "start_time": "2025-02-03T22:17:19.783115",
     "status": "completed"
    },
    "tags": []
   },
   "source": [
    "# EDA & Feature Engineering\n",
    "\n",
    "As with all datasets, there is a need for exploratory analysis. Given that this dataset was compiled manually and without tracking technology, the need is as great as can be. To start, I filter for clear examples of bad data that must be programatically cleaned before moving on to clean said data prior to a full exploratory analysis. In conjunction with my stated goal for this project, I will only be working with the \"events\" and \"points\" csv's, as neither the \"serves\" nor \"rallies\" csv's contain novel information that might help me  model this dataset."
   ]
  },
  {
   "cell_type": "code",
   "execution_count": 3,
   "id": "bb012ed7",
   "metadata": {
    "execution": {
     "iopub.execute_input": "2025-02-03T22:17:19.844900Z",
     "iopub.status.busy": "2025-02-03T22:17:19.844318Z",
     "iopub.status.idle": "2025-02-03T22:17:19.850558Z",
     "shell.execute_reply": "2025-02-03T22:17:19.849294Z"
    },
    "papermill": {
     "duration": 0.030059,
     "end_time": "2025-02-03T22:17:19.853176",
     "exception": false,
     "start_time": "2025-02-03T22:17:19.823117",
     "status": "completed"
    },
    "tags": []
   },
   "outputs": [],
   "source": [
    "# Create copies of events and points data for visual EDA\n",
    "events_eda = events.copy()\n",
    "points_eda = points.copy()"
   ]
  },
  {
   "cell_type": "markdown",
   "id": "07801a87",
   "metadata": {
    "papermill": {
     "duration": 0.014543,
     "end_time": "2025-02-03T22:17:19.886996",
     "exception": false,
     "start_time": "2025-02-03T22:17:19.872453",
     "status": "completed"
    },
    "tags": []
   },
   "source": [
    "## Identify Bad Data"
   ]
  },
  {
   "cell_type": "markdown",
   "id": "e65b7e6c",
   "metadata": {
    "papermill": {
     "duration": 0.013404,
     "end_time": "2025-02-03T22:17:19.914144",
     "exception": false,
     "start_time": "2025-02-03T22:17:19.900740",
     "status": "completed"
    },
    "tags": []
   },
   "source": [
    "The first case of bad data was found to be serves listed as occurring on the second stroke of a rally. In this dataset, first and second serves are not counted as part of a single rally, making these cases clear errors. Specifically, Rally 5 ends with an ace and therefore won't be included in the dataset, whereas Rally 11 starts at StrokeId #2, requiring StrokeId #1 to be removed."
   ]
  },
  {
   "cell_type": "code",
   "execution_count": 4,
   "id": "3426fdc2",
   "metadata": {
    "execution": {
     "iopub.execute_input": "2025-02-03T22:17:19.943730Z",
     "iopub.status.busy": "2025-02-03T22:17:19.942749Z",
     "iopub.status.idle": "2025-02-03T22:17:19.976324Z",
     "shell.execute_reply": "2025-02-03T22:17:19.975120Z"
    },
    "papermill": {
     "duration": 0.050949,
     "end_time": "2025-02-03T22:17:19.978767",
     "exception": false,
     "start_time": "2025-02-03T22:17:19.927818",
     "status": "completed"
    },
    "tags": []
   },
   "outputs": [
    {
     "data": {
      "text/html": [
       "<div>\n",
       "<style scoped>\n",
       "    .dataframe tbody tr th:only-of-type {\n",
       "        vertical-align: middle;\n",
       "    }\n",
       "\n",
       "    .dataframe tbody tr th {\n",
       "        vertical-align: top;\n",
       "    }\n",
       "\n",
       "    .dataframe thead th {\n",
       "        text-align: right;\n",
       "    }\n",
       "</style>\n",
       "<table border=\"1\" class=\"dataframe\">\n",
       "  <thead>\n",
       "    <tr style=\"text-align: right;\">\n",
       "      <th></th>\n",
       "      <th>rallyid</th>\n",
       "      <th>frameid</th>\n",
       "      <th>strokeid</th>\n",
       "      <th>hitter</th>\n",
       "      <th>receiver</th>\n",
       "      <th>isserve</th>\n",
       "      <th>serve</th>\n",
       "      <th>type</th>\n",
       "      <th>stroke</th>\n",
       "      <th>hitter_x</th>\n",
       "      <th>hitter_y</th>\n",
       "      <th>receiver_x</th>\n",
       "      <th>receiver_y</th>\n",
       "      <th>time</th>\n",
       "    </tr>\n",
       "  </thead>\n",
       "  <tbody>\n",
       "    <tr>\n",
       "      <th>9</th>\n",
       "      <td>5</td>\n",
       "      <td>72790</td>\n",
       "      <td>1</td>\n",
       "      <td>Djokovic</td>\n",
       "      <td>Nadal</td>\n",
       "      <td>True</td>\n",
       "      <td>second</td>\n",
       "      <td>serve</td>\n",
       "      <td>forehand</td>\n",
       "      <td>6.17</td>\n",
       "      <td>-0.22</td>\n",
       "      <td>0.54</td>\n",
       "      <td>27.32</td>\n",
       "      <td>76.52</td>\n",
       "    </tr>\n",
       "    <tr>\n",
       "      <th>10</th>\n",
       "      <td>5</td>\n",
       "      <td>72800</td>\n",
       "      <td>2</td>\n",
       "      <td>Djokovic</td>\n",
       "      <td>Nadal</td>\n",
       "      <td>True</td>\n",
       "      <td>second</td>\n",
       "      <td>serve</td>\n",
       "      <td>forehand</td>\n",
       "      <td>6.43</td>\n",
       "      <td>-0.10</td>\n",
       "      <td>0.93</td>\n",
       "      <td>27.08</td>\n",
       "      <td>76.92</td>\n",
       "    </tr>\n",
       "    <tr>\n",
       "      <th>42</th>\n",
       "      <td>11</td>\n",
       "      <td>78015</td>\n",
       "      <td>1</td>\n",
       "      <td>Djokovic</td>\n",
       "      <td>Nadal</td>\n",
       "      <td>False</td>\n",
       "      <td>first</td>\n",
       "      <td>return</td>\n",
       "      <td>forehand</td>\n",
       "      <td>-0.74</td>\n",
       "      <td>25.49</td>\n",
       "      <td>5.96</td>\n",
       "      <td>2.85</td>\n",
       "      <td>285.52</td>\n",
       "    </tr>\n",
       "    <tr>\n",
       "      <th>43</th>\n",
       "      <td>11</td>\n",
       "      <td>78578</td>\n",
       "      <td>2</td>\n",
       "      <td>Nadal</td>\n",
       "      <td>Djokovic</td>\n",
       "      <td>True</td>\n",
       "      <td>first</td>\n",
       "      <td>serve</td>\n",
       "      <td>forehand</td>\n",
       "      <td>5.53</td>\n",
       "      <td>-0.43</td>\n",
       "      <td>1.41</td>\n",
       "      <td>25.65</td>\n",
       "      <td>308.04</td>\n",
       "    </tr>\n",
       "    <tr>\n",
       "      <th>44</th>\n",
       "      <td>11</td>\n",
       "      <td>78605</td>\n",
       "      <td>3</td>\n",
       "      <td>Djokovic</td>\n",
       "      <td>Nadal</td>\n",
       "      <td>False</td>\n",
       "      <td>first</td>\n",
       "      <td>slice</td>\n",
       "      <td>backhand</td>\n",
       "      <td>4.00</td>\n",
       "      <td>25.84</td>\n",
       "      <td>6.59</td>\n",
       "      <td>1.04</td>\n",
       "      <td>309.12</td>\n",
       "    </tr>\n",
       "  </tbody>\n",
       "</table>\n",
       "</div>"
      ],
      "text/plain": [
       "    rallyid  frameid  strokeid    hitter  receiver  isserve   serve    type  \\\n",
       "9         5    72790         1  Djokovic     Nadal     True  second   serve   \n",
       "10        5    72800         2  Djokovic     Nadal     True  second   serve   \n",
       "42       11    78015         1  Djokovic     Nadal    False   first  return   \n",
       "43       11    78578         2     Nadal  Djokovic     True   first   serve   \n",
       "44       11    78605         3  Djokovic     Nadal    False   first   slice   \n",
       "\n",
       "      stroke  hitter_x  hitter_y  receiver_x  receiver_y    time  \n",
       "9   forehand      6.17     -0.22        0.54       27.32   76.52  \n",
       "10  forehand      6.43     -0.10        0.93       27.08   76.92  \n",
       "42  forehand     -0.74     25.49        5.96        2.85  285.52  \n",
       "43  forehand      5.53     -0.43        1.41       25.65  308.04  \n",
       "44  backhand      4.00     25.84        6.59        1.04  309.12  "
      ]
     },
     "execution_count": 4,
     "metadata": {},
     "output_type": "execute_result"
    }
   ],
   "source": [
    "events_eda[events_eda.rallyid.isin(events_eda[(events_eda.isserve) & (events_eda.strokeid != 1)].rallyid.unique())].head()"
   ]
  },
  {
   "cell_type": "code",
   "execution_count": 5,
   "id": "ab062303",
   "metadata": {
    "execution": {
     "iopub.execute_input": "2025-02-03T22:17:20.009943Z",
     "iopub.status.busy": "2025-02-03T22:17:20.009543Z",
     "iopub.status.idle": "2025-02-03T22:17:20.025184Z",
     "shell.execute_reply": "2025-02-03T22:17:20.024015Z"
    },
    "papermill": {
     "duration": 0.033852,
     "end_time": "2025-02-03T22:17:20.027582",
     "exception": false,
     "start_time": "2025-02-03T22:17:19.993730",
     "status": "completed"
    },
    "tags": []
   },
   "outputs": [
    {
     "data": {
      "text/html": [
       "<div>\n",
       "<style scoped>\n",
       "    .dataframe tbody tr th:only-of-type {\n",
       "        vertical-align: middle;\n",
       "    }\n",
       "\n",
       "    .dataframe tbody tr th {\n",
       "        vertical-align: top;\n",
       "    }\n",
       "\n",
       "    .dataframe thead th {\n",
       "        text-align: right;\n",
       "    }\n",
       "</style>\n",
       "<table border=\"1\" class=\"dataframe\">\n",
       "  <thead>\n",
       "    <tr style=\"text-align: right;\">\n",
       "      <th></th>\n",
       "      <th>rallyid</th>\n",
       "      <th>server</th>\n",
       "      <th>returner</th>\n",
       "      <th>winner</th>\n",
       "      <th>reason</th>\n",
       "      <th>serve</th>\n",
       "      <th>strokes</th>\n",
       "      <th>totaltime</th>\n",
       "      <th>x</th>\n",
       "      <th>y</th>\n",
       "      <th>score</th>\n",
       "    </tr>\n",
       "  </thead>\n",
       "  <tbody>\n",
       "    <tr>\n",
       "      <th>2</th>\n",
       "      <td>5</td>\n",
       "      <td>Djokovic</td>\n",
       "      <td>Nadal</td>\n",
       "      <td>Djokovic</td>\n",
       "      <td>ace</td>\n",
       "      <td>second</td>\n",
       "      <td>2</td>\n",
       "      <td>0.40</td>\n",
       "      <td>1.62</td>\n",
       "      <td>17.18</td>\n",
       "      <td>0:0, 40:0</td>\n",
       "    </tr>\n",
       "    <tr>\n",
       "      <th>6</th>\n",
       "      <td>11</td>\n",
       "      <td>Nadal</td>\n",
       "      <td>Djokovic</td>\n",
       "      <td>Nadal</td>\n",
       "      <td>winner</td>\n",
       "      <td>first</td>\n",
       "      <td>4</td>\n",
       "      <td>1.08</td>\n",
       "      <td>7.34</td>\n",
       "      <td>18.76</td>\n",
       "      <td>1:0, 30:15</td>\n",
       "    </tr>\n",
       "  </tbody>\n",
       "</table>\n",
       "</div>"
      ],
      "text/plain": [
       "   rallyid    server  returner    winner  reason   serve  strokes  totaltime  \\\n",
       "2        5  Djokovic     Nadal  Djokovic     ace  second        2       0.40   \n",
       "6       11     Nadal  Djokovic     Nadal  winner   first        4       1.08   \n",
       "\n",
       "      x      y       score  \n",
       "2  1.62  17.18   0:0, 40:0  \n",
       "6  7.34  18.76  1:0, 30:15  "
      ]
     },
     "execution_count": 5,
     "metadata": {},
     "output_type": "execute_result"
    }
   ],
   "source": [
    "points_eda[points_eda.rallyid.isin([5, 11])]"
   ]
  },
  {
   "cell_type": "markdown",
   "id": "2cacd849",
   "metadata": {
    "papermill": {
     "duration": 0.014203,
     "end_time": "2025-02-03T22:17:20.056681",
     "exception": false,
     "start_time": "2025-02-03T22:17:20.042478",
     "status": "completed"
    },
    "tags": []
   },
   "source": [
    "In checking the points dataset, a handful of cases were found where the elapsed time of the rally is incongruent with the number of strokes in the rally (e.g. a 10 stroke rally lasting 5 seconds). In cross-referencing the events dataset that contains a running time (seconds) column, however, the error was found to be confined to the points dataset. Therefore, the true elapsed time of a rally could be calculated from the events dataset and added back into the points dataset. I show Rally 204 as one example below."
   ]
  },
  {
   "cell_type": "code",
   "execution_count": 6,
   "id": "c0c5437f",
   "metadata": {
    "execution": {
     "iopub.execute_input": "2025-02-03T22:17:20.087509Z",
     "iopub.status.busy": "2025-02-03T22:17:20.087142Z",
     "iopub.status.idle": "2025-02-03T22:17:20.096231Z",
     "shell.execute_reply": "2025-02-03T22:17:20.094829Z"
    },
    "papermill": {
     "duration": 0.027495,
     "end_time": "2025-02-03T22:17:20.098617",
     "exception": false,
     "start_time": "2025-02-03T22:17:20.071122",
     "status": "completed"
    },
    "tags": []
   },
   "outputs": [
    {
     "data": {
      "text/plain": [
       "array([  9,  44,  93,  96, 111, 115, 120, 130, 161, 191, 204])"
      ]
     },
     "execution_count": 6,
     "metadata": {},
     "output_type": "execute_result"
    }
   ],
   "source": [
    "points_eda[(points_eda.totaltime < 5) & (points_eda.strokes > 5)].rallyid.unique()"
   ]
  },
  {
   "cell_type": "code",
   "execution_count": 7,
   "id": "1702b175",
   "metadata": {
    "execution": {
     "iopub.execute_input": "2025-02-03T22:17:20.132295Z",
     "iopub.status.busy": "2025-02-03T22:17:20.131887Z",
     "iopub.status.idle": "2025-02-03T22:17:20.151541Z",
     "shell.execute_reply": "2025-02-03T22:17:20.150334Z"
    },
    "papermill": {
     "duration": 0.038685,
     "end_time": "2025-02-03T22:17:20.153855",
     "exception": false,
     "start_time": "2025-02-03T22:17:20.115170",
     "status": "completed"
    },
    "tags": []
   },
   "outputs": [
    {
     "data": {
      "text/html": [
       "<div>\n",
       "<style scoped>\n",
       "    .dataframe tbody tr th:only-of-type {\n",
       "        vertical-align: middle;\n",
       "    }\n",
       "\n",
       "    .dataframe tbody tr th {\n",
       "        vertical-align: top;\n",
       "    }\n",
       "\n",
       "    .dataframe thead th {\n",
       "        text-align: right;\n",
       "    }\n",
       "</style>\n",
       "<table border=\"1\" class=\"dataframe\">\n",
       "  <thead>\n",
       "    <tr style=\"text-align: right;\">\n",
       "      <th></th>\n",
       "      <th>rallyid</th>\n",
       "      <th>frameid</th>\n",
       "      <th>strokeid</th>\n",
       "      <th>hitter</th>\n",
       "      <th>receiver</th>\n",
       "      <th>isserve</th>\n",
       "      <th>serve</th>\n",
       "      <th>type</th>\n",
       "      <th>stroke</th>\n",
       "      <th>hitter_x</th>\n",
       "      <th>hitter_y</th>\n",
       "      <th>receiver_x</th>\n",
       "      <th>receiver_y</th>\n",
       "      <th>time</th>\n",
       "    </tr>\n",
       "  </thead>\n",
       "  <tbody>\n",
       "    <tr>\n",
       "      <th>847</th>\n",
       "      <td>204</td>\n",
       "      <td>255057</td>\n",
       "      <td>1</td>\n",
       "      <td>Nadal</td>\n",
       "      <td>Djokovic</td>\n",
       "      <td>True</td>\n",
       "      <td>first</td>\n",
       "      <td>serve</td>\n",
       "      <td>forehand</td>\n",
       "      <td>5.65</td>\n",
       "      <td>-0.91</td>\n",
       "      <td>1.65</td>\n",
       "      <td>24.18</td>\n",
       "      <td>7367.20</td>\n",
       "    </tr>\n",
       "    <tr>\n",
       "      <th>848</th>\n",
       "      <td>204</td>\n",
       "      <td>255078</td>\n",
       "      <td>2</td>\n",
       "      <td>Djokovic</td>\n",
       "      <td>Nadal</td>\n",
       "      <td>False</td>\n",
       "      <td>first</td>\n",
       "      <td>return</td>\n",
       "      <td>forehand</td>\n",
       "      <td>2.87</td>\n",
       "      <td>23.64</td>\n",
       "      <td>5.99</td>\n",
       "      <td>0.40</td>\n",
       "      <td>7368.04</td>\n",
       "    </tr>\n",
       "    <tr>\n",
       "      <th>849</th>\n",
       "      <td>204</td>\n",
       "      <td>255109</td>\n",
       "      <td>3</td>\n",
       "      <td>Nadal</td>\n",
       "      <td>Djokovic</td>\n",
       "      <td>False</td>\n",
       "      <td>first</td>\n",
       "      <td>topspin</td>\n",
       "      <td>forehand</td>\n",
       "      <td>5.49</td>\n",
       "      <td>-0.81</td>\n",
       "      <td>5.24</td>\n",
       "      <td>24.63</td>\n",
       "      <td>7369.28</td>\n",
       "    </tr>\n",
       "    <tr>\n",
       "      <th>850</th>\n",
       "      <td>204</td>\n",
       "      <td>255135</td>\n",
       "      <td>4</td>\n",
       "      <td>Djokovic</td>\n",
       "      <td>Nadal</td>\n",
       "      <td>False</td>\n",
       "      <td>first</td>\n",
       "      <td>topspin</td>\n",
       "      <td>forehand</td>\n",
       "      <td>2.20</td>\n",
       "      <td>26.47</td>\n",
       "      <td>5.72</td>\n",
       "      <td>-0.65</td>\n",
       "      <td>7370.32</td>\n",
       "    </tr>\n",
       "    <tr>\n",
       "      <th>851</th>\n",
       "      <td>204</td>\n",
       "      <td>255167</td>\n",
       "      <td>5</td>\n",
       "      <td>Nadal</td>\n",
       "      <td>Djokovic</td>\n",
       "      <td>False</td>\n",
       "      <td>first</td>\n",
       "      <td>topspin</td>\n",
       "      <td>forehand</td>\n",
       "      <td>7.62</td>\n",
       "      <td>-1.12</td>\n",
       "      <td>3.02</td>\n",
       "      <td>26.12</td>\n",
       "      <td>7371.60</td>\n",
       "    </tr>\n",
       "  </tbody>\n",
       "</table>\n",
       "</div>"
      ],
      "text/plain": [
       "     rallyid  frameid  strokeid    hitter  receiver  isserve  serve     type  \\\n",
       "847      204   255057         1     Nadal  Djokovic     True  first    serve   \n",
       "848      204   255078         2  Djokovic     Nadal    False  first   return   \n",
       "849      204   255109         3     Nadal  Djokovic    False  first  topspin   \n",
       "850      204   255135         4  Djokovic     Nadal    False  first  topspin   \n",
       "851      204   255167         5     Nadal  Djokovic    False  first  topspin   \n",
       "\n",
       "       stroke  hitter_x  hitter_y  receiver_x  receiver_y     time  \n",
       "847  forehand      5.65     -0.91        1.65       24.18  7367.20  \n",
       "848  forehand      2.87     23.64        5.99        0.40  7368.04  \n",
       "849  forehand      5.49     -0.81        5.24       24.63  7369.28  \n",
       "850  forehand      2.20     26.47        5.72       -0.65  7370.32  \n",
       "851  forehand      7.62     -1.12        3.02       26.12  7371.60  "
      ]
     },
     "execution_count": 7,
     "metadata": {},
     "output_type": "execute_result"
    }
   ],
   "source": [
    "events_eda[events_eda.rallyid == 204].head()"
   ]
  },
  {
   "cell_type": "markdown",
   "id": "ab370d39",
   "metadata": {
    "papermill": {
     "duration": 0.014898,
     "end_time": "2025-02-03T22:17:20.183397",
     "exception": false,
     "start_time": "2025-02-03T22:17:20.168499",
     "status": "completed"
    },
    "tags": []
   },
   "source": [
    "Moving back to the events dataset, there are a few instances of poor data with respect to who the hitter and receiver are during a rally, with the following cases showing them as the same person. Through watching video of each rally, these values can be manually tabulated to be the correct names for each stroke."
   ]
  },
  {
   "cell_type": "code",
   "execution_count": 8,
   "id": "f646fa69",
   "metadata": {
    "execution": {
     "iopub.execute_input": "2025-02-03T22:17:20.216268Z",
     "iopub.status.busy": "2025-02-03T22:17:20.215849Z",
     "iopub.status.idle": "2025-02-03T22:17:20.240675Z",
     "shell.execute_reply": "2025-02-03T22:17:20.239422Z"
    },
    "papermill": {
     "duration": 0.0446,
     "end_time": "2025-02-03T22:17:20.243604",
     "exception": false,
     "start_time": "2025-02-03T22:17:20.199004",
     "status": "completed"
    },
    "tags": []
   },
   "outputs": [
    {
     "data": {
      "text/html": [
       "<div>\n",
       "<style scoped>\n",
       "    .dataframe tbody tr th:only-of-type {\n",
       "        vertical-align: middle;\n",
       "    }\n",
       "\n",
       "    .dataframe tbody tr th {\n",
       "        vertical-align: top;\n",
       "    }\n",
       "\n",
       "    .dataframe thead th {\n",
       "        text-align: right;\n",
       "    }\n",
       "</style>\n",
       "<table border=\"1\" class=\"dataframe\">\n",
       "  <thead>\n",
       "    <tr style=\"text-align: right;\">\n",
       "      <th></th>\n",
       "      <th>rallyid</th>\n",
       "      <th>frameid</th>\n",
       "      <th>strokeid</th>\n",
       "      <th>hitter</th>\n",
       "      <th>receiver</th>\n",
       "      <th>isserve</th>\n",
       "      <th>serve</th>\n",
       "      <th>type</th>\n",
       "      <th>stroke</th>\n",
       "      <th>hitter_x</th>\n",
       "      <th>hitter_y</th>\n",
       "      <th>receiver_x</th>\n",
       "      <th>receiver_y</th>\n",
       "      <th>time</th>\n",
       "    </tr>\n",
       "  </thead>\n",
       "  <tbody>\n",
       "    <tr>\n",
       "      <th>321</th>\n",
       "      <td>81</td>\n",
       "      <td>140890</td>\n",
       "      <td>3</td>\n",
       "      <td>Nadal</td>\n",
       "      <td>Nadal</td>\n",
       "      <td>False</td>\n",
       "      <td>first</td>\n",
       "      <td>topspin</td>\n",
       "      <td>forehand</td>\n",
       "      <td>2.58</td>\n",
       "      <td>12.65</td>\n",
       "      <td>6.96</td>\n",
       "      <td>-1.22</td>\n",
       "      <td>2800.52</td>\n",
       "    </tr>\n",
       "    <tr>\n",
       "      <th>457</th>\n",
       "      <td>110</td>\n",
       "      <td>166933</td>\n",
       "      <td>7</td>\n",
       "      <td>Djokovic</td>\n",
       "      <td>Djokovic</td>\n",
       "      <td>False</td>\n",
       "      <td>first</td>\n",
       "      <td>topspin</td>\n",
       "      <td>backhand</td>\n",
       "      <td>3.20</td>\n",
       "      <td>-1.16</td>\n",
       "      <td>6.63</td>\n",
       "      <td>27.32</td>\n",
       "      <td>3842.24</td>\n",
       "    </tr>\n",
       "    <tr>\n",
       "      <th>493</th>\n",
       "      <td>115</td>\n",
       "      <td>171983</td>\n",
       "      <td>8</td>\n",
       "      <td>Djokovic</td>\n",
       "      <td>Djokovic</td>\n",
       "      <td>False</td>\n",
       "      <td>first</td>\n",
       "      <td>topspin</td>\n",
       "      <td>forehand</td>\n",
       "      <td>7.03</td>\n",
       "      <td>25.61</td>\n",
       "      <td>3.34</td>\n",
       "      <td>-1.77</td>\n",
       "      <td>4044.24</td>\n",
       "    </tr>\n",
       "    <tr>\n",
       "      <th>646</th>\n",
       "      <td>155</td>\n",
       "      <td>210183</td>\n",
       "      <td>8</td>\n",
       "      <td>Djokovic</td>\n",
       "      <td>Djokovic</td>\n",
       "      <td>False</td>\n",
       "      <td>first</td>\n",
       "      <td>topspin</td>\n",
       "      <td>forehand</td>\n",
       "      <td>2.77</td>\n",
       "      <td>-0.45</td>\n",
       "      <td>3.63</td>\n",
       "      <td>26.94</td>\n",
       "      <td>5572.24</td>\n",
       "    </tr>\n",
       "    <tr>\n",
       "      <th>653</th>\n",
       "      <td>156</td>\n",
       "      <td>214091</td>\n",
       "      <td>4</td>\n",
       "      <td>Nadal</td>\n",
       "      <td>Nadal</td>\n",
       "      <td>False</td>\n",
       "      <td>first</td>\n",
       "      <td>slice</td>\n",
       "      <td>backhand</td>\n",
       "      <td>5.69</td>\n",
       "      <td>-1.59</td>\n",
       "      <td>4.09</td>\n",
       "      <td>22.17</td>\n",
       "      <td>5728.56</td>\n",
       "    </tr>\n",
       "  </tbody>\n",
       "</table>\n",
       "</div>"
      ],
      "text/plain": [
       "     rallyid  frameid  strokeid    hitter  receiver  isserve  serve     type  \\\n",
       "321       81   140890         3     Nadal     Nadal    False  first  topspin   \n",
       "457      110   166933         7  Djokovic  Djokovic    False  first  topspin   \n",
       "493      115   171983         8  Djokovic  Djokovic    False  first  topspin   \n",
       "646      155   210183         8  Djokovic  Djokovic    False  first  topspin   \n",
       "653      156   214091         4     Nadal     Nadal    False  first    slice   \n",
       "\n",
       "       stroke  hitter_x  hitter_y  receiver_x  receiver_y     time  \n",
       "321  forehand      2.58     12.65        6.96       -1.22  2800.52  \n",
       "457  backhand      3.20     -1.16        6.63       27.32  3842.24  \n",
       "493  forehand      7.03     25.61        3.34       -1.77  4044.24  \n",
       "646  forehand      2.77     -0.45        3.63       26.94  5572.24  \n",
       "653  backhand      5.69     -1.59        4.09       22.17  5728.56  "
      ]
     },
     "execution_count": 8,
     "metadata": {},
     "output_type": "execute_result"
    }
   ],
   "source": [
    "events_eda[events_eda.hitter == events_eda.receiver].head()"
   ]
  },
  {
   "cell_type": "code",
   "execution_count": 9,
   "id": "cfe8d02f",
   "metadata": {
    "execution": {
     "iopub.execute_input": "2025-02-03T22:17:20.280849Z",
     "iopub.status.busy": "2025-02-03T22:17:20.280485Z",
     "iopub.status.idle": "2025-02-03T22:17:20.297317Z",
     "shell.execute_reply": "2025-02-03T22:17:20.296002Z"
    },
    "papermill": {
     "duration": 0.036241,
     "end_time": "2025-02-03T22:17:20.299614",
     "exception": false,
     "start_time": "2025-02-03T22:17:20.263373",
     "status": "completed"
    },
    "tags": []
   },
   "outputs": [
    {
     "data": {
      "text/html": [
       "<div>\n",
       "<style scoped>\n",
       "    .dataframe tbody tr th:only-of-type {\n",
       "        vertical-align: middle;\n",
       "    }\n",
       "\n",
       "    .dataframe tbody tr th {\n",
       "        vertical-align: top;\n",
       "    }\n",
       "\n",
       "    .dataframe thead th {\n",
       "        text-align: right;\n",
       "    }\n",
       "</style>\n",
       "<table border=\"1\" class=\"dataframe\">\n",
       "  <thead>\n",
       "    <tr style=\"text-align: right;\">\n",
       "      <th></th>\n",
       "      <th>rallyid</th>\n",
       "      <th>server</th>\n",
       "      <th>returner</th>\n",
       "      <th>winner</th>\n",
       "      <th>reason</th>\n",
       "      <th>serve</th>\n",
       "      <th>strokes</th>\n",
       "      <th>totaltime</th>\n",
       "      <th>x</th>\n",
       "      <th>y</th>\n",
       "      <th>score</th>\n",
       "    </tr>\n",
       "  </thead>\n",
       "  <tbody>\n",
       "    <tr>\n",
       "      <th>55</th>\n",
       "      <td>81</td>\n",
       "      <td>Nadal</td>\n",
       "      <td>Djokovic</td>\n",
       "      <td>Djokovic</td>\n",
       "      <td>out</td>\n",
       "      <td>first</td>\n",
       "      <td>5</td>\n",
       "      <td>4.48</td>\n",
       "      <td>5.87</td>\n",
       "      <td>-0.81</td>\n",
       "      <td>6:3 1:1, 15:15</td>\n",
       "    </tr>\n",
       "    <tr>\n",
       "      <th>75</th>\n",
       "      <td>110</td>\n",
       "      <td>Djokovic</td>\n",
       "      <td>Nadal</td>\n",
       "      <td>Nadal</td>\n",
       "      <td>net</td>\n",
       "      <td>first</td>\n",
       "      <td>11</td>\n",
       "      <td>9.12</td>\n",
       "      <td>8.35</td>\n",
       "      <td>13.00</td>\n",
       "      <td>6:3 3:2, 40:40</td>\n",
       "    </tr>\n",
       "    <tr>\n",
       "      <th>79</th>\n",
       "      <td>115</td>\n",
       "      <td>Djokovic</td>\n",
       "      <td>Nadal</td>\n",
       "      <td>Djokovic</td>\n",
       "      <td>net</td>\n",
       "      <td>first</td>\n",
       "      <td>10</td>\n",
       "      <td>0.84</td>\n",
       "      <td>3.70</td>\n",
       "      <td>12.93</td>\n",
       "      <td>6:3 4:2, 0:0</td>\n",
       "    </tr>\n",
       "    <tr>\n",
       "      <th>104</th>\n",
       "      <td>155</td>\n",
       "      <td>Nadal</td>\n",
       "      <td>Djokovic</td>\n",
       "      <td>Djokovic</td>\n",
       "      <td>net</td>\n",
       "      <td>first</td>\n",
       "      <td>11</td>\n",
       "      <td>14.16</td>\n",
       "      <td>4.88</td>\n",
       "      <td>13.86</td>\n",
       "      <td>6:3 6:2 2:1, 0:0</td>\n",
       "    </tr>\n",
       "    <tr>\n",
       "      <th>105</th>\n",
       "      <td>156</td>\n",
       "      <td>Djokovic</td>\n",
       "      <td>Nadal</td>\n",
       "      <td>Nadal</td>\n",
       "      <td>winner</td>\n",
       "      <td>first</td>\n",
       "      <td>8</td>\n",
       "      <td>8.96</td>\n",
       "      <td>8.21</td>\n",
       "      <td>20.84</td>\n",
       "      <td>6:3 6:2 2:1, 0:15</td>\n",
       "    </tr>\n",
       "  </tbody>\n",
       "</table>\n",
       "</div>"
      ],
      "text/plain": [
       "     rallyid    server  returner    winner  reason  serve  strokes  totaltime  \\\n",
       "55        81     Nadal  Djokovic  Djokovic     out  first        5       4.48   \n",
       "75       110  Djokovic     Nadal     Nadal     net  first       11       9.12   \n",
       "79       115  Djokovic     Nadal  Djokovic     net  first       10       0.84   \n",
       "104      155     Nadal  Djokovic  Djokovic     net  first       11      14.16   \n",
       "105      156  Djokovic     Nadal     Nadal  winner  first        8       8.96   \n",
       "\n",
       "        x      y              score  \n",
       "55   5.87  -0.81     6:3 1:1, 15:15  \n",
       "75   8.35  13.00     6:3 3:2, 40:40  \n",
       "79   3.70  12.93       6:3 4:2, 0:0  \n",
       "104  4.88  13.86   6:3 6:2 2:1, 0:0  \n",
       "105  8.21  20.84  6:3 6:2 2:1, 0:15  "
      ]
     },
     "execution_count": 9,
     "metadata": {},
     "output_type": "execute_result"
    }
   ],
   "source": [
    "points_eda[points_eda.rallyid.isin([81, 110, 115, 155, 156])].head()"
   ]
  },
  {
   "cell_type": "markdown",
   "id": "4aec4045",
   "metadata": {
    "papermill": {
     "duration": 0.015637,
     "end_time": "2025-02-03T22:17:20.330776",
     "exception": false,
     "start_time": "2025-02-03T22:17:20.315139",
     "status": "completed"
    },
    "tags": []
   },
   "source": [
    "More events with a similar error were also found, in this case with a missing receiver name and (x, y) location. The names of the receiver could also be handled manually, or with an np.where() function or other rules-based code. However, given that the receiver's location is a continuous variable, a multioutput regression model would be best served to predict these missing values using the remaining event-level data."
   ]
  },
  {
   "cell_type": "code",
   "execution_count": 10,
   "id": "fc9d69bf",
   "metadata": {
    "execution": {
     "iopub.execute_input": "2025-02-03T22:17:20.365012Z",
     "iopub.status.busy": "2025-02-03T22:17:20.364583Z",
     "iopub.status.idle": "2025-02-03T22:17:20.376163Z",
     "shell.execute_reply": "2025-02-03T22:17:20.374871Z"
    },
    "papermill": {
     "duration": 0.031244,
     "end_time": "2025-02-03T22:17:20.378537",
     "exception": false,
     "start_time": "2025-02-03T22:17:20.347293",
     "status": "completed"
    },
    "tags": []
   },
   "outputs": [
    {
     "data": {
      "text/plain": [
       "rallyid        0\n",
       "frameid        0\n",
       "strokeid       0\n",
       "hitter         0\n",
       "receiver      20\n",
       "isserve        0\n",
       "serve          0\n",
       "type           0\n",
       "stroke         0\n",
       "hitter_x       0\n",
       "hitter_y       0\n",
       "receiver_x    20\n",
       "receiver_y    20\n",
       "time           0\n",
       "dtype: int64"
      ]
     },
     "execution_count": 10,
     "metadata": {},
     "output_type": "execute_result"
    }
   ],
   "source": [
    "events_eda.isna().sum()"
   ]
  },
  {
   "cell_type": "code",
   "execution_count": 11,
   "id": "0a8f3a0a",
   "metadata": {
    "execution": {
     "iopub.execute_input": "2025-02-03T22:17:20.411416Z",
     "iopub.status.busy": "2025-02-03T22:17:20.411030Z",
     "iopub.status.idle": "2025-02-03T22:17:20.432827Z",
     "shell.execute_reply": "2025-02-03T22:17:20.431752Z"
    },
    "papermill": {
     "duration": 0.041039,
     "end_time": "2025-02-03T22:17:20.435202",
     "exception": false,
     "start_time": "2025-02-03T22:17:20.394163",
     "status": "completed"
    },
    "tags": []
   },
   "outputs": [
    {
     "data": {
      "text/html": [
       "<div>\n",
       "<style scoped>\n",
       "    .dataframe tbody tr th:only-of-type {\n",
       "        vertical-align: middle;\n",
       "    }\n",
       "\n",
       "    .dataframe tbody tr th {\n",
       "        vertical-align: top;\n",
       "    }\n",
       "\n",
       "    .dataframe thead th {\n",
       "        text-align: right;\n",
       "    }\n",
       "</style>\n",
       "<table border=\"1\" class=\"dataframe\">\n",
       "  <thead>\n",
       "    <tr style=\"text-align: right;\">\n",
       "      <th></th>\n",
       "      <th>rallyid</th>\n",
       "      <th>frameid</th>\n",
       "      <th>strokeid</th>\n",
       "      <th>hitter</th>\n",
       "      <th>receiver</th>\n",
       "      <th>isserve</th>\n",
       "      <th>serve</th>\n",
       "      <th>type</th>\n",
       "      <th>stroke</th>\n",
       "      <th>hitter_x</th>\n",
       "      <th>hitter_y</th>\n",
       "      <th>receiver_x</th>\n",
       "      <th>receiver_y</th>\n",
       "      <th>time</th>\n",
       "    </tr>\n",
       "  </thead>\n",
       "  <tbody>\n",
       "    <tr>\n",
       "      <th>46</th>\n",
       "      <td>12</td>\n",
       "      <td>79431</td>\n",
       "      <td>1</td>\n",
       "      <td>Nadal</td>\n",
       "      <td>NaN</td>\n",
       "      <td>True</td>\n",
       "      <td>first</td>\n",
       "      <td>serve</td>\n",
       "      <td>forehand</td>\n",
       "      <td>4.87</td>\n",
       "      <td>-2.58</td>\n",
       "      <td>NaN</td>\n",
       "      <td>NaN</td>\n",
       "      <td>342.16</td>\n",
       "    </tr>\n",
       "    <tr>\n",
       "      <th>89</th>\n",
       "      <td>21</td>\n",
       "      <td>88587</td>\n",
       "      <td>1</td>\n",
       "      <td>Nadal</td>\n",
       "      <td>NaN</td>\n",
       "      <td>True</td>\n",
       "      <td>first</td>\n",
       "      <td>serve</td>\n",
       "      <td>forehand</td>\n",
       "      <td>6.34</td>\n",
       "      <td>13.47</td>\n",
       "      <td>NaN</td>\n",
       "      <td>NaN</td>\n",
       "      <td>708.40</td>\n",
       "    </tr>\n",
       "    <tr>\n",
       "      <th>111</th>\n",
       "      <td>29</td>\n",
       "      <td>93622</td>\n",
       "      <td>1</td>\n",
       "      <td>Nadal</td>\n",
       "      <td>NaN</td>\n",
       "      <td>True</td>\n",
       "      <td>first</td>\n",
       "      <td>serve</td>\n",
       "      <td>forehand</td>\n",
       "      <td>3.62</td>\n",
       "      <td>24.79</td>\n",
       "      <td>NaN</td>\n",
       "      <td>NaN</td>\n",
       "      <td>909.80</td>\n",
       "    </tr>\n",
       "    <tr>\n",
       "      <th>583</th>\n",
       "      <td>135</td>\n",
       "      <td>196812</td>\n",
       "      <td>7</td>\n",
       "      <td>Nadal</td>\n",
       "      <td>NaN</td>\n",
       "      <td>False</td>\n",
       "      <td>first</td>\n",
       "      <td>volley</td>\n",
       "      <td>forehand</td>\n",
       "      <td>4.84</td>\n",
       "      <td>5.99</td>\n",
       "      <td>NaN</td>\n",
       "      <td>NaN</td>\n",
       "      <td>5037.40</td>\n",
       "    </tr>\n",
       "    <tr>\n",
       "      <th>608</th>\n",
       "      <td>149</td>\n",
       "      <td>205428</td>\n",
       "      <td>2</td>\n",
       "      <td>Djokovic</td>\n",
       "      <td>NaN</td>\n",
       "      <td>False</td>\n",
       "      <td>second</td>\n",
       "      <td>return</td>\n",
       "      <td>forehand</td>\n",
       "      <td>2.23</td>\n",
       "      <td>-0.65</td>\n",
       "      <td>NaN</td>\n",
       "      <td>NaN</td>\n",
       "      <td>5382.04</td>\n",
       "    </tr>\n",
       "  </tbody>\n",
       "</table>\n",
       "</div>"
      ],
      "text/plain": [
       "     rallyid  frameid  strokeid    hitter receiver  isserve   serve    type  \\\n",
       "46        12    79431         1     Nadal      NaN     True   first   serve   \n",
       "89        21    88587         1     Nadal      NaN     True   first   serve   \n",
       "111       29    93622         1     Nadal      NaN     True   first   serve   \n",
       "583      135   196812         7     Nadal      NaN    False   first  volley   \n",
       "608      149   205428         2  Djokovic      NaN    False  second  return   \n",
       "\n",
       "       stroke  hitter_x  hitter_y  receiver_x  receiver_y     time  \n",
       "46   forehand      4.87     -2.58         NaN         NaN   342.16  \n",
       "89   forehand      6.34     13.47         NaN         NaN   708.40  \n",
       "111  forehand      3.62     24.79         NaN         NaN   909.80  \n",
       "583  forehand      4.84      5.99         NaN         NaN  5037.40  \n",
       "608  forehand      2.23     -0.65         NaN         NaN  5382.04  "
      ]
     },
     "execution_count": 11,
     "metadata": {},
     "output_type": "execute_result"
    }
   ],
   "source": [
    "events_eda[events_eda.receiver.isna()].head()"
   ]
  },
  {
   "cell_type": "code",
   "execution_count": 12,
   "id": "99d39b2e",
   "metadata": {
    "execution": {
     "iopub.execute_input": "2025-02-03T22:17:20.468941Z",
     "iopub.status.busy": "2025-02-03T22:17:20.468549Z",
     "iopub.status.idle": "2025-02-03T22:17:20.486323Z",
     "shell.execute_reply": "2025-02-03T22:17:20.484904Z"
    },
    "papermill": {
     "duration": 0.037307,
     "end_time": "2025-02-03T22:17:20.488809",
     "exception": false,
     "start_time": "2025-02-03T22:17:20.451502",
     "status": "completed"
    },
    "tags": []
   },
   "outputs": [
    {
     "data": {
      "text/html": [
       "<div>\n",
       "<style scoped>\n",
       "    .dataframe tbody tr th:only-of-type {\n",
       "        vertical-align: middle;\n",
       "    }\n",
       "\n",
       "    .dataframe tbody tr th {\n",
       "        vertical-align: top;\n",
       "    }\n",
       "\n",
       "    .dataframe thead th {\n",
       "        text-align: right;\n",
       "    }\n",
       "</style>\n",
       "<table border=\"1\" class=\"dataframe\">\n",
       "  <thead>\n",
       "    <tr style=\"text-align: right;\">\n",
       "      <th></th>\n",
       "      <th>rallyid</th>\n",
       "      <th>server</th>\n",
       "      <th>returner</th>\n",
       "      <th>winner</th>\n",
       "      <th>reason</th>\n",
       "      <th>serve</th>\n",
       "      <th>strokes</th>\n",
       "      <th>totaltime</th>\n",
       "      <th>x</th>\n",
       "      <th>y</th>\n",
       "      <th>score</th>\n",
       "    </tr>\n",
       "  </thead>\n",
       "  <tbody>\n",
       "    <tr>\n",
       "      <th>19</th>\n",
       "      <td>29</td>\n",
       "      <td>Nadal</td>\n",
       "      <td>NaN</td>\n",
       "      <td>Nadal</td>\n",
       "      <td>out</td>\n",
       "      <td>first</td>\n",
       "      <td>2</td>\n",
       "      <td>0.80</td>\n",
       "      <td>2.27</td>\n",
       "      <td>24.56</td>\n",
       "      <td>3:0, 40:Ad</td>\n",
       "    </tr>\n",
       "    <tr>\n",
       "      <th>93</th>\n",
       "      <td>135</td>\n",
       "      <td>Nadal</td>\n",
       "      <td>Djokovic</td>\n",
       "      <td>Nadal</td>\n",
       "      <td>winner</td>\n",
       "      <td>first</td>\n",
       "      <td>7</td>\n",
       "      <td>7.20</td>\n",
       "      <td>1.63</td>\n",
       "      <td>17.26</td>\n",
       "      <td>6:3 6:2 0:0, 30:40</td>\n",
       "    </tr>\n",
       "    <tr>\n",
       "      <th>100</th>\n",
       "      <td>149</td>\n",
       "      <td>Nadal</td>\n",
       "      <td>Djokovic</td>\n",
       "      <td>Djokovic</td>\n",
       "      <td>winner</td>\n",
       "      <td>second</td>\n",
       "      <td>2</td>\n",
       "      <td>0.92</td>\n",
       "      <td>8.67</td>\n",
       "      <td>11.43</td>\n",
       "      <td>6:3 6:2 1:1, 15:15</td>\n",
       "    </tr>\n",
       "    <tr>\n",
       "      <th>102</th>\n",
       "      <td>152</td>\n",
       "      <td>Nadal</td>\n",
       "      <td>Djokovic</td>\n",
       "      <td>Djokovic</td>\n",
       "      <td>out</td>\n",
       "      <td>first</td>\n",
       "      <td>11</td>\n",
       "      <td>12.80</td>\n",
       "      <td>8.73</td>\n",
       "      <td>-0.71</td>\n",
       "      <td>6:3 6:2 1:1, 40:15</td>\n",
       "    </tr>\n",
       "    <tr>\n",
       "      <th>103</th>\n",
       "      <td>154</td>\n",
       "      <td>Nadal</td>\n",
       "      <td>Djokovic</td>\n",
       "      <td>Nadal</td>\n",
       "      <td>net</td>\n",
       "      <td>second</td>\n",
       "      <td>16</td>\n",
       "      <td>11.36</td>\n",
       "      <td>4.74</td>\n",
       "      <td>11.70</td>\n",
       "      <td>6:3 6:2 1:1, 40:30</td>\n",
       "    </tr>\n",
       "  </tbody>\n",
       "</table>\n",
       "</div>"
      ],
      "text/plain": [
       "     rallyid server  returner    winner  reason   serve  strokes  totaltime  \\\n",
       "19        29  Nadal       NaN     Nadal     out   first        2       0.80   \n",
       "93       135  Nadal  Djokovic     Nadal  winner   first        7       7.20   \n",
       "100      149  Nadal  Djokovic  Djokovic  winner  second        2       0.92   \n",
       "102      152  Nadal  Djokovic  Djokovic     out   first       11      12.80   \n",
       "103      154  Nadal  Djokovic     Nadal     net  second       16      11.36   \n",
       "\n",
       "        x      y               score  \n",
       "19   2.27  24.56          3:0, 40:Ad  \n",
       "93   1.63  17.26  6:3 6:2 0:0, 30:40  \n",
       "100  8.67  11.43  6:3 6:2 1:1, 15:15  \n",
       "102  8.73  -0.71  6:3 6:2 1:1, 40:15  \n",
       "103  4.74  11.70  6:3 6:2 1:1, 40:30  "
      ]
     },
     "execution_count": 12,
     "metadata": {},
     "output_type": "execute_result"
    }
   ],
   "source": [
    "points_eda[points_eda.rallyid.isin(events_eda[events_eda.receiver.isna()].rallyid.unique())].head()"
   ]
  },
  {
   "cell_type": "markdown",
   "id": "9ee3d7b4",
   "metadata": {
    "papermill": {
     "duration": 0.015415,
     "end_time": "2025-02-03T22:17:20.522167",
     "exception": false,
     "start_time": "2025-02-03T22:17:20.506752",
     "status": "completed"
    },
    "tags": []
   },
   "source": [
    "The final case of bad data concerns serves. In short, any serve with a player inside either baseline during a serve or on the return should be an obvious data issue. In filtering for this issue, I did manage to find a couple of cases that meet the stated criteria. Upon further review, the real issue was not found to be with the locations but with the events being tabulated as their own rally, when they are actually the conclusion to the previous rally in the data. These could also be corrected through code to change the rally and stroke ids to their true value in accordance with how the rallies truly played out."
   ]
  },
  {
   "cell_type": "code",
   "execution_count": 13,
   "id": "2c67ebbc",
   "metadata": {
    "execution": {
     "iopub.execute_input": "2025-02-03T22:17:20.555990Z",
     "iopub.status.busy": "2025-02-03T22:17:20.555537Z",
     "iopub.status.idle": "2025-02-03T22:17:20.576182Z",
     "shell.execute_reply": "2025-02-03T22:17:20.574952Z"
    },
    "papermill": {
     "duration": 0.040067,
     "end_time": "2025-02-03T22:17:20.578388",
     "exception": false,
     "start_time": "2025-02-03T22:17:20.538321",
     "status": "completed"
    },
    "tags": []
   },
   "outputs": [
    {
     "data": {
      "text/html": [
       "<div>\n",
       "<style scoped>\n",
       "    .dataframe tbody tr th:only-of-type {\n",
       "        vertical-align: middle;\n",
       "    }\n",
       "\n",
       "    .dataframe tbody tr th {\n",
       "        vertical-align: top;\n",
       "    }\n",
       "\n",
       "    .dataframe thead th {\n",
       "        text-align: right;\n",
       "    }\n",
       "</style>\n",
       "<table border=\"1\" class=\"dataframe\">\n",
       "  <thead>\n",
       "    <tr style=\"text-align: right;\">\n",
       "      <th></th>\n",
       "      <th>rallyid</th>\n",
       "      <th>frameid</th>\n",
       "      <th>strokeid</th>\n",
       "      <th>hitter</th>\n",
       "      <th>receiver</th>\n",
       "      <th>isserve</th>\n",
       "      <th>serve</th>\n",
       "      <th>type</th>\n",
       "      <th>stroke</th>\n",
       "      <th>hitter_x</th>\n",
       "      <th>hitter_y</th>\n",
       "      <th>receiver_x</th>\n",
       "      <th>receiver_y</th>\n",
       "      <th>time</th>\n",
       "    </tr>\n",
       "  </thead>\n",
       "  <tbody>\n",
       "    <tr>\n",
       "      <th>63</th>\n",
       "      <td>15</td>\n",
       "      <td>82425</td>\n",
       "      <td>1</td>\n",
       "      <td>Djokovic</td>\n",
       "      <td>Nadal</td>\n",
       "      <td>True</td>\n",
       "      <td>first</td>\n",
       "      <td>serve</td>\n",
       "      <td>forehand</td>\n",
       "      <td>3.52</td>\n",
       "      <td>21.85</td>\n",
       "      <td>9.61</td>\n",
       "      <td>-3.57</td>\n",
       "      <td>461.92</td>\n",
       "    </tr>\n",
       "    <tr>\n",
       "      <th>77</th>\n",
       "      <td>20</td>\n",
       "      <td>87389</td>\n",
       "      <td>1</td>\n",
       "      <td>Nadal</td>\n",
       "      <td>Djokovic</td>\n",
       "      <td>True</td>\n",
       "      <td>first</td>\n",
       "      <td>serve</td>\n",
       "      <td>forehand</td>\n",
       "      <td>3.20</td>\n",
       "      <td>20.22</td>\n",
       "      <td>7.68</td>\n",
       "      <td>-3.25</td>\n",
       "      <td>660.48</td>\n",
       "    </tr>\n",
       "    <tr>\n",
       "      <th>89</th>\n",
       "      <td>21</td>\n",
       "      <td>88587</td>\n",
       "      <td>1</td>\n",
       "      <td>Nadal</td>\n",
       "      <td>NaN</td>\n",
       "      <td>True</td>\n",
       "      <td>first</td>\n",
       "      <td>serve</td>\n",
       "      <td>forehand</td>\n",
       "      <td>6.34</td>\n",
       "      <td>13.47</td>\n",
       "      <td>NaN</td>\n",
       "      <td>NaN</td>\n",
       "      <td>708.40</td>\n",
       "    </tr>\n",
       "    <tr>\n",
       "      <th>117</th>\n",
       "      <td>31</td>\n",
       "      <td>95498</td>\n",
       "      <td>1</td>\n",
       "      <td>Djokovic</td>\n",
       "      <td>Nadal</td>\n",
       "      <td>True</td>\n",
       "      <td>first</td>\n",
       "      <td>serve</td>\n",
       "      <td>forehand</td>\n",
       "      <td>5.97</td>\n",
       "      <td>1.78</td>\n",
       "      <td>1.12</td>\n",
       "      <td>24.11</td>\n",
       "      <td>984.84</td>\n",
       "    </tr>\n",
       "    <tr>\n",
       "      <th>139</th>\n",
       "      <td>39</td>\n",
       "      <td>102753</td>\n",
       "      <td>1</td>\n",
       "      <td>Nadal</td>\n",
       "      <td>Djokovic</td>\n",
       "      <td>True</td>\n",
       "      <td>first</td>\n",
       "      <td>serve</td>\n",
       "      <td>forehand</td>\n",
       "      <td>5.26</td>\n",
       "      <td>-2.84</td>\n",
       "      <td>3.95</td>\n",
       "      <td>8.57</td>\n",
       "      <td>1275.04</td>\n",
       "    </tr>\n",
       "  </tbody>\n",
       "</table>\n",
       "</div>"
      ],
      "text/plain": [
       "     rallyid  frameid  strokeid    hitter  receiver  isserve  serve   type  \\\n",
       "63        15    82425         1  Djokovic     Nadal     True  first  serve   \n",
       "77        20    87389         1     Nadal  Djokovic     True  first  serve   \n",
       "89        21    88587         1     Nadal       NaN     True  first  serve   \n",
       "117       31    95498         1  Djokovic     Nadal     True  first  serve   \n",
       "139       39   102753         1     Nadal  Djokovic     True  first  serve   \n",
       "\n",
       "       stroke  hitter_x  hitter_y  receiver_x  receiver_y     time  \n",
       "63   forehand      3.52     21.85        9.61       -3.57   461.92  \n",
       "77   forehand      3.20     20.22        7.68       -3.25   660.48  \n",
       "89   forehand      6.34     13.47         NaN         NaN   708.40  \n",
       "117  forehand      5.97      1.78        1.12       24.11   984.84  \n",
       "139  forehand      5.26     -2.84        3.95        8.57  1275.04  "
      ]
     },
     "execution_count": 13,
     "metadata": {},
     "output_type": "execute_result"
    }
   ],
   "source": [
    "events_eda[(events_eda.isserve) & (((events_eda.receiver_y > 1) & (events_eda.receiver_y < 22)) | ((events_eda.hitter_y > 1) & (events_eda.hitter_y < 24)))].head()"
   ]
  },
  {
   "cell_type": "code",
   "execution_count": 14,
   "id": "aedb922d",
   "metadata": {
    "execution": {
     "iopub.execute_input": "2025-02-03T22:17:20.613364Z",
     "iopub.status.busy": "2025-02-03T22:17:20.613008Z",
     "iopub.status.idle": "2025-02-03T22:17:20.629977Z",
     "shell.execute_reply": "2025-02-03T22:17:20.628758Z"
    },
    "papermill": {
     "duration": 0.037228,
     "end_time": "2025-02-03T22:17:20.632204",
     "exception": false,
     "start_time": "2025-02-03T22:17:20.594976",
     "status": "completed"
    },
    "tags": []
   },
   "outputs": [
    {
     "data": {
      "text/html": [
       "<div>\n",
       "<style scoped>\n",
       "    .dataframe tbody tr th:only-of-type {\n",
       "        vertical-align: middle;\n",
       "    }\n",
       "\n",
       "    .dataframe tbody tr th {\n",
       "        vertical-align: top;\n",
       "    }\n",
       "\n",
       "    .dataframe thead th {\n",
       "        text-align: right;\n",
       "    }\n",
       "</style>\n",
       "<table border=\"1\" class=\"dataframe\">\n",
       "  <thead>\n",
       "    <tr style=\"text-align: right;\">\n",
       "      <th></th>\n",
       "      <th>rallyid</th>\n",
       "      <th>frameid</th>\n",
       "      <th>strokeid</th>\n",
       "      <th>hitter</th>\n",
       "      <th>receiver</th>\n",
       "      <th>isserve</th>\n",
       "      <th>serve</th>\n",
       "      <th>type</th>\n",
       "      <th>stroke</th>\n",
       "      <th>hitter_x</th>\n",
       "      <th>hitter_y</th>\n",
       "      <th>receiver_x</th>\n",
       "      <th>receiver_y</th>\n",
       "      <th>time</th>\n",
       "    </tr>\n",
       "  </thead>\n",
       "  <tbody>\n",
       "    <tr>\n",
       "      <th>416</th>\n",
       "      <td>101</td>\n",
       "      <td>157982</td>\n",
       "      <td>2</td>\n",
       "      <td>Nadal</td>\n",
       "      <td>Djokovic</td>\n",
       "      <td>False</td>\n",
       "      <td>first</td>\n",
       "      <td>volley</td>\n",
       "      <td>backhand</td>\n",
       "      <td>8.03</td>\n",
       "      <td>10.41</td>\n",
       "      <td>6.95</td>\n",
       "      <td>17.52</td>\n",
       "      <td>3484.2</td>\n",
       "    </tr>\n",
       "  </tbody>\n",
       "</table>\n",
       "</div>"
      ],
      "text/plain": [
       "     rallyid  frameid  strokeid hitter  receiver  isserve  serve    type  \\\n",
       "416      101   157982         2  Nadal  Djokovic    False  first  volley   \n",
       "\n",
       "       stroke  hitter_x  hitter_y  receiver_x  receiver_y    time  \n",
       "416  backhand      8.03     10.41        6.95       17.52  3484.2  "
      ]
     },
     "execution_count": 14,
     "metadata": {},
     "output_type": "execute_result"
    }
   ],
   "source": [
    "events_eda[(events_eda.strokeid == 2) & (((events_eda.hitter_y > 2) & (events_eda.hitter_y < 22)))].head()"
   ]
  },
  {
   "cell_type": "markdown",
   "id": "e6607a49",
   "metadata": {
    "papermill": {
     "duration": 0.016195,
     "end_time": "2025-02-03T22:17:20.665065",
     "exception": false,
     "start_time": "2025-02-03T22:17:20.648870",
     "status": "completed"
    },
    "tags": []
   },
   "source": [
    "## Data Cleaning\n",
    "\n",
    "With bad data flagged, I include code that will remedy the various errors, including correct times elapsed for each rally and player locations. Any manual or rules-based cleaning od the data is achieved through functions, whereas the method to handle missing receiver locations will be discussed in more detail below."
   ]
  },
  {
   "cell_type": "code",
   "execution_count": 15,
   "id": "816d7e8b",
   "metadata": {
    "execution": {
     "iopub.execute_input": "2025-02-03T22:17:20.703645Z",
     "iopub.status.busy": "2025-02-03T22:17:20.702914Z",
     "iopub.status.idle": "2025-02-03T22:17:20.713028Z",
     "shell.execute_reply": "2025-02-03T22:17:20.711389Z"
    },
    "papermill": {
     "duration": 0.034262,
     "end_time": "2025-02-03T22:17:20.715477",
     "exception": false,
     "start_time": "2025-02-03T22:17:20.681215",
     "status": "completed"
    },
    "tags": []
   },
   "outputs": [],
   "source": [
    "def get_true_rally_times(events_data, points_data = points):\n",
    "    \"\"\"\n",
    "    Purpose: Clean points dataset to get true rally times from events dataset\n",
    "\n",
    "    Input(s):\n",
    "        events_data (pd.DataFrame): Contains event-level data for each rally\n",
    "        points_data (pd.DataFrame): Contains data at the level of each rally\n",
    "\n",
    "    Output(s):\n",
    "        points_data_clean (pd.DataFrame): points dataset with totaltime column changed\n",
    "    \"\"\"\n",
    "\n",
    "    # Group by rally and returning min, max time\n",
    "    points_minmax_times = events_data.groupby(\"rallyid\").time.agg([\"min\", \"max\"]).reset_index()\n",
    "\n",
    "    # Create elapsed time variable from min and max time difference\n",
    "    points_minmax_times[\"elapsed_time\"] = points_minmax_times[\"max\"] - points_minmax_times[\"min\"]\n",
    "\n",
    "    # Join times to points dataframe \n",
    "    points_data_clean = pd.merge(points_data, points_minmax_times[[\"rallyid\", \"elapsed_time\"]]).drop(\"totaltime\", axis = 1).rename(columns = {\"elapsed_time\": \"totaltime\"})\n",
    "    points_data_clean = points_data_clean[points_data_clean.rallyid != 101]\n",
    "    \n",
    "    return points_data_clean"
   ]
  },
  {
   "cell_type": "code",
   "execution_count": 16,
   "id": "ba69ddf9",
   "metadata": {
    "execution": {
     "iopub.execute_input": "2025-02-03T22:17:20.754494Z",
     "iopub.status.busy": "2025-02-03T22:17:20.753778Z",
     "iopub.status.idle": "2025-02-03T22:17:20.766054Z",
     "shell.execute_reply": "2025-02-03T22:17:20.764753Z"
    },
    "papermill": {
     "duration": 0.03577,
     "end_time": "2025-02-03T22:17:20.768338",
     "exception": false,
     "start_time": "2025-02-03T22:17:20.732568",
     "status": "completed"
    },
    "tags": []
   },
   "outputs": [],
   "source": [
    "def clean_rally_hitter_receiver_names(events_data):\n",
    "    \"\"\"\n",
    "    Purpose: Clean events dataset to fill in missing hitter and receiver column values\n",
    "\n",
    "    Input(s):\n",
    "        events_data (pd.DataFrame): Contains event-level data for each rally\n",
    "\n",
    "    Output(s):\n",
    "        events_data_clean (pd.DataFrame): events dataset with hitter/receiver column values changed    \n",
    "    \"\"\"\n",
    "\n",
    "    # Create a DataFrame with cleaned rally names for specific rally and stroke IDs\n",
    "    cleaned_rally_names = pd.DataFrame({\n",
    "        \"rallyid\": [81, 110, 115, 155, 156, 12, 21, 29, 135, 149, 152, 154, 159, 160, 160, 160, 161, 168, 175, 176, 194, 196, 196, 196, 196],\n",
    "        \"strokeid\": [3, 7, 8, 8, 4, 1, 1, 1, 7, 2, 11, 14, 1, 1, 2, 3, 7, 5, 2, 8, 13, 1, 2, 3, 4], \n",
    "        \"hitter\": [\"Nadal\", \"Djokovic\", \"Nadal\", \"Djokovic\", \"Nadal\", \"Nadal\", \"Nadal\", \"Nadal\", \"Nadal\", \"Djokovic\", \"Nadal\", \"Djokovic\", \"Djokovic\", \"Djokovic\", \n",
    "                   \"Nadal\", \"Djokovic\", \"Djokovic\", \"Nadal\", \"Nadal\", \"Nadal\", \"Djokovic\", \"Djokovic\", \"Nadal\", \"Djokovic\", \"Nadal\"], \n",
    "        \"receiver\": [\"Djokovic\", \"Nadal\", \"Djokovic\", \"Nadal\", \"Djokovic\", \"Djokovic\", \"Djokovic\", \"Djokovic\", \"Djokovic\", \"Nadal\", \"Djokovic\", \"Nadal\", \"Nadal\", \"Nadal\", \n",
    "                     \"Djokovic\", \"Nadal\", \"Nadal\", \"Djokovic\", \"Djokovic\", \"Djokovic\", \"Nadal\", \"Nadal\", \"Djokovic\", \"Nadal\", \"Djokovic\"]\n",
    "    })\n",
    "\n",
    "    # Merge the events data with the cleaned rally names on rallyid and strokeid\n",
    "    events_merge = pd.merge(events_eda, cleaned_rally_names, how=\"left\", on=[\"rallyid\", \"strokeid\"], suffixes=(\"_old\", \"_new\"))\n",
    "\n",
    "    # Update the hitter column with old hitter values\n",
    "    events_merge[\"hitter\"] = events_merge.hitter_old\n",
    "    \n",
    "    # Update the receiver column based on certain conditions\n",
    "    events_merge[\"receiver\"] = np.where((events_merge.hitter_old == events_merge.receiver_old) | (events_merge.receiver_old.isna()), \n",
    "                                        events_merge.receiver_new, events_merge.receiver_old)\n",
    "    # Handle undefined receiver cases and assign values based on hitter\n",
    "    events_merge[\"receiver\"] = np.where((events_merge.receiver == \"__undefined__\") & (events_merge.hitter == \"Nadal\"), \"Djokovic\",\n",
    "                                       np.where((events_merge.receiver == \"__undefined__\") & (events_merge.hitter == \"Djokovic\"), \"Nadal\", \n",
    "                                                events_merge.receiver))\n",
    "\n",
    "    # Return relevant columns\n",
    "    return_cols = [\"rallyid\", \"frameid\", \"strokeid\", \"hitter\", \"receiver\", \"isserve\", \"serve\", \"type\", \"stroke\", \"hitter_x\", \"hitter_y\", \"receiver_x\", \"receiver_y\", \"time\"]\n",
    "    events_data_clean = events_merge[return_cols]\n",
    "    \n",
    "    return events_data_clean"
   ]
  },
  {
   "cell_type": "code",
   "execution_count": 17,
   "id": "1650c4cd",
   "metadata": {
    "execution": {
     "iopub.execute_input": "2025-02-03T22:17:20.812669Z",
     "iopub.status.busy": "2025-02-03T22:17:20.811895Z",
     "iopub.status.idle": "2025-02-03T22:17:20.829974Z",
     "shell.execute_reply": "2025-02-03T22:17:20.828703Z"
    },
    "papermill": {
     "duration": 0.04461,
     "end_time": "2025-02-03T22:17:20.832832",
     "exception": false,
     "start_time": "2025-02-03T22:17:20.788222",
     "status": "completed"
    },
    "tags": []
   },
   "outputs": [],
   "source": [
    "def clean_bad_event_data_info(events_data):\n",
    "    \"\"\"\n",
    "    Purpose: Clean events dataset to correct found data issues in multiple columns\n",
    "\n",
    "    Input(s):\n",
    "        events_data (pd.DataFrame): Contains event-level data for each rally\n",
    "\n",
    "    Output(s):\n",
    "        events_data_clean (pd.DataFrame): events dataset with uncovered data issues remedied   \n",
    "    \"\"\"\n",
    "    \n",
    "    # Remove data that is an error upon review\n",
    "    events_data_clean = events_data[(events_data.rallyid != 5) & ~((events_data.rallyid == 11) & (events_data.strokeid == 1))]\n",
    "\n",
    "    # Change rally 101 strokes, rally id\n",
    "    events_data_clean.loc[events_data_clean.frameid == 157969, \"strokeid\"] = 16\n",
    "    events_data_clean.loc[events_data_clean.frameid == 157982, \"strokeid\"] = 17\n",
    "\n",
    "    events_data_clean.loc[events_data_clean.rallyid == 101, \"rallyid\"] = 100\n",
    "\n",
    "    # Change any undefined stroke column values\n",
    "    events_data_clean.loc[events_data_clean.stroke == \"__undefined__\", \"stroke\"] = \"forehand\"\n",
    "    \n",
    "    return events_data_clean\n",
    "\n",
    "def clean_bad_event_data_locations(events_data):\n",
    "    \"\"\"\n",
    "    Purpose: Clean events dataset to correct poor location data (e.g. Player is inside baseline when returning a serve)\n",
    "\n",
    "    Input(s):\n",
    "        events_data (pd.DataFrame): Contains event-level data for each rally\n",
    "\n",
    "    Output(s):\n",
    "        events_data (pd.DataFrame): events dataset with poor location data for specific events fixed \n",
    "    \"\"\"\n",
    "\n",
    "    # Clean bad location data on serves/returns to be behind the baseline\n",
    "    events_data[\"receiver_y\"] = np.where(\n",
    "        (events_data.isserve) & (events_data.serve == \"second\") & \n",
    "            ((events_data.receiver_y > 1) & (events_data.receiver_y < 22) & (events_data.receiver_y > 12)), 24.0, \n",
    "        np.where(\n",
    "            (events_data.isserve) & (events_data.serve == \"first\") & ((events_data.receiver_y > 1) & \n",
    "                                                                               (events_data.receiver_y < 22) & (events_data.receiver_y > 12)), 28.0,\n",
    "            np.where(\n",
    "                (events_data.isserve) & (events_data.serve == \"second\") & \n",
    "                    ((events_data.receiver_y > 1) & (events_data.receiver_y < 22) & (events_data.receiver_y < 12)), -0.2,\n",
    "                np.where(\n",
    "                    (events_data.isserve) & (events_data.serve == \"first\") & \n",
    "                        ((events_data.receiver_y > 1) & (events_data.receiver_y < 22) & (events_data.receiver_y < 12)), -4,  \n",
    "                    events_data.receiver_y\n",
    "                )\n",
    "            )\n",
    "        )\n",
    "    )\n",
    "\n",
    "    events_data[\"hitter_y\"] = np.where(\n",
    "        (events_data.isserve) & ((events_data.hitter_y > 1) & (events_data.hitter_y < 22) & (events_data.hitter_y > 12)), 24.0, \n",
    "        np.where(\n",
    "            (events_data.isserve) & ((events_data.hitter_y > 1) & (events_data.hitter_y < 22) & (events_data.hitter_y < 12)), -0.2, \n",
    "            events_data.hitter_y\n",
    "        )\n",
    "    )\n",
    "        \n",
    "    return events_data\n",
    "\n",
    "def clean_event_data(events_data):\n",
    "    \"\"\"\n",
    "    Purpose: Combine sub-functions to perform narrow data cleaning tasks to fully clean event data\n",
    "\n",
    "    Input(s):\n",
    "        events_data (pd.DataFrame): Contains event-level data for each rally\n",
    "\n",
    "    Output(s):\n",
    "        event_data_cleaned_names_locations (pd.DataFrame): events dataset with data issues fixed\n",
    "    \"\"\"\n",
    "\n",
    "    # Clean data errors with respect to individual events\n",
    "    event_data_cleaned_names = clean_bad_event_data_info(events_data)\n",
    "\n",
    "    # Clean errors with respect to locations\n",
    "    event_data_cleaned_names_locations = clean_bad_event_data_locations(event_data_cleaned_names)\n",
    "\n",
    "    return event_data_cleaned_names_locations\n",
    "    "
   ]
  },
  {
   "cell_type": "code",
   "execution_count": 18,
   "id": "f55dd587",
   "metadata": {
    "execution": {
     "iopub.execute_input": "2025-02-03T22:17:20.868862Z",
     "iopub.status.busy": "2025-02-03T22:17:20.868507Z",
     "iopub.status.idle": "2025-02-03T22:17:20.909815Z",
     "shell.execute_reply": "2025-02-03T22:17:20.908785Z"
    },
    "papermill": {
     "duration": 0.063064,
     "end_time": "2025-02-03T22:17:20.912458",
     "exception": false,
     "start_time": "2025-02-03T22:17:20.849394",
     "status": "completed"
    },
    "tags": []
   },
   "outputs": [],
   "source": [
    "# Execute functions to clean events and points data\n",
    "events_eda_clean_names = clean_rally_hitter_receiver_names(events_eda)\n",
    "events_data_clean_events = clean_event_data(events_eda_clean_names)\n",
    "\n",
    "points_eda = get_true_rally_times(events_data_clean_events)"
   ]
  },
  {
   "cell_type": "markdown",
   "id": "4ed0c9aa",
   "metadata": {
    "papermill": {
     "duration": 0.016058,
     "end_time": "2025-02-03T22:17:20.944696",
     "exception": false,
     "start_time": "2025-02-03T22:17:20.928638",
     "status": "completed"
    },
    "tags": []
   },
   "source": [
    "To handle the 20 missing location coordinates in the data, I fit a multioutput regression model to rows of individual events to predict receiver_x and receiver_y. The following features were included in the model's dataset:\n",
    "* \"Type of Shot\" (Combination of Two Columns)\n",
    "    * isserve (Boolean value for each event)\n",
    "    * type (Includes \"serve\" as a value, making isserve redundant)\n",
    "* stroke (backhand/forehand)\n",
    "* hitter_x, hitter_y\n",
    "* time difference (Engineered Feature, time difference from previous rally hit)\n",
    "\n",
    "In terms of model choice, I fit multiple tree-based models, including DecisionTree, RandomForest, and XGBoost regression models using 5-Fold Cross Validation. All models were evaluated along the average MSE across all folds, with no model being above and beyond the other two. Any of theses model are preferrable to a linear model, as there is no obvious linear relationship between any or all available features and the receiver's location. However, upon QA of the predictions, I chose to use the predictions from the RandomForest as they appear more realistic than the other two models given the data. Each set of predictions is written to its own csv and is included in the notebook's output. "
   ]
  },
  {
   "cell_type": "code",
   "execution_count": 19,
   "id": "2e71f2fb",
   "metadata": {
    "execution": {
     "iopub.execute_input": "2025-02-03T22:17:20.979911Z",
     "iopub.status.busy": "2025-02-03T22:17:20.979541Z",
     "iopub.status.idle": "2025-02-03T22:17:20.995597Z",
     "shell.execute_reply": "2025-02-03T22:17:20.994377Z"
    },
    "papermill": {
     "duration": 0.036856,
     "end_time": "2025-02-03T22:17:20.998264",
     "exception": false,
     "start_time": "2025-02-03T22:17:20.961408",
     "status": "completed"
    },
    "tags": []
   },
   "outputs": [],
   "source": [
    "# Create new feature: time difference from previous hit (seconds)\n",
    "events_data_clean_events[\"time_diff\"] = events_eda['time'].diff()\n",
    "events_data_clean_events.loc[events_data_clean_events['strokeid'] == 1, 'time_diff'] = 0\n",
    "\n",
    "# Combine serve columns and type column to create new column with all information\n",
    "events_data_clean_events[\"type_of_shot\"] = np.where(\n",
    "    (events_data_clean_events.isserve) & (events_data_clean_events.serve == \"first\") & (events_data_clean_events.type == \"serve\"), \"first_serve\",\n",
    "    np.where(\n",
    "        (events_data_clean_events.isserve) & (events_data_clean_events.serve == \"second\") & (events_data_clean_events.type == \"serve\"), \"second_serve\", events_data_clean_events.type\n",
    "    )\n",
    ")\n",
    "\n",
    "# For categorical columns in data, convert into type category\n",
    "for col in ['type_of_shot', 'stroke']:\n",
    "    events_data_clean_events[col] = events_data_clean_events[col].astype('category')\n",
    "    \n",
    "events_data_clean_events[\"stroke\"] = np.where(events_data_clean_events.stroke == \"forehand\", 1, 0)\n",
    "events_data_clean_events.rename(columns = {\"stroke\": \"stroke_forehand\"}, inplace = True)"
   ]
  },
  {
   "cell_type": "code",
   "execution_count": 20,
   "id": "a048da96",
   "metadata": {
    "execution": {
     "iopub.execute_input": "2025-02-03T22:17:21.032530Z",
     "iopub.status.busy": "2025-02-03T22:17:21.032157Z",
     "iopub.status.idle": "2025-02-03T22:17:21.039901Z",
     "shell.execute_reply": "2025-02-03T22:17:21.038460Z"
    },
    "papermill": {
     "duration": 0.028031,
     "end_time": "2025-02-03T22:17:21.042580",
     "exception": false,
     "start_time": "2025-02-03T22:17:21.014549",
     "status": "completed"
    },
    "tags": []
   },
   "outputs": [],
   "source": [
    "def perform_ohc_transformation(data, cols_to_encode, one_hot_encoder = None):\n",
    "    \"\"\"\n",
    "    Purpose: With raw dataset, transform input columns with one-hot encoder\n",
    "\n",
    "    Input(s): \n",
    "        data (pd.DataFrame): Raw dataset\n",
    "        cols_to_encode (list): contains names of column in input\n",
    "        one_hot_encoder (NoneType or Sklearn object): default None, creates or uses preexisting one-hot encoder object\n",
    "\n",
    "    Output(s):\n",
    "        preprocessed_data (NumPy array): Dataset with one-hot encoded columns\n",
    "        one_hot_encoder (Sklearn object): Newly created or existing OHC object\n",
    "    \"\"\"\n",
    "\n",
    "    # Check if OHC object exists\n",
    "    if one_hot_encoder is None:\n",
    "        # Initialize OHC Object\n",
    "        one_hot_encoder = OneHotEncoder(sparse=False)\n",
    "\n",
    "        # Fit the encoder to the specified columns\n",
    "        encoded_columns = one_hot_encoder.fit_transform(data[cols_to_encode])\n",
    "\n",
    "    else:\n",
    "        # Fit the encoder to the specified columns\n",
    "        encoded_columns = one_hot_encoder.transform(data[cols_to_encode])\n",
    "        \n",
    "    # Convert encoded columns to DataFrame\n",
    "    encoded_cols = pd.DataFrame(encoded_columns, columns=one_hot_encoder.get_feature_names_out(cols_to_encode))\n",
    "        \n",
    "    # Concatenate encoded columns with the original DataFrame\n",
    "    preprocessed_data = np.array(pd.concat([data.drop(columns=cols_to_encode), encoded_cols], axis=1))    \n",
    "    \n",
    "    return(preprocessed_data, one_hot_encoder)"
   ]
  },
  {
   "cell_type": "code",
   "execution_count": 21,
   "id": "ea6b9a3a",
   "metadata": {
    "execution": {
     "iopub.execute_input": "2025-02-03T22:17:21.077236Z",
     "iopub.status.busy": "2025-02-03T22:17:21.076810Z",
     "iopub.status.idle": "2025-02-03T22:17:21.098354Z",
     "shell.execute_reply": "2025-02-03T22:17:21.097143Z"
    },
    "papermill": {
     "duration": 0.041732,
     "end_time": "2025-02-03T22:17:21.100861",
     "exception": false,
     "start_time": "2025-02-03T22:17:21.059129",
     "status": "completed"
    },
    "tags": []
   },
   "outputs": [],
   "source": [
    "# Set columns to include in input \n",
    "model_data_cols = [\"strokeid\", \"type_of_shot\", \"stroke_forehand\", \"time_diff\", \"hitter_x\", \"hitter_y\", \"receiver_x\", \"receiver_y\"]\n",
    "y_cols = [\"receiver_x\", \"receiver_y\"]\n",
    "\n",
    "# Split dataset into train/validation dataset and prediction dataset (missing locations)\n",
    "train_data = events_data_clean_events[~events_data_clean_events.receiver_x.isna()][model_data_cols].reset_index(drop=True)\n",
    "\n",
    "train_X = train_data.drop(y_cols, axis = 1)\n",
    "train_y = train_data[y_cols]\n",
    "\n",
    "predict_data = events_data_clean_events[events_data_clean_events.receiver_x.isna()][model_data_cols].reset_index(drop=True)\n",
    "predict_X = predict_data.drop(y_cols, axis = 1)\n",
    "\n",
    "# Specify columns to be encoded\n",
    "columns_to_encode = ['type_of_shot']\n",
    "\n",
    "# OHC categorical columns for preprocessing\n",
    "X_tr, encoder = perform_ohc_transformation(train_X, columns_to_encode)\n",
    "y = np.array(train_y)"
   ]
  },
  {
   "cell_type": "code",
   "execution_count": 22,
   "id": "c8e322dc",
   "metadata": {
    "execution": {
     "iopub.execute_input": "2025-02-03T22:17:21.134718Z",
     "iopub.status.busy": "2025-02-03T22:17:21.134315Z",
     "iopub.status.idle": "2025-02-03T22:17:21.142233Z",
     "shell.execute_reply": "2025-02-03T22:17:21.141129Z"
    },
    "papermill": {
     "duration": 0.027318,
     "end_time": "2025-02-03T22:17:21.144430",
     "exception": false,
     "start_time": "2025-02-03T22:17:21.117112",
     "status": "completed"
    },
    "tags": []
   },
   "outputs": [],
   "source": [
    "def run_cross_validation(X_data, y_data, model, model_name, kfold_object):\n",
    "    \"\"\"\n",
    "    Purpose: Manually run k-fold cross-validation on dataset, calculate average MSE as training metric\n",
    "\n",
    "    Input(s):\n",
    "        X_data (NumPy array): Input column of dataset\n",
    "        y_data (NumPy array): Outcome column of dataset\n",
    "        model (Sklearn model object): Initialized model to run on each fold\n",
    "        model_name (string): Name of model\n",
    "        kfold_object (Sklearn KFold object): Object splitting input data into k folds\n",
    "\n",
    "    Output(s):\n",
    "        average_mse (float64): Average MSE from 5-fold cross-validation, rounded to 1 decimal\n",
    "    \"\"\"\n",
    "\n",
    "    print(f\"Model: {model_name}\")\n",
    "    print(\"----------------------------------\")\n",
    "\n",
    "    # Run cross-validation loop\n",
    "    manual_cv_scores = []\n",
    "    for train_index, test_index in kfold_object.split(X_data):\n",
    "        # Select X and Y data per indices in each fold\n",
    "        X_train_fold, X_test_fold = X_data[train_index], X_data[test_index]\n",
    "        Y_train_fold, Y_test_fold = y_data[train_index], y_data[test_index]\n",
    "\n",
    "        # Fit model to individual fold's training set\n",
    "        model.fit(X_train_fold, Y_train_fold)\n",
    "        \n",
    "        # Predict on test set\n",
    "        predictions = model.predict(X_test_fold)\n",
    "\n",
    "        # Record MSE for fold\n",
    "        mse_fold = mean_squared_error(Y_test_fold, predictions)\n",
    "        manual_cv_scores.append(mse_fold)\n",
    "        print(f\"Manual Fold MSE: {mse_fold}\")\n",
    "    \n",
    "    # Calculate average across all folds\n",
    "    average_mse = round(np.mean(manual_cv_scores), 1)\n",
    "    print(\"----------------------------------\")\n",
    "    print(f\"K-Fold CV Average MSE: {average_mse}\")\n",
    "    \n",
    "    return average_mse"
   ]
  },
  {
   "cell_type": "code",
   "execution_count": 23,
   "id": "03b6e3fa",
   "metadata": {
    "execution": {
     "iopub.execute_input": "2025-02-03T22:17:21.178214Z",
     "iopub.status.busy": "2025-02-03T22:17:21.177632Z",
     "iopub.status.idle": "2025-02-03T22:17:21.184164Z",
     "shell.execute_reply": "2025-02-03T22:17:21.182905Z"
    },
    "papermill": {
     "duration": 0.025802,
     "end_time": "2025-02-03T22:17:21.186305",
     "exception": false,
     "start_time": "2025-02-03T22:17:21.160503",
     "status": "completed"
    },
    "tags": []
   },
   "outputs": [],
   "source": [
    "# Define 5-fold cross-validation\n",
    "kf = KFold(n_splits=5, shuffle=True, random_state=64)\n",
    "\n",
    "# Initiate Models, fit K-Fold cross-validation manually to transformed train data\n",
    "multioutput_dtree = MultiOutputRegressor(DecisionTreeRegressor(min_samples_split = 4, max_depth = 4, random_state = 64))\n",
    "multioutput_rforest = MultiOutputRegressor(RandomForestRegressor(min_samples_split = 4, max_depth = 4, random_state = 64))\n",
    "multioutput_xgboost = MultiOutputRegressor(XGBRegressor(enable_categorical = True, max_depth = 3, random_state = 64, eta = 0.2))"
   ]
  },
  {
   "cell_type": "code",
   "execution_count": 24,
   "id": "e0dd6e01",
   "metadata": {
    "execution": {
     "iopub.execute_input": "2025-02-03T22:17:21.220554Z",
     "iopub.status.busy": "2025-02-03T22:17:21.220204Z",
     "iopub.status.idle": "2025-02-03T22:17:23.592953Z",
     "shell.execute_reply": "2025-02-03T22:17:23.591867Z"
    },
    "papermill": {
     "duration": 2.3922,
     "end_time": "2025-02-03T22:17:23.595073",
     "exception": false,
     "start_time": "2025-02-03T22:17:21.202873",
     "status": "completed"
    },
    "tags": []
   },
   "outputs": [
    {
     "name": "stdout",
     "output_type": "stream",
     "text": [
      "Model: DecisionTree Regression\n",
      "----------------------------------\n",
      "Manual Fold MSE: 5.837144214371524\n",
      "Manual Fold MSE: 2.670979228622693\n",
      "Manual Fold MSE: 2.5175926737087932\n",
      "Manual Fold MSE: 3.8850902315760054\n",
      "Manual Fold MSE: 2.4714308431340157\n",
      "----------------------------------\n",
      "K-Fold CV Average MSE: 3.5\n",
      "\n",
      "Model: RandomForest Regression\n",
      "----------------------------------\n",
      "Manual Fold MSE: 5.055894154617427\n",
      "Manual Fold MSE: 2.477405320197017\n",
      "Manual Fold MSE: 2.588828646088198\n",
      "Manual Fold MSE: 3.8580513569348596\n",
      "Manual Fold MSE: 2.533427036752639\n",
      "----------------------------------\n",
      "K-Fold CV Average MSE: 3.3\n",
      "\n",
      "Model: XGBoost Regression\n",
      "----------------------------------\n",
      "Manual Fold MSE: 4.528595914482098\n",
      "Manual Fold MSE: 2.240676730332872\n",
      "Manual Fold MSE: 2.9893324026090333\n",
      "Manual Fold MSE: 3.8077204187249234\n",
      "Manual Fold MSE: 3.620143811934526\n",
      "----------------------------------\n",
      "K-Fold CV Average MSE: 3.4\n"
     ]
    }
   ],
   "source": [
    "# Run cross-validation through custom function for DecisionTree, RandomForest, and XGBoost models\n",
    "dtree_mse = run_cross_validation(X_tr, y, multioutput_dtree, \"DecisionTree Regression\", kf)\n",
    "print(\"\")\n",
    "\n",
    "rforest_mse = run_cross_validation(X_tr, y, multioutput_rforest, \"RandomForest Regression\", kf)\n",
    "print(\"\")\n",
    "\n",
    "xgboost_mse = run_cross_validation(X_tr, y, multioutput_xgboost, \"XGBoost Regression\", kf)\n",
    "\n",
    "# On dataset with missing values, transform categorical columns with OHC object \n",
    "predict_X_tr, encoder = perform_ohc_transformation(predict_X, columns_to_encode, one_hot_encoder = encoder)"
   ]
  },
  {
   "cell_type": "code",
   "execution_count": 25,
   "id": "217176ce",
   "metadata": {
    "execution": {
     "iopub.execute_input": "2025-02-03T22:17:23.630493Z",
     "iopub.status.busy": "2025-02-03T22:17:23.630129Z",
     "iopub.status.idle": "2025-02-03T22:17:23.720668Z",
     "shell.execute_reply": "2025-02-03T22:17:23.719639Z"
    },
    "papermill": {
     "duration": 0.110665,
     "end_time": "2025-02-03T22:17:23.723151",
     "exception": false,
     "start_time": "2025-02-03T22:17:23.612486",
     "status": "completed"
    },
    "tags": []
   },
   "outputs": [],
   "source": [
    "# Retrain model on entire dataset, predict missing receiver locations\n",
    "multioutput_xgboost.fit(X_tr, y)\n",
    "\n",
    "predict_data[[\"receiver_x\", \"receiver_y\"]] = multioutput_xgboost.predict(predict_X_tr)\n",
    "predict_data.to_csv(\"xgboost_location_preds.csv\", index = False)"
   ]
  },
  {
   "cell_type": "code",
   "execution_count": 26,
   "id": "df7c4d91",
   "metadata": {
    "execution": {
     "iopub.execute_input": "2025-02-03T22:17:23.759087Z",
     "iopub.status.busy": "2025-02-03T22:17:23.758354Z",
     "iopub.status.idle": "2025-02-03T22:17:23.772319Z",
     "shell.execute_reply": "2025-02-03T22:17:23.770957Z"
    },
    "papermill": {
     "duration": 0.035275,
     "end_time": "2025-02-03T22:17:23.775141",
     "exception": false,
     "start_time": "2025-02-03T22:17:23.739866",
     "status": "completed"
    },
    "tags": []
   },
   "outputs": [],
   "source": [
    "# Retrain model on entire dataset, predict missing receiver locations\n",
    "multioutput_dtree.fit(X_tr, y)\n",
    "\n",
    "predict_data[[\"receiver_x\", \"receiver_y\"]] = multioutput_dtree.predict(predict_X_tr)\n",
    "predict_data.to_csv(\"dtree_location_preds.csv\", index = False)"
   ]
  },
  {
   "cell_type": "code",
   "execution_count": 27,
   "id": "60b5281e",
   "metadata": {
    "execution": {
     "iopub.execute_input": "2025-02-03T22:17:23.811057Z",
     "iopub.status.busy": "2025-02-03T22:17:23.810596Z",
     "iopub.status.idle": "2025-02-03T22:17:24.220815Z",
     "shell.execute_reply": "2025-02-03T22:17:24.219736Z"
    },
    "papermill": {
     "duration": 0.431209,
     "end_time": "2025-02-03T22:17:24.223622",
     "exception": false,
     "start_time": "2025-02-03T22:17:23.792413",
     "status": "completed"
    },
    "tags": []
   },
   "outputs": [],
   "source": [
    "# Retrain model on entire dataset, predict missing receiver locations\n",
    "multioutput_rforest.fit(X_tr, y)\n",
    "\n",
    "predict_data[[\"receiver_x\", \"receiver_y\"]] = multioutput_rforest.predict(predict_X_tr)\n",
    "predict_data.to_csv(\"rforest_location_preds.csv\", index = False)"
   ]
  },
  {
   "cell_type": "code",
   "execution_count": 28,
   "id": "b114e645",
   "metadata": {
    "execution": {
     "iopub.execute_input": "2025-02-03T22:17:24.259338Z",
     "iopub.status.busy": "2025-02-03T22:17:24.258911Z",
     "iopub.status.idle": "2025-02-03T22:17:24.279185Z",
     "shell.execute_reply": "2025-02-03T22:17:24.277965Z"
    },
    "papermill": {
     "duration": 0.040848,
     "end_time": "2025-02-03T22:17:24.281573",
     "exception": false,
     "start_time": "2025-02-03T22:17:24.240725",
     "status": "completed"
    },
    "tags": []
   },
   "outputs": [],
   "source": [
    "# Using RandomForest predictions, replace missing locations with predictions\n",
    "imputed_location_event_data = pd.merge(\n",
    "    events_data_clean_events[events_data_clean_events.receiver_x.isna()].drop(y_cols, axis = 1),\n",
    "    predict_data\n",
    ")\n",
    "\n",
    "nonimputed_location_event_data = events_data_clean_events[~events_data_clean_events.receiver_x.isna()]\n",
    "\n",
    "# Concat data with and without imputed locations\n",
    "events_eda = pd.concat([imputed_location_event_data, nonimputed_location_event_data])"
   ]
  },
  {
   "cell_type": "markdown",
   "id": "b89fff03",
   "metadata": {
    "papermill": {
     "duration": 0.016572,
     "end_time": "2025-02-03T22:17:24.314574",
     "exception": false,
     "start_time": "2025-02-03T22:17:24.298002",
     "status": "completed"
    },
    "tags": []
   },
   "source": [
    "## Basic Dataset Visuals\n",
    "\n",
    "With the data cleaned, I moved on to building out visuals highlighting different aspects of the data. In this section, I provide several visuals regarding match and rally statistics before moving on to temporal and location data, with the latter using a single rally as an example."
   ]
  },
  {
   "cell_type": "markdown",
   "id": "2aa07f1e",
   "metadata": {
    "papermill": {
     "duration": 0.017102,
     "end_time": "2025-02-03T22:17:24.349003",
     "exception": false,
     "start_time": "2025-02-03T22:17:24.331901",
     "status": "completed"
    },
    "tags": []
   },
   "source": [
    "### Match/Rally \n",
    "\n",
    "In terms of match and rally statistics, I provide basic visuals illustrating summary statistics of the match as well as for summarizing count data. More detail is provided for the visuals that were most informative in terms of model-building and feature engineering."
   ]
  },
  {
   "cell_type": "code",
   "execution_count": 29,
   "id": "d20e5eae",
   "metadata": {
    "execution": {
     "iopub.execute_input": "2025-02-03T22:17:24.384399Z",
     "iopub.status.busy": "2025-02-03T22:17:24.384034Z",
     "iopub.status.idle": "2025-02-03T22:17:24.749462Z",
     "shell.execute_reply": "2025-02-03T22:17:24.748310Z"
    },
    "papermill": {
     "duration": 0.386122,
     "end_time": "2025-02-03T22:17:24.752232",
     "exception": false,
     "start_time": "2025-02-03T22:17:24.366110",
     "status": "completed"
    },
    "tags": []
   },
   "outputs": [
    {
     "name": "stdout",
     "output_type": "stream",
     "text": [
      "Max Strokes per Rally: 22\n"
     ]
    },
    {
     "data": {
      "image/png": "[encoded data removed]",
      "text/plain": [
       "<Figure size 1000x800 with 1 Axes>"
      ]
     },
     "metadata": {},
     "output_type": "display_data"
    }
   ],
   "source": [
    "# Plot histogram of number of strokes per rally\n",
    "plt.figure(figsize = (10, 8))\n",
    "title_font = {'size': 18}\n",
    "axis_label_font = {'size': 14}\n",
    "legend_font = {'size': 12}\n",
    "\n",
    "sns.histplot(points_eda.strokes, color=\"red\", bins = max(points_eda.strokes))\n",
    "plt.xlabel(\"Strokes per Rally\", fontdict=axis_label_font)\n",
    "plt.ylabel(\"Count\", fontdict=axis_label_font)\n",
    "plt.xlim(0, max(points_eda.strokes))\n",
    "plt.xticks(ticks= [x for x in range(max(points_eda.strokes) + 1) if x % 2 == 0])\n",
    "plt.title(\"Count, Strokes per Rally\", fontdict=title_font)\n",
    "\n",
    "# Calculates mean, median number of strokes across all rallies\n",
    "strokes_mean = round(np.mean(points_eda.strokes), 1)\n",
    "strokes_median = round(np.median(points_eda.strokes), 1)\n",
    "\n",
    "plt.axvline(strokes_mean, color='black', linestyle='dashed', linewidth=1, label=f'Mean: {strokes_mean}')\n",
    "plt.axvline(strokes_median, color='red', linestyle='dashed', linewidth=1, label=f'Median: {strokes_median}')\n",
    "plt.tick_params(axis='both', which='major', labelsize=12)\n",
    "plt.legend(prop = legend_font)\n",
    "print(f\"Max Strokes per Rally: {max(points_eda.strokes)}\")\n",
    "\n",
    "plt.show()"
   ]
  },
  {
   "cell_type": "code",
   "execution_count": 30,
   "id": "5782b9df",
   "metadata": {
    "execution": {
     "iopub.execute_input": "2025-02-03T22:17:24.792480Z",
     "iopub.status.busy": "2025-02-03T22:17:24.792055Z",
     "iopub.status.idle": "2025-02-03T22:17:24.962530Z",
     "shell.execute_reply": "2025-02-03T22:17:24.961245Z"
    },
    "papermill": {
     "duration": 0.192745,
     "end_time": "2025-02-03T22:17:24.964859",
     "exception": false,
     "start_time": "2025-02-03T22:17:24.772114",
     "status": "completed"
    },
    "tags": []
   },
   "outputs": [
    {
     "data": {
      "image/png": "[encoded data removed]",
      "text/plain": [
       "<Figure size 1000x800 with 1 Axes>"
      ]
     },
     "metadata": {},
     "output_type": "display_data"
    }
   ],
   "source": [
    "# Plot counts for each type of stroke\n",
    "plt.figure(figsize = (10, 8))\n",
    "\n",
    "sns.countplot(x=\"stroke\",data= events_eda[events_eda.stroke != \"__undefined__\"], palette=\"Set1\")\n",
    "plt.xlabel('Type of Stroke', fontdict=axis_label_font)\n",
    "plt.ylabel('Count', fontdict=axis_label_font)\n",
    "plt.title('Count of Type of Stroke', fontdict=title_font)\n",
    "plt.show()"
   ]
  },
  {
   "cell_type": "code",
   "execution_count": 31,
   "id": "2897b1bc",
   "metadata": {
    "execution": {
     "iopub.execute_input": "2025-02-03T22:17:25.002202Z",
     "iopub.status.busy": "2025-02-03T22:17:25.001755Z",
     "iopub.status.idle": "2025-02-03T22:17:25.563119Z",
     "shell.execute_reply": "2025-02-03T22:17:25.562008Z"
    },
    "papermill": {
     "duration": 0.582986,
     "end_time": "2025-02-03T22:17:25.565566",
     "exception": false,
     "start_time": "2025-02-03T22:17:24.982580",
     "status": "completed"
    },
    "tags": []
   },
   "outputs": [
    {
     "name": "stdout",
     "output_type": "stream",
     "text": [
      "Correlation of Time of Rally in Seconds to Number of Strokes: 0.99\n"
     ]
    },
    {
     "data": {
      "image/png": "[encoded data removed]",
      "text/plain": [
       "<Figure size 2000x800 with 2 Axes>"
      ]
     },
     "metadata": {},
     "output_type": "display_data"
    }
   ],
   "source": [
    "# Calculate relationship between number of strokes and elapsed rally time (useful for data checks/cleaning)\n",
    "lin_reg = linregress(points_eda.totaltime, points_eda.strokes)\n",
    "\n",
    "fig, axes = plt.subplots(1,2, figsize=(20, 8))\n",
    "\n",
    "# Plot number of strokes vs. rally time elapsed\n",
    "sns.scatterplot(x=\"totaltime\", y=\"strokes\", data=points_eda, ax=axes[0])\n",
    "axes[0].set_xlabel(\"Time of Rally (Seconds)\", font = axis_label_font)\n",
    "axes[0].set_ylabel(\"Number of Strokes\", font = axis_label_font)\n",
    "axes[0].plot(points_eda.totaltime, lin_reg.intercept + lin_reg.slope*points_eda.totaltime, 'r', label='fitted line')\n",
    "\n",
    "# Split by winner\n",
    "sns.scatterplot(x=\"totaltime\", y=\"strokes\", hue=\"winner\" ,data=points_eda, ax=axes[1])\n",
    "axes[1].set_xlabel(\"Time of Rally (Seconds)\", font = axis_label_font)\n",
    "axes[1].set_ylabel(\"Number of Strokes\", font = axis_label_font)\n",
    "axes[1].legend(title = \"Winner\")\n",
    "axes[1].plot(points_eda.totaltime, lin_reg.intercept + lin_reg.slope*points_eda.totaltime, 'r', label='fitted line')\n",
    "\n",
    "plt.suptitle(\"Number of Strokes vs. Time of Rally (Seconds)\", size = 18)\n",
    "\n",
    "# Calculate Pearson's correlation\n",
    "correlation_coefficient = np.corrcoef(points_eda.totaltime, points_eda.strokes)[0, 1]\n",
    "print(f\"Correlation of Time of Rally in Seconds to Number of Strokes: {correlation_coefficient:.2f}\")"
   ]
  },
  {
   "cell_type": "code",
   "execution_count": 32,
   "id": "994bd7c7",
   "metadata": {
    "execution": {
     "iopub.execute_input": "2025-02-03T22:17:25.605516Z",
     "iopub.status.busy": "2025-02-03T22:17:25.605146Z",
     "iopub.status.idle": "2025-02-03T22:17:25.868366Z",
     "shell.execute_reply": "2025-02-03T22:17:25.867306Z"
    },
    "papermill": {
     "duration": 0.285702,
     "end_time": "2025-02-03T22:17:25.870568",
     "exception": false,
     "start_time": "2025-02-03T22:17:25.584866",
     "status": "completed"
    },
    "tags": []
   },
   "outputs": [
    {
     "data": {
      "image/png": "[encoded data removed]",
      "text/plain": [
       "<Figure size 1000x800 with 1 Axes>"
      ]
     },
     "metadata": {},
     "output_type": "display_data"
    }
   ],
   "source": [
    "# Plot counts for type of hit across all events\n",
    "plt.figure(figsize = (10, 8))\n",
    "\n",
    "sns.countplot(x=\"type\",data=events_eda, palette=\"Set1\", \n",
    "              order= [\"topspin\", \"serve\", \"return\", \"slice\", \"volley\", \"stop\", \"smash\", \"lob\"])\n",
    "plt.xlabel('Type of Shot', fontdict=axis_label_font)\n",
    "plt.ylabel('Count', fontdict=axis_label_font)\n",
    "plt.title('Count of Type of Shot', fontdict=title_font)\n",
    "plt.show()"
   ]
  },
  {
   "cell_type": "markdown",
   "id": "32328bdb",
   "metadata": {
    "papermill": {
     "duration": 0.018983,
     "end_time": "2025-02-03T22:17:25.908853",
     "exception": false,
     "start_time": "2025-02-03T22:17:25.889870",
     "status": "completed"
    },
    "tags": []
   },
   "source": [
    "Some interesting facts from this dataset:\n",
    "* Nadal served substantially more than Djokovic\n",
    "* Nadal used a lot more backhands for returns and volleys\n",
    "* Djokovic was more even in terms of stroke type for topspin hits"
   ]
  },
  {
   "cell_type": "code",
   "execution_count": 33,
   "id": "a797af24",
   "metadata": {
    "execution": {
     "iopub.execute_input": "2025-02-03T22:17:25.948880Z",
     "iopub.status.busy": "2025-02-03T22:17:25.948425Z",
     "iopub.status.idle": "2025-02-03T22:17:26.280450Z",
     "shell.execute_reply": "2025-02-03T22:17:26.279280Z"
    },
    "papermill": {
     "duration": 0.354786,
     "end_time": "2025-02-03T22:17:26.282646",
     "exception": false,
     "start_time": "2025-02-03T22:17:25.927860",
     "status": "completed"
    },
    "tags": []
   },
   "outputs": [
    {
     "data": {
      "image/png": "[encoded data removed]",
      "text/plain": [
       "<Figure size 1000x800 with 1 Axes>"
      ]
     },
     "metadata": {},
     "output_type": "display_data"
    }
   ],
   "source": [
    "# Plot reason for point ending\n",
    "plt.figure(figsize = (10, 8))\n",
    "\n",
    "sns.countplot(x=\"reason\", data=points_eda, palette=\"Set1\", \n",
    "              order= [\"out\", \"winner\", \"net\", \"ace\", \"double_fault\"])\n",
    "plt.xlabel('Reason', fontdict=axis_label_font)\n",
    "plt.ylabel('Count', fontdict=axis_label_font)\n",
    "plt.title('Count of Reasons for End of Point', fontdict=title_font)\n",
    "plt.show()"
   ]
  },
  {
   "cell_type": "code",
   "execution_count": 34,
   "id": "f6cbe958",
   "metadata": {
    "execution": {
     "iopub.execute_input": "2025-02-03T22:17:26.323464Z",
     "iopub.status.busy": "2025-02-03T22:17:26.323083Z",
     "iopub.status.idle": "2025-02-03T22:17:26.884109Z",
     "shell.execute_reply": "2025-02-03T22:17:26.882876Z"
    },
    "papermill": {
     "duration": 0.583977,
     "end_time": "2025-02-03T22:17:26.886202",
     "exception": false,
     "start_time": "2025-02-03T22:17:26.302225",
     "status": "completed"
    },
    "tags": []
   },
   "outputs": [
    {
     "data": {
      "image/png": "[encoded data removed]",
      "text/plain": [
       "<Figure size 2000x800 with 2 Axes>"
      ]
     },
     "metadata": {},
     "output_type": "display_data"
    }
   ],
   "source": [
    "fig, axes = plt.subplots(1,2, figsize=(20, 8))\n",
    "\n",
    "# Plot type of shot, split by stroke type and player\n",
    "sns.countplot(x=\"type\", hue='stroke', data=events_eda[events_eda.hitter == 'Djokovic'], palette=\"Set1\", \n",
    "            hue_order = ['forehand', 'backhand'],\n",
    "            order= [\"topspin\", \"serve\", \"return\", \"slice\", \"volley\", \"stop\", \"smash\", \"lob\"],\n",
    "            ax = axes[0])\n",
    "axes[0].set_ylim(0, 160)\n",
    "axes[0].legend().remove()\n",
    "axes[0].set_title('Djokovic', size = 16)\n",
    "axes[0].set_xlabel('Type of Shot', size = 14)\n",
    "axes[0].set_ylabel('Count', size = 14)\n",
    "\n",
    "sns.countplot(x=\"type\", hue='stroke', data=events_eda[events_eda.hitter == 'Nadal'], palette=\"Set1\", \n",
    "            hue_order = ['forehand', 'backhand'],\n",
    "            order= [\"topspin\", \"serve\", \"return\", \"slice\", \"volley\", \"stop\", \"smash\", \"lob\"], \n",
    "            ax = axes[1])\n",
    "axes[1].set_ylim(0, 160)\n",
    "axes[1].legend(title='Stroke', loc = \"upper right\")\n",
    "axes[1].set_title('Nadal', size = 16)\n",
    "axes[1].set_xlabel('Type of Shot', size = 14)\n",
    "axes[1].set_ylabel('Count', size = 14)\n",
    "\n",
    "fig.suptitle('Count of Type of Shot, by Hitter and Stroke', y = 1, size = 18)\n",
    "plt.show()"
   ]
  },
  {
   "cell_type": "code",
   "execution_count": 35,
   "id": "3fd3afb9",
   "metadata": {
    "execution": {
     "iopub.execute_input": "2025-02-03T22:17:26.929257Z",
     "iopub.status.busy": "2025-02-03T22:17:26.928856Z",
     "iopub.status.idle": "2025-02-03T22:17:27.231126Z",
     "shell.execute_reply": "2025-02-03T22:17:27.229876Z"
    },
    "papermill": {
     "duration": 0.326771,
     "end_time": "2025-02-03T22:17:27.233769",
     "exception": false,
     "start_time": "2025-02-03T22:17:26.906998",
     "status": "completed"
    },
    "tags": []
   },
   "outputs": [
    {
     "data": {
      "image/png": "[encoded data removed]",
      "text/plain": [
       "<Figure size 1000x800 with 1 Axes>"
      ]
     },
     "metadata": {},
     "output_type": "display_data"
    }
   ],
   "source": [
    "# Split by who won the point\n",
    "plt.figure(figsize = (10, 8))\n",
    "\n",
    "sns.countplot(x=\"reason\", hue='winner', data=points_eda, palette=\"Set1\", \n",
    "            hue_order = ['Djokovic', 'Nadal'],\n",
    "            order= [\"out\", \"winner\", \"net\", \"ace\", \"double_fault\"])\n",
    "plt.xlabel('Reason', fontdict = axis_label_font)\n",
    "plt.ylabel('Count', fontdict = axis_label_font)\n",
    "plt.legend(title = \"Winner\")\n",
    "plt.title('Count of Reasons for End of Point, by Point Winner', fontdict = title_font)\n",
    "plt.show()"
   ]
  },
  {
   "cell_type": "code",
   "execution_count": 36,
   "id": "bae62aa1",
   "metadata": {
    "execution": {
     "iopub.execute_input": "2025-02-03T22:17:27.278689Z",
     "iopub.status.busy": "2025-02-03T22:17:27.278285Z",
     "iopub.status.idle": "2025-02-03T22:17:27.301656Z",
     "shell.execute_reply": "2025-02-03T22:17:27.300526Z"
    },
    "papermill": {
     "duration": 0.048379,
     "end_time": "2025-02-03T22:17:27.304017",
     "exception": false,
     "start_time": "2025-02-03T22:17:27.255638",
     "status": "completed"
    },
    "tags": []
   },
   "outputs": [
    {
     "data": {
      "text/html": [
       "<div>\n",
       "<style scoped>\n",
       "    .dataframe tbody tr th:only-of-type {\n",
       "        vertical-align: middle;\n",
       "    }\n",
       "\n",
       "    .dataframe tbody tr th {\n",
       "        vertical-align: top;\n",
       "    }\n",
       "\n",
       "    .dataframe thead th {\n",
       "        text-align: right;\n",
       "    }\n",
       "</style>\n",
       "<table border=\"1\" class=\"dataframe\">\n",
       "  <thead>\n",
       "    <tr style=\"text-align: right;\">\n",
       "      <th>reason</th>\n",
       "      <th>ace</th>\n",
       "      <th>double_fault</th>\n",
       "      <th>net</th>\n",
       "      <th>out</th>\n",
       "      <th>winner</th>\n",
       "    </tr>\n",
       "    <tr>\n",
       "      <th>winner</th>\n",
       "      <th></th>\n",
       "      <th></th>\n",
       "      <th></th>\n",
       "      <th></th>\n",
       "      <th></th>\n",
       "    </tr>\n",
       "  </thead>\n",
       "  <tbody>\n",
       "    <tr>\n",
       "      <th>Djokovic</th>\n",
       "      <td>8.045977</td>\n",
       "      <td>2.298851</td>\n",
       "      <td>26.436782</td>\n",
       "      <td>33.333333</td>\n",
       "      <td>29.885057</td>\n",
       "    </tr>\n",
       "    <tr>\n",
       "      <th>Nadal</th>\n",
       "      <td>5.660377</td>\n",
       "      <td>NaN</td>\n",
       "      <td>26.415094</td>\n",
       "      <td>35.849057</td>\n",
       "      <td>32.075472</td>\n",
       "    </tr>\n",
       "  </tbody>\n",
       "</table>\n",
       "</div>"
      ],
      "text/plain": [
       "reason         ace  double_fault        net        out     winner\n",
       "winner                                                           \n",
       "Djokovic  8.045977      2.298851  26.436782  33.333333  29.885057\n",
       "Nadal     5.660377           NaN  26.415094  35.849057  32.075472"
      ]
     },
     "execution_count": 36,
     "metadata": {},
     "output_type": "execute_result"
    }
   ],
   "source": [
    "# Check frequencies for each reason the point ended\n",
    "100*(points_eda.groupby(['winner', 'reason']).reason.agg('count') / points_eda.groupby(['winner']).reason.agg('count')).reset_index(\n",
    "    name='pct').pivot(index = 'winner', columns = 'reason', values = 'pct')"
   ]
  },
  {
   "cell_type": "markdown",
   "id": "642e27f7",
   "metadata": {
    "papermill": {
     "duration": 0.021291,
     "end_time": "2025-02-03T22:17:27.346769",
     "exception": false,
     "start_time": "2025-02-03T22:17:27.325478",
     "status": "completed"
    },
    "tags": []
   },
   "source": [
    "One potential approach to modeling this dataset might involve taking data at specific points in time as input features, with one example being location data. An idea I had based on that was to include at the level of each rally both player's locations at the start and a few seconds into the rally. However, the below plot shows that a sizable proportion of rallies end before even 3 seconds has passed, with the player being in similar locations to their starting position just a few hits into a rally. Therefore, providing new location points for specific timepoints would likely provide little to no new information to a trained model."
   ]
  },
  {
   "cell_type": "code",
   "execution_count": 37,
   "id": "bb93350e",
   "metadata": {
    "execution": {
     "iopub.execute_input": "2025-02-03T22:17:27.390522Z",
     "iopub.status.busy": "2025-02-03T22:17:27.390153Z",
     "iopub.status.idle": "2025-02-03T22:17:27.849870Z",
     "shell.execute_reply": "2025-02-03T22:17:27.848803Z"
    },
    "papermill": {
     "duration": 0.484437,
     "end_time": "2025-02-03T22:17:27.852256",
     "exception": false,
     "start_time": "2025-02-03T22:17:27.367819",
     "status": "completed"
    },
    "tags": []
   },
   "outputs": [
    {
     "data": {
      "image/png": "[encoded data removed]",
      "text/plain": [
       "<Figure size 1000x800 with 1 Axes>"
      ]
     },
     "metadata": {},
     "output_type": "display_data"
    }
   ],
   "source": [
    "# Plot histogram of time elapsed across all rallies\n",
    "plt.figure(figsize = (10, 8))\n",
    "\n",
    "sns.histplot(points_eda.totaltime, \n",
    "             color=\"green\", \n",
    "             bins = int(max(points_eda.totaltime)) * 3)\n",
    "\n",
    "# Calculate mean, median time elapsed\n",
    "mean_value = points_eda.totaltime.mean()\n",
    "median_value = points_eda.totaltime.median()\n",
    "\n",
    "plt.axvline(mean_value, color='black', linestyle='dashed', linewidth=1, label=f'Mean: {round(mean_value, 1)} sec')\n",
    "plt.axvline(median_value, color='red', linestyle='dashed', linewidth=1, label=f'Median: {round(median_value, 1)} sec')\n",
    "plt.legend(prop = legend_font)\n",
    "\n",
    "plt.xlabel(\"Total Rally Time (seconds)\", fontdict = axis_label_font)\n",
    "plt.ylabel(\"Frequency\", fontdict = axis_label_font)\n",
    "plt.xlim(0, int(max(points_eda.totaltime)))\n",
    "plt.xticks()\n",
    "plt.title(\"Frequency, Total Rally Time (Non-Aces)\", fontdict = title_font)\n",
    "plt.show()"
   ]
  },
  {
   "cell_type": "code",
   "execution_count": 38,
   "id": "ae552e07",
   "metadata": {
    "execution": {
     "iopub.execute_input": "2025-02-03T22:17:27.899201Z",
     "iopub.status.busy": "2025-02-03T22:17:27.898057Z",
     "iopub.status.idle": "2025-02-03T22:17:27.913994Z",
     "shell.execute_reply": "2025-02-03T22:17:27.912722Z"
    },
    "papermill": {
     "duration": 0.041904,
     "end_time": "2025-02-03T22:17:27.916258",
     "exception": false,
     "start_time": "2025-02-03T22:17:27.874354",
     "status": "completed"
    },
    "tags": []
   },
   "outputs": [
    {
     "name": "stdout",
     "output_type": "stream",
     "text": [
      "% of Rallies Ending Before 1 Second: 22\n",
      "% of Rallies Ending Before 2 Seconds: 25\n",
      "% of Rallies Ending Before 3 Seconds: 39\n"
     ]
    }
   ],
   "source": [
    "# Filter to rallies that do not end with aces\n",
    "non_aces = points_eda[~points_eda.reason.isin([\"ace\", \"double_fault\"])].rallyid.reset_index().drop(\"index\", axis = 1)\n",
    "\n",
    "# Calculate the proportion of rallies that end within 1-3 seconds\n",
    "unique_rallies = non_aces.rallyid.unique()\n",
    "rallies_1_plus_seconds = points_eda[points_eda.totaltime >= 1].rallyid.unique()\n",
    "rallies_2_plus_seconds = points_eda[points_eda.totaltime >= 2].rallyid.unique()\n",
    "rallies_3_plus_seconds = points_eda[points_eda.totaltime >= 3].rallyid.unique()\n",
    "\n",
    "print(\"% of Rallies Ending Before 1 Second:\", round(100*len([x for x in unique_rallies if x not in rallies_1_plus_seconds]) / len(non_aces)))\n",
    "print(\"% of Rallies Ending Before 2 Seconds:\", round(100*len([x for x in unique_rallies if x not in rallies_2_plus_seconds]) / len(non_aces)))\n",
    "print(\"% of Rallies Ending Before 3 Seconds:\", round(100*len([x for x in unique_rallies if x not in rallies_3_plus_seconds]) / len(non_aces)))"
   ]
  },
  {
   "cell_type": "markdown",
   "id": "e5916d8b",
   "metadata": {
    "papermill": {
     "duration": 0.022135,
     "end_time": "2025-02-03T22:17:27.960771",
     "exception": false,
     "start_time": "2025-02-03T22:17:27.938636",
     "status": "completed"
    },
    "tags": []
   },
   "source": [
    "The two barcharts below show the number of points won by each player with a particular player on serve, with the total ratio of times the server won to the times the returner won to be around 2:1. This obviosuly does not hold when splitting by server, as Djokovic won over four times as many points as Nadal did when he was on serve. The key insight here is that expecting a player to win a point is (besides being obvious in hindsight) anchored to who is on serve. In this case, it appears that both Djokivic won more points than expected when either him or Nadal were on serve, which lead to multiple breaks and a straight sets victory. However, Djokovic theoretically could have also won if he performed closer to average in terms of off-service points. The take-home is this: a point in a tennis match does not have to be judged in terms of how many points won overall, but in terms of how many points they won on or off serve."
   ]
  },
  {
   "cell_type": "code",
   "execution_count": 39,
   "id": "d6cc62ea",
   "metadata": {
    "execution": {
     "iopub.execute_input": "2025-02-03T22:17:28.008672Z",
     "iopub.status.busy": "2025-02-03T22:17:28.007639Z",
     "iopub.status.idle": "2025-02-03T22:17:28.320890Z",
     "shell.execute_reply": "2025-02-03T22:17:28.319631Z"
    },
    "papermill": {
     "duration": 0.339844,
     "end_time": "2025-02-03T22:17:28.323266",
     "exception": false,
     "start_time": "2025-02-03T22:17:27.983422",
     "status": "completed"
    },
    "tags": []
   },
   "outputs": [
    {
     "name": "stdout",
     "output_type": "stream",
     "text": [
      "Points Won by Server: 95\n",
      "Points Won by Non-server: 45\n"
     ]
    },
    {
     "data": {
      "text/plain": [
       "<Figure size 1200x800 with 0 Axes>"
      ]
     },
     "metadata": {},
     "output_type": "display_data"
    },
    {
     "data": {
      "image/png": "[encoded data removed]",
      "text/plain": [
       "<Figure size 500x500 with 1 Axes>"
      ]
     },
     "metadata": {},
     "output_type": "display_data"
    }
   ],
   "source": [
    "# Get points by server\n",
    "plt.figure(figsize = (12, 8))\n",
    "\n",
    "sns.catplot(x=\"server\", hue=\"winner\", data=points_eda, kind=\"count\", palette=\"Set1\", legend = None)\n",
    "plt.xlabel('Server', fontdict = axis_label_font)\n",
    "plt.ylabel('Count', fontdict = axis_label_font)\n",
    "plt.suptitle('Count of Point Winners, by Server', y = 1, size = 15)\n",
    "plt.legend(title='Point Winner', loc = \"upper right\")\n",
    "\n",
    "print(f\"Points Won by Server: {points_eda[points_eda.server == points_eda.winner].shape[0]}\") \n",
    "print(f\"Points Won by Non-server: {points_eda[points_eda.server != points_eda.winner].shape[0]}\") \n",
    "plt.show()"
   ]
  },
  {
   "cell_type": "code",
   "execution_count": 40,
   "id": "cf86b812",
   "metadata": {
    "execution": {
     "iopub.execute_input": "2025-02-03T22:17:28.370427Z",
     "iopub.status.busy": "2025-02-03T22:17:28.370043Z",
     "iopub.status.idle": "2025-02-03T22:17:28.785093Z",
     "shell.execute_reply": "2025-02-03T22:17:28.783720Z"
    },
    "papermill": {
     "duration": 0.441882,
     "end_time": "2025-02-03T22:17:28.787646",
     "exception": false,
     "start_time": "2025-02-03T22:17:28.345764",
     "status": "completed"
    },
    "tags": []
   },
   "outputs": [
    {
     "data": {
      "image/png": "[encoded data removed]",
      "text/plain": [
       "<Figure size 2000x800 with 2 Axes>"
      ]
     },
     "metadata": {},
     "output_type": "display_data"
    }
   ],
   "source": [
    "fig, axes = plt.subplots(1,2, figsize=(20, 8))\n",
    "\n",
    "# Split by Server and Type of Serve\n",
    "sns.countplot(x=\"serve\", hue='winner', data=points_eda[points_eda.server == 'Djokovic'], palette=\"Set1\", \n",
    "            hue_order = ['Djokovic', 'Nadal'],\n",
    "            order= [\"first\", \"second\"], \n",
    "            ax = axes[0])\n",
    "axes[0].set_ylim(0, 43)\n",
    "axes[0].legend().remove()\n",
    "axes[0].set_title('Djokovic', size = 16)\n",
    "axes[0].set_xlabel('Serve', fontdict = axis_label_font)\n",
    "axes[0].set_ylabel('Count', fontdict = axis_label_font)\n",
    "\n",
    "sns.countplot(x=\"serve\", hue='winner', data=points_eda[points_eda.server == 'Nadal'], palette=\"Set1\", \n",
    "            hue_order = ['Djokovic', 'Nadal'],\n",
    "            order= [\"first\", \"second\"], \n",
    "            ax = axes[1])\n",
    "axes[1].set_ylim(0, 43)\n",
    "axes[1].legend(title='Point Winner', loc = \"upper right\")\n",
    "axes[1].set_title('Nadal', size = 16)\n",
    "axes[1].set_xlabel('Serve', fontdict = axis_label_font)\n",
    "axes[1].set_ylabel('Count', fontdict = axis_label_font)\n",
    "\n",
    "fig.suptitle('Count of Point Winners, by Server & Type of Serve', y = 1, size = 18)\n",
    "plt.show()"
   ]
  },
  {
   "cell_type": "markdown",
   "id": "951cfc32",
   "metadata": {
    "papermill": {
     "duration": 0.075335,
     "end_time": "2025-02-03T22:17:28.887331",
     "exception": false,
     "start_time": "2025-02-03T22:17:28.811996",
     "status": "completed"
    },
    "tags": []
   },
   "source": [
    "### Temporal Data\n",
    "\n",
    "Moving onto temporal data, I provide a visual of the distribution of the time between two events in the data, with the average being 1.27 seconds. The utility of a feature like this might be to give a model that can handle temporal dependencies the data, rather than rely on the model to capture the dependencies itself."
   ]
  },
  {
   "cell_type": "code",
   "execution_count": 41,
   "id": "39b36548",
   "metadata": {
    "execution": {
     "iopub.execute_input": "2025-02-03T22:17:28.935047Z",
     "iopub.status.busy": "2025-02-03T22:17:28.934624Z",
     "iopub.status.idle": "2025-02-03T22:17:29.326393Z",
     "shell.execute_reply": "2025-02-03T22:17:29.325268Z"
    },
    "papermill": {
     "duration": 0.418426,
     "end_time": "2025-02-03T22:17:29.328661",
     "exception": false,
     "start_time": "2025-02-03T22:17:28.910235",
     "status": "completed"
    },
    "tags": []
   },
   "outputs": [
    {
     "data": {
      "image/png": "[encoded data removed]",
      "text/plain": [
       "<Figure size 1000x800 with 1 Axes>"
      ]
     },
     "metadata": {},
     "output_type": "display_data"
    }
   ],
   "source": [
    "# Time difference from previous hit (seconds)\n",
    "events_eda[\"time_diff\"] = events_eda['time'].diff()\n",
    "events_eda.loc[events_eda['strokeid'] == 1, 'time_diff'] = 0\n",
    "events_eda.loc[events_eda['time_diff'] > 5, 'time_diff'] = np.nan #np.median(events_eda_tr.time_diff)\n",
    "\n",
    "# Plot histogram of time difference between hits\n",
    "plt.figure(figsize = (10, 8))\n",
    "\n",
    "sns.histplot(events_eda[events_eda.time_diff > 0].time_diff, \n",
    "             color=\"red\", \n",
    "             bins = int(max(events_eda.time_diff)) * 6)\n",
    "\n",
    "# Calculate mean time difference\n",
    "mean_value = events_eda[events_eda.time_diff > 0].time_diff.mean()\n",
    "\n",
    "plt.axvline(mean_value, color='black', linestyle='dashed', linewidth=1, label=f'Mean: {round(mean_value, 2)} sec')\n",
    "plt.legend(prop = legend_font)\n",
    "\n",
    "plt.xlabel(\"Time Difference\", fontdict = axis_label_font)\n",
    "plt.ylabel(\"Count\", fontdict = axis_label_font)\n",
    "plt.xlim(0, int(max(events_eda.time_diff)))\n",
    "plt.xticks()\n",
    "plt.title(\"Count, Time Difference Between Rally Hits\", fontdict = title_font)\n",
    "plt.show()"
   ]
  },
  {
   "cell_type": "markdown",
   "id": "70c9ee70",
   "metadata": {
    "papermill": {
     "duration": 0.023676,
     "end_time": "2025-02-03T22:17:29.376786",
     "exception": false,
     "start_time": "2025-02-03T22:17:29.353110",
     "status": "completed"
    },
    "tags": []
   },
   "source": [
    "## Location Data - Single Rally Visual\n",
    "\n",
    "Next, I include code from this [excellent notebook](https://www.kaggle.com/code/robseidl/australian-open-mens-final-2019-data-exploration) to recreate the court with player locations, adding an additional function to map colors to each player's xth stroke (e.g. 1 = Red, 2  = Green). An example of this code in action is shown below, using Rally 6 of match, a 10-stroke rally won by Djokovic to end the first game of the match."
   ]
  },
  {
   "cell_type": "code",
   "execution_count": 42,
   "id": "c6cb742d",
   "metadata": {
    "execution": {
     "iopub.execute_input": "2025-02-03T22:17:29.427148Z",
     "iopub.status.busy": "2025-02-03T22:17:29.426718Z",
     "iopub.status.idle": "2025-02-03T22:17:29.441729Z",
     "shell.execute_reply": "2025-02-03T22:17:29.440597Z"
    },
    "papermill": {
     "duration": 0.043246,
     "end_time": "2025-02-03T22:17:29.443849",
     "exception": false,
     "start_time": "2025-02-03T22:17:29.400603",
     "status": "completed"
    },
    "tags": []
   },
   "outputs": [],
   "source": [
    "# Initialize global variables\n",
    "height_court = 10.97\n",
    "width_court = 11.89*2\n",
    "service_box = 6.4\n",
    "double_field = 1.37\n",
    "baseline_serviceline = 5.5\n",
    "breite_einzel = 8.23\n",
    "serviceline_net = 6.4\n",
    "\n",
    "def create_discrete_colormap(n, base_cmap=None):\n",
    "    \"\"\"    \n",
    "    Purpose: Create discrete color mapping for column listed 1-N\n",
    "\n",
    "    Input(s):\n",
    "        n (int): Number of discrete colors to create in the colormap.\n",
    "        base_cmap (str or None): The name of the base colormap to use. If None, the default colormap is used.\n",
    "    \n",
    "    Output(s):\n",
    "        LinearSegmentedColormap: A discrete colormap with `n` discrete colors.\n",
    "    \"\"\"\n",
    "    \n",
    "    # Get the base colormap from matplotlib\n",
    "    base = plt.cm.get_cmap(base_cmap)\n",
    "    \n",
    "    # Generate `n` evenly spaced colors from the base colormap\n",
    "    color_list = base(np.linspace(0, 1, n))\n",
    "    \n",
    "    # Create a unique name for the discrete colormap\n",
    "    cmap_name = base.name + str(n)\n",
    "\n",
    "    # Create a discrete colormap from the color list\n",
    "    discrete_cmap = mcolors.LinearSegmentedColormap.from_list(cmap_name, color_list, n)\n",
    "    \n",
    "    return discrete_cmap\n",
    "\n",
    "def draw_court(hide_axes=True):\n",
    "    \"\"\"\n",
    "    Purpose: Draw tennis court visual with optional hidden axes.\n",
    "    (Code courtesy of https://www.kaggle.com/code/robseidl/australian-open-mens-final-2019-data-exploration)\n",
    "\n",
    "    Input(s):\n",
    "        hide_axes (bool): If True, the axes will be hidden. Default is False.\n",
    "    \n",
    "    Output(s):\n",
    "        fig, axes (tuple): Contains the figure and axes objects.\n",
    "    \"\"\"\n",
    "    \n",
    "    # Create a figure with specified size based on court dimensions\n",
    "    fig = plt.figure(figsize=(height_court/2, width_court/2))\n",
    "    \n",
    "    # Alternative figure size (commented out)\n",
    "    # fig = plt.figure(figsize=(9, 9))\n",
    "    fig.patch.set_facecolor('#5080B0')\n",
    "\n",
    "    # Add subplot with a specified background color\n",
    "    axes = fig.add_subplot(1, 1, 1, facecolor='#5080B0')\n",
    "\n",
    "    # Optionally hide the axes\n",
    "    if hide_axes:\n",
    "        axes.xaxis.set_visible(False)\n",
    "        axes.yaxis.set_visible(False)\n",
    "        axes.axis('off')\n",
    "\n",
    "    # Draw court patches on the axes\n",
    "    axes = draw_patches(axes)\n",
    "    \n",
    "    return fig, axes\n",
    "\n",
    "def draw_patches(axes):\n",
    "    \"\"\"\n",
    "    Purpose: Draw the various patches and lines of the tennis court\n",
    "\n",
    "    Input(s):\n",
    "        axes (matplotlib.axes.Axes): The axes on which to draw the patches\n",
    "\n",
    "    Output(s):\n",
    "        axes (matplotlib.axes.Axes): The axes with the patches added\n",
    "    \"\"\"\n",
    "    \n",
    "    # Set the limits for the x and y axis based on court dimensions\n",
    "    plt.xlim([-2, height_court + 2])\n",
    "    plt.ylim([-6.5, width_court + 6.5])\n",
    "    \n",
    "    # Add the line for the net\n",
    "    axes.add_line(plt.Line2D([height_court, 0], [width_court / 2, width_court / 2], c='w'))\n",
    "    \n",
    "    # Add the court outline\n",
    "    y = 0\n",
    "    dy = width_court\n",
    "    x = 0\n",
    "    dx = height_court\n",
    "    axes.add_patch(plt.Rectangle((x, y), dx, dy, edgecolor=\"white\", facecolor=\"#5581A6\", alpha=1))\n",
    "    \n",
    "    # Add the serving rectangle\n",
    "    y = baseline_serviceline\n",
    "    dy = serviceline_net * 2\n",
    "    x = 0 + double_field \n",
    "    dx = breite_einzel\n",
    "\n",
    "    # Draw the serving rectangle\n",
    "    axes.add_patch(plt.Rectangle((x, y), dx, dy, edgecolor=\"white\", facecolor=\"none\", alpha=1))\n",
    "    \n",
    "    # Add the service box line\n",
    "    axes.add_line(plt.Line2D([height_court / 2, height_court / 2], [width_court / 2 - service_box, width_court / 2 + service_box], c='w'))\n",
    "    \n",
    "    # Add the single side lines\n",
    "    axes.add_line(plt.Line2D([1.37, 1.37], [0, width_court], c='w'))\n",
    "    axes.add_line(plt.Line2D([height_court - 1.37, height_court - 1.37], [0, width_court], c='w'))\n",
    "\n",
    "    # Add the center hash marks at the baselines\n",
    "    axes.add_line(plt.Line2D([height_court / 2, height_court / 2], [0, 0 + 0.45], c='w'))\n",
    "    axes.add_line(plt.Line2D([height_court / 2, height_court / 2], [width_court, width_court - 0.45], c='w'))\n",
    "\n",
    "    return axes"
   ]
  },
  {
   "cell_type": "code",
   "execution_count": 43,
   "id": "7f327aa7",
   "metadata": {
    "execution": {
     "iopub.execute_input": "2025-02-03T22:17:29.495227Z",
     "iopub.status.busy": "2025-02-03T22:17:29.494804Z",
     "iopub.status.idle": "2025-02-03T22:17:29.522758Z",
     "shell.execute_reply": "2025-02-03T22:17:29.521576Z"
    },
    "papermill": {
     "duration": 0.056834,
     "end_time": "2025-02-03T22:17:29.525210",
     "exception": false,
     "start_time": "2025-02-03T22:17:29.468376",
     "status": "completed"
    },
    "tags": []
   },
   "outputs": [
    {
     "data": {
      "text/html": [
       "<div>\n",
       "<style scoped>\n",
       "    .dataframe tbody tr th:only-of-type {\n",
       "        vertical-align: middle;\n",
       "    }\n",
       "\n",
       "    .dataframe tbody tr th {\n",
       "        vertical-align: top;\n",
       "    }\n",
       "\n",
       "    .dataframe thead th {\n",
       "        text-align: right;\n",
       "    }\n",
       "</style>\n",
       "<table border=\"1\" class=\"dataframe\">\n",
       "  <thead>\n",
       "    <tr style=\"text-align: right;\">\n",
       "      <th></th>\n",
       "      <th>rallyid</th>\n",
       "      <th>frameid</th>\n",
       "      <th>strokeid</th>\n",
       "      <th>hitter</th>\n",
       "      <th>receiver</th>\n",
       "      <th>isserve</th>\n",
       "      <th>serve</th>\n",
       "      <th>type</th>\n",
       "      <th>stroke</th>\n",
       "      <th>hitter_x</th>\n",
       "      <th>hitter_y</th>\n",
       "      <th>time</th>\n",
       "      <th>time_diff</th>\n",
       "      <th>type_of_shot</th>\n",
       "      <th>receiver_x</th>\n",
       "      <th>receiver_y</th>\n",
       "      <th>rally_hitter_shot</th>\n",
       "    </tr>\n",
       "  </thead>\n",
       "  <tbody>\n",
       "    <tr>\n",
       "      <th>11</th>\n",
       "      <td>6</td>\n",
       "      <td>73280</td>\n",
       "      <td>1</td>\n",
       "      <td>Djokovic</td>\n",
       "      <td>Nadal</td>\n",
       "      <td>True</td>\n",
       "      <td>first</td>\n",
       "      <td>serve</td>\n",
       "      <td>forehand</td>\n",
       "      <td>4.45</td>\n",
       "      <td>-0.25</td>\n",
       "      <td>96.12</td>\n",
       "      <td>0.0</td>\n",
       "      <td>first_serve</td>\n",
       "      <td>7.81</td>\n",
       "      <td>28.35</td>\n",
       "      <td>1</td>\n",
       "    </tr>\n",
       "    <tr>\n",
       "      <th>12</th>\n",
       "      <td>6</td>\n",
       "      <td>73300</td>\n",
       "      <td>2</td>\n",
       "      <td>Nadal</td>\n",
       "      <td>Djokovic</td>\n",
       "      <td>False</td>\n",
       "      <td>first</td>\n",
       "      <td>topspin</td>\n",
       "      <td>forehand</td>\n",
       "      <td>8.84</td>\n",
       "      <td>27.57</td>\n",
       "      <td>96.92</td>\n",
       "      <td>0.8</td>\n",
       "      <td>topspin</td>\n",
       "      <td>4.47</td>\n",
       "      <td>1.26</td>\n",
       "      <td>1</td>\n",
       "    </tr>\n",
       "    <tr>\n",
       "      <th>13</th>\n",
       "      <td>6</td>\n",
       "      <td>73330</td>\n",
       "      <td>3</td>\n",
       "      <td>Djokovic</td>\n",
       "      <td>Nadal</td>\n",
       "      <td>False</td>\n",
       "      <td>first</td>\n",
       "      <td>topspin</td>\n",
       "      <td>backhand</td>\n",
       "      <td>1.57</td>\n",
       "      <td>1.37</td>\n",
       "      <td>98.12</td>\n",
       "      <td>1.2</td>\n",
       "      <td>topspin</td>\n",
       "      <td>8.12</td>\n",
       "      <td>26.94</td>\n",
       "      <td>2</td>\n",
       "    </tr>\n",
       "    <tr>\n",
       "      <th>14</th>\n",
       "      <td>6</td>\n",
       "      <td>73360</td>\n",
       "      <td>4</td>\n",
       "      <td>Nadal</td>\n",
       "      <td>Djokovic</td>\n",
       "      <td>False</td>\n",
       "      <td>first</td>\n",
       "      <td>topspin</td>\n",
       "      <td>forehand</td>\n",
       "      <td>8.96</td>\n",
       "      <td>26.45</td>\n",
       "      <td>99.32</td>\n",
       "      <td>1.2</td>\n",
       "      <td>topspin</td>\n",
       "      <td>1.66</td>\n",
       "      <td>1.41</td>\n",
       "      <td>2</td>\n",
       "    </tr>\n",
       "    <tr>\n",
       "      <th>15</th>\n",
       "      <td>6</td>\n",
       "      <td>73390</td>\n",
       "      <td>5</td>\n",
       "      <td>Djokovic</td>\n",
       "      <td>Nadal</td>\n",
       "      <td>False</td>\n",
       "      <td>first</td>\n",
       "      <td>topspin</td>\n",
       "      <td>forehand</td>\n",
       "      <td>3.11</td>\n",
       "      <td>-0.08</td>\n",
       "      <td>100.52</td>\n",
       "      <td>1.2</td>\n",
       "      <td>topspin</td>\n",
       "      <td>7.66</td>\n",
       "      <td>26.09</td>\n",
       "      <td>3</td>\n",
       "    </tr>\n",
       "    <tr>\n",
       "      <th>16</th>\n",
       "      <td>6</td>\n",
       "      <td>73420</td>\n",
       "      <td>6</td>\n",
       "      <td>Nadal</td>\n",
       "      <td>Djokovic</td>\n",
       "      <td>False</td>\n",
       "      <td>first</td>\n",
       "      <td>topspin</td>\n",
       "      <td>forehand</td>\n",
       "      <td>7.35</td>\n",
       "      <td>25.14</td>\n",
       "      <td>101.72</td>\n",
       "      <td>1.2</td>\n",
       "      <td>topspin</td>\n",
       "      <td>3.55</td>\n",
       "      <td>-0.94</td>\n",
       "      <td>3</td>\n",
       "    </tr>\n",
       "    <tr>\n",
       "      <th>17</th>\n",
       "      <td>6</td>\n",
       "      <td>73440</td>\n",
       "      <td>7</td>\n",
       "      <td>Djokovic</td>\n",
       "      <td>Nadal</td>\n",
       "      <td>False</td>\n",
       "      <td>first</td>\n",
       "      <td>topspin</td>\n",
       "      <td>backhand</td>\n",
       "      <td>3.25</td>\n",
       "      <td>-0.08</td>\n",
       "      <td>102.52</td>\n",
       "      <td>0.8</td>\n",
       "      <td>topspin</td>\n",
       "      <td>6.42</td>\n",
       "      <td>25.37</td>\n",
       "      <td>4</td>\n",
       "    </tr>\n",
       "    <tr>\n",
       "      <th>18</th>\n",
       "      <td>6</td>\n",
       "      <td>73480</td>\n",
       "      <td>8</td>\n",
       "      <td>Nadal</td>\n",
       "      <td>Djokovic</td>\n",
       "      <td>False</td>\n",
       "      <td>first</td>\n",
       "      <td>topspin</td>\n",
       "      <td>forehand</td>\n",
       "      <td>8.38</td>\n",
       "      <td>28.74</td>\n",
       "      <td>104.12</td>\n",
       "      <td>1.6</td>\n",
       "      <td>topspin</td>\n",
       "      <td>3.86</td>\n",
       "      <td>-1.16</td>\n",
       "      <td>4</td>\n",
       "    </tr>\n",
       "    <tr>\n",
       "      <th>19</th>\n",
       "      <td>6</td>\n",
       "      <td>73510</td>\n",
       "      <td>9</td>\n",
       "      <td>Djokovic</td>\n",
       "      <td>Nadal</td>\n",
       "      <td>False</td>\n",
       "      <td>first</td>\n",
       "      <td>topspin</td>\n",
       "      <td>backhand</td>\n",
       "      <td>1.11</td>\n",
       "      <td>-0.62</td>\n",
       "      <td>105.32</td>\n",
       "      <td>1.2</td>\n",
       "      <td>topspin</td>\n",
       "      <td>7.12</td>\n",
       "      <td>26.33</td>\n",
       "      <td>5</td>\n",
       "    </tr>\n",
       "    <tr>\n",
       "      <th>20</th>\n",
       "      <td>6</td>\n",
       "      <td>73540</td>\n",
       "      <td>10</td>\n",
       "      <td>Nadal</td>\n",
       "      <td>Djokovic</td>\n",
       "      <td>False</td>\n",
       "      <td>first</td>\n",
       "      <td>slice</td>\n",
       "      <td>backhand</td>\n",
       "      <td>3.03</td>\n",
       "      <td>27.07</td>\n",
       "      <td>106.52</td>\n",
       "      <td>1.2</td>\n",
       "      <td>slice</td>\n",
       "      <td>2.05</td>\n",
       "      <td>-0.71</td>\n",
       "      <td>5</td>\n",
       "    </tr>\n",
       "  </tbody>\n",
       "</table>\n",
       "</div>"
      ],
      "text/plain": [
       "    rallyid  frameid  strokeid    hitter  receiver  isserve  serve     type  \\\n",
       "11        6    73280         1  Djokovic     Nadal     True  first    serve   \n",
       "12        6    73300         2     Nadal  Djokovic    False  first  topspin   \n",
       "13        6    73330         3  Djokovic     Nadal    False  first  topspin   \n",
       "14        6    73360         4     Nadal  Djokovic    False  first  topspin   \n",
       "15        6    73390         5  Djokovic     Nadal    False  first  topspin   \n",
       "16        6    73420         6     Nadal  Djokovic    False  first  topspin   \n",
       "17        6    73440         7  Djokovic     Nadal    False  first  topspin   \n",
       "18        6    73480         8     Nadal  Djokovic    False  first  topspin   \n",
       "19        6    73510         9  Djokovic     Nadal    False  first  topspin   \n",
       "20        6    73540        10     Nadal  Djokovic    False  first    slice   \n",
       "\n",
       "      stroke  hitter_x  hitter_y    time  time_diff type_of_shot  receiver_x  \\\n",
       "11  forehand      4.45     -0.25   96.12        0.0  first_serve        7.81   \n",
       "12  forehand      8.84     27.57   96.92        0.8      topspin        4.47   \n",
       "13  backhand      1.57      1.37   98.12        1.2      topspin        8.12   \n",
       "14  forehand      8.96     26.45   99.32        1.2      topspin        1.66   \n",
       "15  forehand      3.11     -0.08  100.52        1.2      topspin        7.66   \n",
       "16  forehand      7.35     25.14  101.72        1.2      topspin        3.55   \n",
       "17  backhand      3.25     -0.08  102.52        0.8      topspin        6.42   \n",
       "18  forehand      8.38     28.74  104.12        1.6      topspin        3.86   \n",
       "19  backhand      1.11     -0.62  105.32        1.2      topspin        7.12   \n",
       "20  backhand      3.03     27.07  106.52        1.2        slice        2.05   \n",
       "\n",
       "    receiver_y  rally_hitter_shot  \n",
       "11       28.35                  1  \n",
       "12        1.26                  1  \n",
       "13       26.94                  2  \n",
       "14        1.41                  2  \n",
       "15       26.09                  3  \n",
       "16       -0.94                  3  \n",
       "17       25.37                  4  \n",
       "18       -1.16                  4  \n",
       "19       26.33                  5  \n",
       "20       -0.71                  5  "
      ]
     },
     "execution_count": 43,
     "metadata": {},
     "output_type": "execute_result"
    }
   ],
   "source": [
    "# 40-0 Game 1, 10 stroke rally\n",
    "sample = events_eda[events_eda.rallyid == 6]\n",
    "sample['rally_hitter_shot'] = sample.groupby(['rallyid', 'hitter']).cumcount() + 1\n",
    "\n",
    "sample"
   ]
  },
  {
   "cell_type": "code",
   "execution_count": 44,
   "id": "0cca0787",
   "metadata": {
    "execution": {
     "iopub.execute_input": "2025-02-03T22:17:29.575800Z",
     "iopub.status.busy": "2025-02-03T22:17:29.574869Z",
     "iopub.status.idle": "2025-02-03T22:17:29.780716Z",
     "shell.execute_reply": "2025-02-03T22:17:29.777994Z"
    },
    "papermill": {
     "duration": 0.235713,
     "end_time": "2025-02-03T22:17:29.785364",
     "exception": false,
     "start_time": "2025-02-03T22:17:29.549651",
     "status": "completed"
    },
    "tags": []
   },
   "outputs": [
    {
     "data": {
      "text/plain": [
       "<matplotlib.colorbar.Colorbar at 0x7cb1246f7940>"
      ]
     },
     "execution_count": 44,
     "metadata": {},
     "output_type": "execute_result"
    },
    {
     "data": {
      "image/png": "[encoded data removed]",
      "text/plain": [
       "<Figure size 548.5x1189 with 2 Axes>"
      ]
     },
     "metadata": {},
     "output_type": "display_data"
    }
   ],
   "source": [
    "fig, ax = draw_court();\n",
    "\n",
    "# Create discrete colormaps for number of hits for each player, rally\n",
    "n_colors = max(sample.rally_hitter_shot)\n",
    "discrete_cmap = create_discrete_colormap(n_colors, 'Set1')\n",
    "\n",
    "scatter = ax.scatter(sample.hitter_x, sample.hitter_y, c=sample.rally_hitter_shot, cmap=discrete_cmap)\n",
    "plt.colorbar(scatter, ax = ax, ticks=np.arange(1, n_colors + 1), label='Color Value')"
   ]
  },
  {
   "cell_type": "code",
   "execution_count": 45,
   "id": "795647ba",
   "metadata": {
    "execution": {
     "iopub.execute_input": "2025-02-03T22:17:29.866611Z",
     "iopub.status.busy": "2025-02-03T22:17:29.865668Z",
     "iopub.status.idle": "2025-02-03T22:17:30.031703Z",
     "shell.execute_reply": "2025-02-03T22:17:30.030609Z"
    },
    "papermill": {
     "duration": 0.200334,
     "end_time": "2025-02-03T22:17:30.034836",
     "exception": false,
     "start_time": "2025-02-03T22:17:29.834502",
     "status": "completed"
    },
    "tags": []
   },
   "outputs": [
    {
     "data": {
      "text/plain": [
       "<matplotlib.colorbar.Colorbar at 0x7cb1244af6d0>"
      ]
     },
     "execution_count": 45,
     "metadata": {},
     "output_type": "execute_result"
    },
    {
     "data": {
      "image/png": "[encoded data removed]",
      "text/plain": [
       "<Figure size 548.5x1189 with 2 Axes>"
      ]
     },
     "metadata": {},
     "output_type": "display_data"
    }
   ],
   "source": [
    "fig, ax = draw_court();\n",
    "\n",
    "# Redo for receiver locations\n",
    "scatter = ax.scatter(sample.receiver_x, sample.receiver_y, c=sample.rally_hitter_shot, cmap=discrete_cmap)\n",
    "plt.colorbar(scatter, ax = ax, ticks=np.arange(1, n_colors + 1), label='Color Value')"
   ]
  },
  {
   "cell_type": "markdown",
   "id": "012946b0",
   "metadata": {
    "papermill": {
     "duration": 0.03696,
     "end_time": "2025-02-03T22:17:30.118488",
     "exception": false,
     "start_time": "2025-02-03T22:17:30.081528",
     "status": "completed"
    },
    "tags": []
   },
   "source": [
    "### Player Location Transformations\n",
    "\n",
    "Recall that the key insight from this analysis has been that predicting if the server won the point is a better use case over predicting if a specific player won the point. With this in mind, the next steps would be to manipulate player locations into a more uniform format. In regards to this dataset, where the side of the court closest to the main broadcasting camera containing the origin, one way to make the locations uniform is to transform all data so that the locations of the server are always located on the side of the court containing the origin. I provide code below to accomplish this, showcasing an example of these transformations."
   ]
  },
  {
   "cell_type": "code",
   "execution_count": 46,
   "id": "da3981ea",
   "metadata": {
    "execution": {
     "iopub.execute_input": "2025-02-03T22:17:30.170364Z",
     "iopub.status.busy": "2025-02-03T22:17:30.169985Z",
     "iopub.status.idle": "2025-02-03T22:17:30.179637Z",
     "shell.execute_reply": "2025-02-03T22:17:30.178471Z"
    },
    "papermill": {
     "duration": 0.038627,
     "end_time": "2025-02-03T22:17:30.182035",
     "exception": false,
     "start_time": "2025-02-03T22:17:30.143408",
     "status": "completed"
    },
    "tags": []
   },
   "outputs": [],
   "source": [
    "def transform_loc_data(df):\n",
    "    \"\"\"\n",
    "    Purpose: Reflect the server and receiver location points above y = 11.89.\n",
    "\n",
    "    Input(s):\n",
    "        df (pd.DataFrame): DataFrame containing the location data for players.\n",
    "\n",
    "    Output(s):\n",
    "        df (pd.DataFrame): Updated DataFrame with reflected location points for players.\n",
    "    \"\"\"\n",
    "    \n",
    "    # Reflection parameters\n",
    "    y_reflect_line = 11.89\n",
    "    x_reflect_line = 5.49\n",
    "\n",
    "    # Transform data into a single column for server, receiver locations\n",
    "    df[\"server_x_tr\"] = np.where(df.hitter == df.server, df.hitter_x, df.receiver_x)\n",
    "    df[\"server_y_tr\"] = np.where(df.hitter == df.server, df.hitter_y, df.receiver_y)\n",
    "    \n",
    "    df[\"receiver_x_tr\"] = np.where(df.hitter != df.server, df.hitter_x, df.receiver_x)\n",
    "    df[\"receiver_y_tr\"] = np.where(df.hitter != df.server, df.hitter_y, df.receiver_y)\n",
    "\n",
    "    # For location points of servers above y = 11.89\n",
    "    \n",
    "    # Reflect over x = 5.49\n",
    "    df[\"server_x_refl\"] = np.where(df.server_y_tr > y_reflect_line, 2 * x_reflect_line - df.server_x_tr, df.server_x_tr)\n",
    "\n",
    "    # Reflect over y = 11.89\n",
    "    df[\"server_y_refl\"] = np.where(df.server_y_tr > y_reflect_line, 2 * y_reflect_line - df.server_y_tr, df.server_y_tr)\n",
    "\n",
    "    # Perform the opposite for receivers, to standardize all location data as the server is closest to TV camera\n",
    "\n",
    "    # Reflect over x = 5.49\n",
    "    df[\"receiver_x_refl\"] = np.where(df.server_y_tr > y_reflect_line, 2 * x_reflect_line - df.receiver_x_tr, df.receiver_x_tr)\n",
    "\n",
    "    # Reflect over y = 11.89\n",
    "    df[\"receiver_y_refl\"] = np.where(df.server_y_tr > y_reflect_line, 2 * y_reflect_line - df.receiver_y_tr, df.receiver_y_tr)\n",
    "    \n",
    "    return df"
   ]
  },
  {
   "cell_type": "code",
   "execution_count": 47,
   "id": "2c73cec5",
   "metadata": {
    "execution": {
     "iopub.execute_input": "2025-02-03T22:17:30.234404Z",
     "iopub.status.busy": "2025-02-03T22:17:30.234047Z",
     "iopub.status.idle": "2025-02-03T22:17:30.269711Z",
     "shell.execute_reply": "2025-02-03T22:17:30.268600Z"
    },
    "papermill": {
     "duration": 0.063738,
     "end_time": "2025-02-03T22:17:30.271888",
     "exception": false,
     "start_time": "2025-02-03T22:17:30.208150",
     "status": "completed"
    },
    "tags": []
   },
   "outputs": [
    {
     "data": {
      "text/html": [
       "<div>\n",
       "<style scoped>\n",
       "    .dataframe tbody tr th:only-of-type {\n",
       "        vertical-align: middle;\n",
       "    }\n",
       "\n",
       "    .dataframe tbody tr th {\n",
       "        vertical-align: top;\n",
       "    }\n",
       "\n",
       "    .dataframe thead th {\n",
       "        text-align: right;\n",
       "    }\n",
       "</style>\n",
       "<table border=\"1\" class=\"dataframe\">\n",
       "  <thead>\n",
       "    <tr style=\"text-align: right;\">\n",
       "      <th></th>\n",
       "      <th>rallyid</th>\n",
       "      <th>frameid</th>\n",
       "      <th>strokeid</th>\n",
       "      <th>hitter</th>\n",
       "      <th>receiver</th>\n",
       "      <th>isserve</th>\n",
       "      <th>serve</th>\n",
       "      <th>type</th>\n",
       "      <th>stroke</th>\n",
       "      <th>hitter_x</th>\n",
       "      <th>...</th>\n",
       "      <th>receiver_y</th>\n",
       "      <th>server</th>\n",
       "      <th>server_x_tr</th>\n",
       "      <th>server_y_tr</th>\n",
       "      <th>receiver_x_tr</th>\n",
       "      <th>receiver_y_tr</th>\n",
       "      <th>server_x_refl</th>\n",
       "      <th>server_y_refl</th>\n",
       "      <th>receiver_x_refl</th>\n",
       "      <th>receiver_y_refl</th>\n",
       "    </tr>\n",
       "  </thead>\n",
       "  <tbody>\n",
       "    <tr>\n",
       "      <th>0</th>\n",
       "      <td>18</td>\n",
       "      <td>83935</td>\n",
       "      <td>1</td>\n",
       "      <td>Djokovic</td>\n",
       "      <td>Nadal</td>\n",
       "      <td>True</td>\n",
       "      <td>first</td>\n",
       "      <td>serve</td>\n",
       "      <td>forehand</td>\n",
       "      <td>2.77</td>\n",
       "      <td>...</td>\n",
       "      <td>-2.98</td>\n",
       "      <td>Djokovic</td>\n",
       "      <td>2.77</td>\n",
       "      <td>24.11</td>\n",
       "      <td>9.13</td>\n",
       "      <td>-2.98</td>\n",
       "      <td>8.21</td>\n",
       "      <td>-0.33</td>\n",
       "      <td>1.85</td>\n",
       "      <td>26.76</td>\n",
       "    </tr>\n",
       "    <tr>\n",
       "      <th>1</th>\n",
       "      <td>18</td>\n",
       "      <td>83955</td>\n",
       "      <td>2</td>\n",
       "      <td>Nadal</td>\n",
       "      <td>Djokovic</td>\n",
       "      <td>False</td>\n",
       "      <td>first</td>\n",
       "      <td>topspin</td>\n",
       "      <td>forehand</td>\n",
       "      <td>7.02</td>\n",
       "      <td>...</td>\n",
       "      <td>23.33</td>\n",
       "      <td>Djokovic</td>\n",
       "      <td>3.19</td>\n",
       "      <td>23.33</td>\n",
       "      <td>7.02</td>\n",
       "      <td>-1.47</td>\n",
       "      <td>7.79</td>\n",
       "      <td>0.45</td>\n",
       "      <td>3.96</td>\n",
       "      <td>25.25</td>\n",
       "    </tr>\n",
       "    <tr>\n",
       "      <th>2</th>\n",
       "      <td>18</td>\n",
       "      <td>83995</td>\n",
       "      <td>3</td>\n",
       "      <td>Djokovic</td>\n",
       "      <td>Nadal</td>\n",
       "      <td>False</td>\n",
       "      <td>first</td>\n",
       "      <td>topspin</td>\n",
       "      <td>forehand</td>\n",
       "      <td>1.43</td>\n",
       "      <td>...</td>\n",
       "      <td>-3.31</td>\n",
       "      <td>Djokovic</td>\n",
       "      <td>1.43</td>\n",
       "      <td>23.33</td>\n",
       "      <td>5.78</td>\n",
       "      <td>-3.31</td>\n",
       "      <td>9.55</td>\n",
       "      <td>0.45</td>\n",
       "      <td>5.20</td>\n",
       "      <td>27.09</td>\n",
       "    </tr>\n",
       "    <tr>\n",
       "      <th>3</th>\n",
       "      <td>18</td>\n",
       "      <td>84025</td>\n",
       "      <td>4</td>\n",
       "      <td>Nadal</td>\n",
       "      <td>Djokovic</td>\n",
       "      <td>False</td>\n",
       "      <td>first</td>\n",
       "      <td>slice</td>\n",
       "      <td>backhand</td>\n",
       "      <td>9.20</td>\n",
       "      <td>...</td>\n",
       "      <td>24.33</td>\n",
       "      <td>Djokovic</td>\n",
       "      <td>2.27</td>\n",
       "      <td>24.33</td>\n",
       "      <td>9.20</td>\n",
       "      <td>-2.19</td>\n",
       "      <td>8.71</td>\n",
       "      <td>-0.55</td>\n",
       "      <td>1.78</td>\n",
       "      <td>25.97</td>\n",
       "    </tr>\n",
       "    <tr>\n",
       "      <th>4</th>\n",
       "      <td>18</td>\n",
       "      <td>84075</td>\n",
       "      <td>5</td>\n",
       "      <td>Djokovic</td>\n",
       "      <td>Nadal</td>\n",
       "      <td>False</td>\n",
       "      <td>first</td>\n",
       "      <td>topspin</td>\n",
       "      <td>backhand</td>\n",
       "      <td>4.71</td>\n",
       "      <td>...</td>\n",
       "      <td>-0.97</td>\n",
       "      <td>Djokovic</td>\n",
       "      <td>4.71</td>\n",
       "      <td>21.65</td>\n",
       "      <td>4.76</td>\n",
       "      <td>-0.97</td>\n",
       "      <td>6.27</td>\n",
       "      <td>2.13</td>\n",
       "      <td>6.22</td>\n",
       "      <td>24.75</td>\n",
       "    </tr>\n",
       "    <tr>\n",
       "      <th>5</th>\n",
       "      <td>18</td>\n",
       "      <td>84095</td>\n",
       "      <td>6</td>\n",
       "      <td>Nadal</td>\n",
       "      <td>Djokovic</td>\n",
       "      <td>False</td>\n",
       "      <td>first</td>\n",
       "      <td>slice</td>\n",
       "      <td>backhand</td>\n",
       "      <td>7.15</td>\n",
       "      <td>...</td>\n",
       "      <td>21.96</td>\n",
       "      <td>Djokovic</td>\n",
       "      <td>4.24</td>\n",
       "      <td>21.96</td>\n",
       "      <td>7.15</td>\n",
       "      <td>-0.22</td>\n",
       "      <td>6.74</td>\n",
       "      <td>1.82</td>\n",
       "      <td>3.83</td>\n",
       "      <td>24.00</td>\n",
       "    </tr>\n",
       "  </tbody>\n",
       "</table>\n",
       "<p>6 rows × 25 columns</p>\n",
       "</div>"
      ],
      "text/plain": [
       "   rallyid  frameid  strokeid    hitter  receiver  isserve  serve     type  \\\n",
       "0       18    83935         1  Djokovic     Nadal     True  first    serve   \n",
       "1       18    83955         2     Nadal  Djokovic    False  first  topspin   \n",
       "2       18    83995         3  Djokovic     Nadal    False  first  topspin   \n",
       "3       18    84025         4     Nadal  Djokovic    False  first    slice   \n",
       "4       18    84075         5  Djokovic     Nadal    False  first  topspin   \n",
       "5       18    84095         6     Nadal  Djokovic    False  first    slice   \n",
       "\n",
       "     stroke  hitter_x  ...  receiver_y    server  server_x_tr server_y_tr  \\\n",
       "0  forehand      2.77  ...       -2.98  Djokovic         2.77       24.11   \n",
       "1  forehand      7.02  ...       23.33  Djokovic         3.19       23.33   \n",
       "2  forehand      1.43  ...       -3.31  Djokovic         1.43       23.33   \n",
       "3  backhand      9.20  ...       24.33  Djokovic         2.27       24.33   \n",
       "4  backhand      4.71  ...       -0.97  Djokovic         4.71       21.65   \n",
       "5  backhand      7.15  ...       21.96  Djokovic         4.24       21.96   \n",
       "\n",
       "   receiver_x_tr  receiver_y_tr server_x_refl  server_y_refl  receiver_x_refl  \\\n",
       "0           9.13          -2.98          8.21          -0.33             1.85   \n",
       "1           7.02          -1.47          7.79           0.45             3.96   \n",
       "2           5.78          -3.31          9.55           0.45             5.20   \n",
       "3           9.20          -2.19          8.71          -0.55             1.78   \n",
       "4           4.76          -0.97          6.27           2.13             6.22   \n",
       "5           7.15          -0.22          6.74           1.82             3.83   \n",
       "\n",
       "   receiver_y_refl  \n",
       "0            26.76  \n",
       "1            25.25  \n",
       "2            27.09  \n",
       "3            25.97  \n",
       "4            24.75  \n",
       "5            24.00  \n",
       "\n",
       "[6 rows x 25 columns]"
      ]
     },
     "execution_count": 47,
     "metadata": {},
     "output_type": "execute_result"
    }
   ],
   "source": [
    "# Get new sample event where the server is on the furthest side of the court\n",
    "sample_rally = events_eda[events_eda.rallyid == 18]\n",
    "\n",
    "# Transform location data\n",
    "sample_rally = pd.merge(sample_rally, points_eda[[\"rallyid\", \"server\"]], on = \"rallyid\")\n",
    "sample_rally = transform_loc_data(sample_rally)\n",
    "\n",
    "sample_rally"
   ]
  },
  {
   "cell_type": "code",
   "execution_count": 48,
   "id": "28313ce1",
   "metadata": {
    "execution": {
     "iopub.execute_input": "2025-02-03T22:17:30.327000Z",
     "iopub.status.busy": "2025-02-03T22:17:30.326584Z",
     "iopub.status.idle": "2025-02-03T22:17:30.431576Z",
     "shell.execute_reply": "2025-02-03T22:17:30.430366Z"
    },
    "papermill": {
     "duration": 0.138084,
     "end_time": "2025-02-03T22:17:30.436794",
     "exception": false,
     "start_time": "2025-02-03T22:17:30.298710",
     "status": "completed"
    },
    "tags": []
   },
   "outputs": [
    {
     "data": {
      "image/png": "[encoded data removed]",
      "text/plain": [
       "<Figure size 548.5x1189 with 1 Axes>"
      ]
     },
     "metadata": {},
     "output_type": "display_data"
    }
   ],
   "source": [
    "fig, ax = draw_court();\n",
    "\n",
    "# Plot player locations for rally pre-transformation\n",
    "scatter = ax.scatter([sample_rally.hitter_x, sample_rally.receiver_x], \n",
    "                     [sample_rally.hitter_y, sample_rally.receiver_y], \n",
    "                     c = 'black')\n",
    "ax.set_title(\"Sample Player Locations\", y = 1, c = \"white\")\n",
    "plt.show()"
   ]
  },
  {
   "cell_type": "code",
   "execution_count": 49,
   "id": "1e6c8d2a",
   "metadata": {
    "execution": {
     "iopub.execute_input": "2025-02-03T22:17:30.538611Z",
     "iopub.status.busy": "2025-02-03T22:17:30.538233Z",
     "iopub.status.idle": "2025-02-03T22:17:30.651712Z",
     "shell.execute_reply": "2025-02-03T22:17:30.649279Z"
    },
    "papermill": {
     "duration": 0.154151,
     "end_time": "2025-02-03T22:17:30.655212",
     "exception": false,
     "start_time": "2025-02-03T22:17:30.501061",
     "status": "completed"
    },
    "tags": []
   },
   "outputs": [
    {
     "data": {
      "image/png": "[encoded data removed]",
      "text/plain": [
       "<Figure size 548.5x1189 with 1 Axes>"
      ]
     },
     "metadata": {},
     "output_type": "display_data"
    }
   ],
   "source": [
    "fig, ax = draw_court();\n",
    "\n",
    "# Plot player locations after transformation\n",
    "scatter = ax.scatter([sample_rally.server_x_refl, sample_rally.receiver_x_refl], \n",
    "                     [sample_rally.server_y_refl, sample_rally.receiver_y_refl],\n",
    "                    c = 'black')\n",
    "ax.set_title(\"Sample Player Locations, Transformed\", y = 1, c = \"white\")\n",
    "plt.show()"
   ]
  },
  {
   "cell_type": "code",
   "execution_count": 50,
   "id": "048acb55",
   "metadata": {
    "execution": {
     "iopub.execute_input": "2025-02-03T22:17:30.750167Z",
     "iopub.status.busy": "2025-02-03T22:17:30.749568Z",
     "iopub.status.idle": "2025-02-03T22:17:30.769961Z",
     "shell.execute_reply": "2025-02-03T22:17:30.768763Z"
    },
    "papermill": {
     "duration": 0.070838,
     "end_time": "2025-02-03T22:17:30.773185",
     "exception": false,
     "start_time": "2025-02-03T22:17:30.702347",
     "status": "completed"
    },
    "tags": []
   },
   "outputs": [],
   "source": [
    "# Create copy of events dataset\n",
    "events_eda_tr = events_eda.copy()\n",
    "events_eda_tr = events_eda_tr[events_eda_tr.rallyid.isin(list(serves.rallyid.unique()))]\n",
    "\n",
    "events_eda_tr = pd.merge(events_eda_tr, points_eda[[\"rallyid\", \"server\"]], on = \"rallyid\")\n",
    "events_eda_tr[\"returner\"] = np.where(events_eda_tr.server == \"Djokovic\", \"Nadal\", \"Djokovic\")\n",
    "\n",
    "# Transform locations of server to be on one side, receiver on the othe\n",
    "events_eda_tr = transform_loc_data(events_eda_tr)"
   ]
  },
  {
   "cell_type": "markdown",
   "id": "a1faa7a8",
   "metadata": {
    "papermill": {
     "duration": 0.034776,
     "end_time": "2025-02-03T22:17:30.843563",
     "exception": false,
     "start_time": "2025-02-03T22:17:30.808787",
     "status": "completed"
    },
    "tags": []
   },
   "source": [
    "Each player's tendencies with regards to location on the court can also be investigated, to which additional code is provided. All player locations are transformed to be on the side closest to the origin, and a visual of the court is drawn with a heatmap showing the frequency of location. The only interesting conclusion that can be drawn is that Djokovic tends to be slightly farther away from the net, while Nadal plays slightly closer and in front of the baseline more."
   ]
  },
  {
   "cell_type": "code",
   "execution_count": 51,
   "id": "3dc29baa",
   "metadata": {
    "execution": {
     "iopub.execute_input": "2025-02-03T22:17:30.914709Z",
     "iopub.status.busy": "2025-02-03T22:17:30.914193Z",
     "iopub.status.idle": "2025-02-03T22:17:30.936324Z",
     "shell.execute_reply": "2025-02-03T22:17:30.935163Z"
    },
    "papermill": {
     "duration": 0.063393,
     "end_time": "2025-02-03T22:17:30.938535",
     "exception": false,
     "start_time": "2025-02-03T22:17:30.875142",
     "status": "completed"
    },
    "tags": []
   },
   "outputs": [
    {
     "data": {
      "text/html": [
       "<div>\n",
       "<style scoped>\n",
       "    .dataframe tbody tr th:only-of-type {\n",
       "        vertical-align: middle;\n",
       "    }\n",
       "\n",
       "    .dataframe tbody tr th {\n",
       "        vertical-align: top;\n",
       "    }\n",
       "\n",
       "    .dataframe thead th {\n",
       "        text-align: right;\n",
       "    }\n",
       "</style>\n",
       "<table border=\"1\" class=\"dataframe\">\n",
       "  <thead>\n",
       "    <tr style=\"text-align: right;\">\n",
       "      <th></th>\n",
       "      <th>rallyid</th>\n",
       "      <th>strokeid</th>\n",
       "      <th>hitter</th>\n",
       "      <th>hitter_x</th>\n",
       "      <th>hitter_y</th>\n",
       "      <th>hitter_x_refl</th>\n",
       "      <th>hitter_y_refl</th>\n",
       "    </tr>\n",
       "  </thead>\n",
       "  <tbody>\n",
       "    <tr>\n",
       "      <th>748</th>\n",
       "      <td>206</td>\n",
       "      <td>1</td>\n",
       "      <td>Nadal</td>\n",
       "      <td>3.78</td>\n",
       "      <td>-0.65</td>\n",
       "      <td>3.78</td>\n",
       "      <td>-0.65</td>\n",
       "    </tr>\n",
       "    <tr>\n",
       "      <th>749</th>\n",
       "      <td>206</td>\n",
       "      <td>2</td>\n",
       "      <td>Djokovic</td>\n",
       "      <td>7.75</td>\n",
       "      <td>23.96</td>\n",
       "      <td>3.23</td>\n",
       "      <td>-0.18</td>\n",
       "    </tr>\n",
       "    <tr>\n",
       "      <th>750</th>\n",
       "      <td>206</td>\n",
       "      <td>3</td>\n",
       "      <td>Nadal</td>\n",
       "      <td>5.21</td>\n",
       "      <td>-1.27</td>\n",
       "      <td>5.21</td>\n",
       "      <td>-1.27</td>\n",
       "    </tr>\n",
       "    <tr>\n",
       "      <th>751</th>\n",
       "      <td>206</td>\n",
       "      <td>4</td>\n",
       "      <td>Djokovic</td>\n",
       "      <td>2.23</td>\n",
       "      <td>25.19</td>\n",
       "      <td>8.75</td>\n",
       "      <td>-1.41</td>\n",
       "    </tr>\n",
       "    <tr>\n",
       "      <th>752</th>\n",
       "      <td>206</td>\n",
       "      <td>5</td>\n",
       "      <td>Nadal</td>\n",
       "      <td>7.52</td>\n",
       "      <td>-1.69</td>\n",
       "      <td>7.52</td>\n",
       "      <td>-1.69</td>\n",
       "    </tr>\n",
       "  </tbody>\n",
       "</table>\n",
       "</div>"
      ],
      "text/plain": [
       "     rallyid  strokeid    hitter  hitter_x  hitter_y  hitter_x_refl  \\\n",
       "748      206         1     Nadal      3.78     -0.65           3.78   \n",
       "749      206         2  Djokovic      7.75     23.96           3.23   \n",
       "750      206         3     Nadal      5.21     -1.27           5.21   \n",
       "751      206         4  Djokovic      2.23     25.19           8.75   \n",
       "752      206         5     Nadal      7.52     -1.69           7.52   \n",
       "\n",
       "     hitter_y_refl  \n",
       "748          -0.65  \n",
       "749          -0.18  \n",
       "750          -1.27  \n",
       "751          -1.41  \n",
       "752          -1.69  "
      ]
     },
     "execution_count": 51,
     "metadata": {},
     "output_type": "execute_result"
    }
   ],
   "source": [
    "# Use code from location transformation function to reflect all data to one side\n",
    "events_location_data = events_eda_tr.copy()\n",
    "\n",
    "# Reflection parameters\n",
    "y_reflect_line = 11.89\n",
    "x_reflect_line = 5.49\n",
    "\n",
    "# For location points of servers above y = 11.89\n",
    "\n",
    "# Reflect over x = 5.49\n",
    "events_location_data[\"hitter_x_refl\"] = np.where(events_location_data.hitter_y > y_reflect_line, \n",
    "                                   2 * x_reflect_line - events_location_data.hitter_x, events_location_data.hitter_x)\n",
    "\n",
    "# Reflect over y = 11.89\n",
    "events_location_data[\"hitter_y_refl\"] = np.where(events_location_data.hitter_y > y_reflect_line, \n",
    "                                   2 * y_reflect_line - events_location_data.hitter_y, events_location_data.hitter_y)\n",
    "\n",
    "events_location_data[[\"rallyid\", \"strokeid\", \"hitter\", \"hitter_x\", \"hitter_y\", \"hitter_x_refl\", \"hitter_y_refl\"]].tail()"
   ]
  },
  {
   "cell_type": "code",
   "execution_count": 52,
   "id": "c7e33500",
   "metadata": {
    "execution": {
     "iopub.execute_input": "2025-02-03T22:17:30.999053Z",
     "iopub.status.busy": "2025-02-03T22:17:30.998401Z",
     "iopub.status.idle": "2025-02-03T22:17:31.012392Z",
     "shell.execute_reply": "2025-02-03T22:17:31.011214Z"
    },
    "papermill": {
     "duration": 0.049392,
     "end_time": "2025-02-03T22:17:31.015868",
     "exception": false,
     "start_time": "2025-02-03T22:17:30.966476",
     "status": "completed"
    },
    "tags": []
   },
   "outputs": [],
   "source": [
    "def plot_event_location_data(loc_data, player):\n",
    "    \"\"\"\n",
    "    Purpose: Plot the event location data on a single side of the court (data is assumed to transformed).\n",
    "    \n",
    "    Input(s):\n",
    "        loc_data (DataFrame): DataFrame containing location data for events\n",
    "        player (string): Represents player name to include in output visual's title\n",
    "    \n",
    "    Output(s):\n",
    "        None, prints matplotlib visual\n",
    "    \"\"\"\n",
    "    \n",
    "    # Reflection parameters\n",
    "    y_reflect_line = 11.89\n",
    "    x_reflect_line = 5.49\n",
    "    \n",
    "    # Reflect the location points of hitters above y = 11.89\n",
    "\n",
    "    # Reflect over x = 5.49\n",
    "    loc_data[\"hitter_x_refl\"] = np.where(loc_data.hitter_y > y_reflect_line, \n",
    "                                       2 * x_reflect_line - loc_data.hitter_x, loc_data.hitter_x)\n",
    "    \n",
    "    # Reflect over y = 11.89\n",
    "    loc_data[\"hitter_y_refl\"] = np.where(loc_data.hitter_y > y_reflect_line, \n",
    "                                       2 * y_reflect_line - loc_data.hitter_y, loc_data.hitter_y)\n",
    "\n",
    "    # Create a plot with specified size\n",
    "    plt.figure(figsize = (12, 8))\n",
    "\n",
    "    # Create a 2D histogram for the player's reflected event locations\n",
    "    heatmap, xedges, yedges = np.histogram2d(\n",
    "        loc_data[loc_data.hitter == player]['hitter_y_refl'].dropna(), \n",
    "        loc_data[loc_data.hitter == player]['hitter_x_refl'].dropna(), \n",
    "        bins=(50, 50),\n",
    "        range=[[-9, 12], [-2, 14]])\n",
    "\n",
    "    # Set the extent of the plot\n",
    "    extent = [xedges[0], xedges[-1], yedges[0], yedges[-1]]\n",
    "    plt.xlim(xedges[0], xedges[-1])\n",
    "    plt.ylim(yedges[0], yedges[-1])\n",
    "    \n",
    "    # Display the heatmap\n",
    "    plt.imshow(heatmap.T, extent=extent, origin='lower', cmap='viridis', aspect='auto')\n",
    "\n",
    "    # Add the court lines to the plot\n",
    "    plt.plot([0, 0], [0, 10.97], 'k')\n",
    "    plt.plot([11.985, 0], [0, 0], 'k')\n",
    "    plt.plot([11.985, 0], [10.97, 10.97], 'k')\n",
    "    plt.plot([11.985, 11.985], [0, 10.97], 'k', linestyle='dashed')\n",
    "    plt.plot([11.985, 0], [1.37, 1.37], 'k')\n",
    "    plt.plot([11.985, 0], [9.6, 9.6], 'k')\n",
    "    plt.plot([5.585, 5.585], [1.37, 9.6], 'k')\n",
    "    plt.plot([5.585, 11.985], [5.485, 5.485], 'k')\n",
    "\n",
    "    # Set the title of the plot\n",
    "    plt.title(f\"Single-Side Player Locations: {player}\")\n",
    "    plt.axis('off')"
   ]
  },
  {
   "cell_type": "code",
   "execution_count": 53,
   "id": "9d85af3f",
   "metadata": {
    "execution": {
     "iopub.execute_input": "2025-02-03T22:17:31.076345Z",
     "iopub.status.busy": "2025-02-03T22:17:31.075828Z",
     "iopub.status.idle": "2025-02-03T22:17:31.386404Z",
     "shell.execute_reply": "2025-02-03T22:17:31.385116Z"
    },
    "papermill": {
     "duration": 0.343286,
     "end_time": "2025-02-03T22:17:31.389099",
     "exception": false,
     "start_time": "2025-02-03T22:17:31.045813",
     "status": "completed"
    },
    "tags": []
   },
   "outputs": [
    {
     "data": {
      "image/png": "[encoded data removed]",
      "text/plain": [
       "<Figure size 1200x800 with 1 Axes>"
      ]
     },
     "metadata": {},
     "output_type": "display_data"
    }
   ],
   "source": [
    "# Plot for Nadal\n",
    "plot_event_location_data(events_eda_tr, \"Nadal\")"
   ]
  },
  {
   "cell_type": "code",
   "execution_count": 54,
   "id": "0d351eb2",
   "metadata": {
    "execution": {
     "iopub.execute_input": "2025-02-03T22:17:31.446320Z",
     "iopub.status.busy": "2025-02-03T22:17:31.445270Z",
     "iopub.status.idle": "2025-02-03T22:17:31.750640Z",
     "shell.execute_reply": "2025-02-03T22:17:31.749196Z"
    },
    "papermill": {
     "duration": 0.336657,
     "end_time": "2025-02-03T22:17:31.753132",
     "exception": false,
     "start_time": "2025-02-03T22:17:31.416475",
     "status": "completed"
    },
    "tags": []
   },
   "outputs": [
    {
     "data": {
      "image/png": "[encoded data removed]",
      "text/plain": [
       "<Figure size 1200x800 with 1 Axes>"
      ]
     },
     "metadata": {},
     "output_type": "display_data"
    }
   ],
   "source": [
    "# Plot for Djokovic\n",
    "plot_event_location_data(events_eda_tr, \"Djokovic\")"
   ]
  },
  {
   "cell_type": "markdown",
   "id": "f7e4bb37",
   "metadata": {
    "papermill": {
     "duration": 0.02808,
     "end_time": "2025-02-03T22:17:31.808690",
     "exception": false,
     "start_time": "2025-02-03T22:17:31.780610",
     "status": "completed"
    },
    "tags": []
   },
   "source": [
    "### Other Location Transformations\n",
    "\n",
    "Finally, additional code is written to create other transformations of location data, this time in one dimension. These include:\n",
    "* Distance from center hash at baseline (respective side of court)\n",
    "* Distance Traveled Displacement from last hit\n",
    "* ~Angle of hitter to net~\n",
    "* ~\"Zone\" of court, or a discrete version of location data~"
   ]
  },
  {
   "cell_type": "code",
   "execution_count": 55,
   "id": "486f70f5",
   "metadata": {
    "execution": {
     "iopub.execute_input": "2025-02-03T22:17:31.865504Z",
     "iopub.status.busy": "2025-02-03T22:17:31.865138Z",
     "iopub.status.idle": "2025-02-03T22:17:31.876275Z",
     "shell.execute_reply": "2025-02-03T22:17:31.875114Z"
    },
    "papermill": {
     "duration": 0.042699,
     "end_time": "2025-02-03T22:17:31.878840",
     "exception": false,
     "start_time": "2025-02-03T22:17:31.836141",
     "status": "completed"
    },
    "tags": []
   },
   "outputs": [],
   "source": [
    "# Create measures of distance from center of baseline for each player\n",
    "\n",
    "# Create coordinate for center of each baseline\n",
    "server_side_baseline_center = [height_court/2, 0]\n",
    "receiver_side_baseline_center = [height_court/2, width_court]\n",
    "\n",
    "# For server and receiver locations (transformed), calculate distance from respective baseline with L2 Norm\n",
    "server_locations = np.array(events_eda_tr[[\"server_x_refl\", \"server_y_refl\"]])\n",
    "receiver_locations = np.array(events_eda_tr[[\"receiver_x_refl\", \"receiver_y_refl\"]])\n",
    "\n",
    "server_distances_from_baseline = np.linalg.norm((server_locations - [server_side_baseline_center]), axis = 1)\n",
    "receiver_distances_from_baseline = np.linalg.norm((receiver_locations - [receiver_side_baseline_center]), axis = 1)\n",
    "\n",
    "events_eda_tr[\"server_distance_from_baseline\"] = server_distances_from_baseline\n",
    "events_eda_tr[\"receiver_distance_from_baseline\"] = receiver_distances_from_baseline"
   ]
  },
  {
   "cell_type": "code",
   "execution_count": 56,
   "id": "fc4a7ce8",
   "metadata": {
    "execution": {
     "iopub.execute_input": "2025-02-03T22:17:31.938261Z",
     "iopub.status.busy": "2025-02-03T22:17:31.937024Z",
     "iopub.status.idle": "2025-02-03T22:17:32.289199Z",
     "shell.execute_reply": "2025-02-03T22:17:32.288047Z"
    },
    "papermill": {
     "duration": 0.383699,
     "end_time": "2025-02-03T22:17:32.291496",
     "exception": false,
     "start_time": "2025-02-03T22:17:31.907797",
     "status": "completed"
    },
    "tags": []
   },
   "outputs": [
    {
     "data": {
      "image/png": "[encoded data removed]",
      "text/plain": [
       "<Figure size 1000x800 with 1 Axes>"
      ]
     },
     "metadata": {},
     "output_type": "display_data"
    }
   ],
   "source": [
    "# Join all distance from baseline for each event for players\n",
    "server_distances = events_eda_tr[[\"server\", \"server_distance_from_baseline\"]].rename(\n",
    "    columns = {\n",
    "        \"server\": \"Player\", \n",
    "        \"server_distance_from_baseline\": \"distance\"\n",
    "    })\n",
    "\n",
    "receiver_distances = events_eda_tr[[\"receiver\", \"receiver_distance_from_baseline\"]].rename(\n",
    "    columns = {\n",
    "        \"receiver\": \"Player\", \n",
    "        \"receiver_distance_from_baseline\": \"distance\"\n",
    "    })\n",
    "\n",
    "all_distances = pd.concat([server_distances, receiver_distances]).reset_index()\n",
    "\n",
    "# Plot distribution of distance from baseline for each player\n",
    "plt.figure(figsize = (10, 8))\n",
    "\n",
    "sns.histplot(data = all_distances[all_distances.Player != \"__undefined__\"], x = \"distance\", hue = \"Player\", \n",
    "             bins = 50, palette=\"Set1\", stat = \"density\", element=\"step\")\n",
    "\n",
    "plt.xlabel('Distance From Baseline', fontdict = axis_label_font)\n",
    "plt.ylabel('Density', fontdict = axis_label_font)\n",
    "plt.title('Distance From Baseline By Player', fontdict = title_font)\n",
    "plt.show()"
   ]
  },
  {
   "cell_type": "code",
   "execution_count": 57,
   "id": "0fe561b4",
   "metadata": {
    "execution": {
     "iopub.execute_input": "2025-02-03T22:17:32.349994Z",
     "iopub.status.busy": "2025-02-03T22:17:32.349587Z",
     "iopub.status.idle": "2025-02-03T22:17:32.367089Z",
     "shell.execute_reply": "2025-02-03T22:17:32.365984Z"
    },
    "papermill": {
     "duration": 0.049811,
     "end_time": "2025-02-03T22:17:32.369477",
     "exception": false,
     "start_time": "2025-02-03T22:17:32.319666",
     "status": "completed"
    },
    "tags": []
   },
   "outputs": [],
   "source": [
    "# Create previous location variable\n",
    "events_eda_tr[\"server_x_refl_prev\"] = events_eda_tr['server_x_refl'].shift(1)\n",
    "events_eda_tr[\"server_y_refl_prev\"] = events_eda_tr['server_y_refl'].shift(1)\n",
    "\n",
    "events_eda_tr[\"receiver_x_refl_prev\"] = events_eda_tr['receiver_x_refl'].shift(1)\n",
    "events_eda_tr[\"receiver_y_refl_prev\"] = events_eda_tr['receiver_y_refl'].shift(1)\n",
    "\n",
    "# Set all previous locations for serve strokes to NA\n",
    "events_eda_tr.loc[events_eda_tr.strokeid == 1, 'server_x_refl_prev'] = np.nan\n",
    "events_eda_tr.loc[events_eda_tr.strokeid == 1, 'server_y_refl_prev'] = np.nan\n",
    "\n",
    "events_eda_tr.loc[events_eda_tr.strokeid == 1, 'receiver_x_refl_prev'] = np.nan\n",
    "events_eda_tr.loc[events_eda_tr.strokeid == 1, 'receiver_y_refl_prev'] = np.nan\n",
    "\n",
    "# Calculate with distance formula the displacement of server and receiver from location for previous rally hit\n",
    "events_eda_tr[\"server_displacement\"] = np.where(\n",
    "    events_eda_tr.server_x_refl_prev.isna(), np.nan,\n",
    "    np.sqrt((events_eda_tr.server_x_refl - events_eda_tr.server_x_refl_prev)**2 + (events_eda_tr.server_y_refl - events_eda_tr.server_y_refl_prev)**2)\n",
    ")\n",
    "\n",
    "events_eda_tr[\"receiver_displacement\"] = np.where(\n",
    "    events_eda_tr.receiver_x_refl_prev.isna(), np.nan,\n",
    "    np.sqrt((events_eda_tr.receiver_x_refl - events_eda_tr.receiver_x_refl_prev)**2 + (events_eda_tr.receiver_y_refl - events_eda_tr.receiver_y_refl_prev)**2)\n",
    ")"
   ]
  },
  {
   "cell_type": "code",
   "execution_count": 58,
   "id": "f27e099e",
   "metadata": {
    "execution": {
     "iopub.execute_input": "2025-02-03T22:17:32.429744Z",
     "iopub.status.busy": "2025-02-03T22:17:32.428965Z",
     "iopub.status.idle": "2025-02-03T22:17:32.879352Z",
     "shell.execute_reply": "2025-02-03T22:17:32.878226Z"
    },
    "papermill": {
     "duration": 0.482299,
     "end_time": "2025-02-03T22:17:32.881780",
     "exception": false,
     "start_time": "2025-02-03T22:17:32.399481",
     "status": "completed"
    },
    "tags": []
   },
   "outputs": [
    {
     "data": {
      "image/png": "[encoded data removed]",
      "text/plain": [
       "<Figure size 1000x800 with 1 Axes>"
      ]
     },
     "metadata": {},
     "output_type": "display_data"
    }
   ],
   "source": [
    "# Aggregate displacement from previous rally hit for both players\n",
    "server_displacements = events_eda_tr[events_eda_tr.server_displacement >= 0][[\"server\", \"server_displacement\"]].rename(\n",
    "    columns = {\n",
    "        \"server\": \"Player\", \n",
    "        \"server_displacement\": \"displacement\"\n",
    "    })\n",
    "\n",
    "receiver_displacements = events_eda_tr[events_eda_tr.receiver_displacement >= 0][[\"receiver\", \"receiver_displacement\"]].rename(\n",
    "    columns = {\n",
    "        \"receiver\": \"Player\", \n",
    "        \"receiver_displacement\": \"displacement\"\n",
    "    })\n",
    "\n",
    "all_displacements = pd.concat([server_displacements, receiver_displacements]).reset_index()\n",
    "\n",
    "# Plot distribution of displacement from previous rally hit\n",
    "plt.figure(figsize = (10, 8))\n",
    "\n",
    "sns.histplot(data = all_displacements[all_displacements.Player != \"__undefined__\"], x = \"displacement\", hue = \"Player\", \n",
    "             bins = 50, palette=\"Set1\", stat = \"density\", element=\"step\")\n",
    "\n",
    "plt.xlabel('Displacement From Previous Hit', fontdict = axis_label_font)\n",
    "plt.ylabel('Density', fontdict = axis_label_font)\n",
    "plt.title('Displacement From Previous Hit By Player', fontdict = title_font)\n",
    "plt.show()"
   ]
  },
  {
   "cell_type": "markdown",
   "id": "69886d70",
   "metadata": {
    "papermill": {
     "duration": 0.028796,
     "end_time": "2025-02-03T22:17:32.940905",
     "exception": false,
     "start_time": "2025-02-03T22:17:32.912109",
     "status": "completed"
    },
    "tags": []
   },
   "source": [
    "# Conclusions\n",
    "\n",
    "\n",
    "* Fundamentally, if the goal is to evaluate players via a model-driven metric, we should anchor such to be based on some sort of population average, in this case the amount of points above average that are expected to be won by a player conditional on whether or not they are serving.\n",
    "\n",
    "* With the decision to train a model to predict if the server won the point, location data can be transformed to be more uniform prior to modeling the data. Given that data for only one match is being used, this may help the model during training by reducing large errors and thus improving the model's ability to generalize to new data.\n",
    "\n",
    "* If trying to predict at the level of a rally, then a predictive model should have a sequential aspect to its inputs, akin to some attempts to use soccer/football data to model expected goals (xG).\n",
    "\n",
    "* A predictive model would be trained using any/all of the following features:\n",
    "    * Player locations (transformed)\n",
    "    * Type of shot (one-hot encoded feature combined from two columns, includes serves)\n",
    "    * Type of stroke (one-hot encoded forehand or backhand)\n",
    "    * Time difference between previous rally hit\n",
    "    * Player displacement from previous rally hit\n",
    "    * Player Distance from Baseline\n",
    "\n",
    "Next, I will adapt the code in this notebook to a new notebook/script that can efficiently import, clean, and transform the data into an output dataset suitable for predictive modeling."
   ]
  }
 ],
 "metadata": {
  "kaggle": {
   "accelerator": "none",
   "dataSources": [
    {
     "datasetId": 130300,
     "sourceId": 311436,
     "sourceType": "datasetVersion"
    }
   ],
   "dockerImageVersionId": 30786,
   "isGpuEnabled": false,
   "isInternetEnabled": true,
   "language": "python",
   "sourceType": "notebook"
  },
  "kernelspec": {
   "display_name": "Python 3 (ipykernel)",
   "language": "python",
   "name": "python3"
  },
  "language_info": {
   "codemirror_mode": {
    "name": "ipython",
    "version": 3
   },
   "file_extension": ".py",
   "mimetype": "text/x-python",
   "name": "python",
   "nbconvert_exporter": "python",
   "pygments_lexer": "ipython3",
   "version": "3.11.3"
  },
  "papermill": {
   "default_parameters": {},
   "duration": 21.003026,
   "end_time": "2025-02-03T22:17:33.693199",
   "environment_variables": {},
   "exception": null,
   "input_path": "__notebook__.ipynb",
   "output_path": "__notebook__.ipynb",
   "parameters": {},
   "start_time": "2025-02-03T22:17:12.690173",
   "version": "2.6.0"
  }
 },
 "nbformat": 4,
 "nbformat_minor": 5
}
